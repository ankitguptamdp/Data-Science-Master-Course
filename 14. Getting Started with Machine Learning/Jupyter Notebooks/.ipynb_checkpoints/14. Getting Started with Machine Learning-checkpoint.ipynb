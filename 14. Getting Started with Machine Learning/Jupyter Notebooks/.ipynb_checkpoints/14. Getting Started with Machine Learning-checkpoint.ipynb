{
 "cells": [
  {
   "cell_type": "markdown",
   "metadata": {},
   "source": [
    "# 01. Machine Learning Introduction Webinar"
   ]
  },
  {
   "cell_type": "markdown",
   "metadata": {},
   "source": [
    "<img src='../Images/01. Machine Learning Introduction Webinar/Image001.png'/>\n",
    "<img src='../Images/01. Machine Learning Introduction Webinar/Image002.png'/>\n",
    "<img src='../Images/01. Machine Learning Introduction Webinar/Image003.png'/>\n",
    "<img src='../Images/01. Machine Learning Introduction Webinar/Image004.png'/>\n",
    "<img src='../Images/01. Machine Learning Introduction Webinar/Image005.png'/>\n",
    "<img src='../Images/01. Machine Learning Introduction Webinar/Image006.png'/>\n",
    "<img src='../Images/01. Machine Learning Introduction Webinar/Image007.png'/>\n",
    "<img src='../Images/01. Machine Learning Introduction Webinar/Image008.png'/>\n",
    "<img src='../Images/01. Machine Learning Introduction Webinar/Image009.png'/>\n",
    "<img src='../Images/01. Machine Learning Introduction Webinar/Image010.png'/>\n",
    "<img src='../Images/01. Machine Learning Introduction Webinar/Image011.png'/>\n",
    "<img src='../Images/01. Machine Learning Introduction Webinar/Image012.png'/>\n",
    "<img src='../Images/01. Machine Learning Introduction Webinar/Image013.png'/>\n",
    "<img src='../Images/01. Machine Learning Introduction Webinar/Image014.png'/>\n",
    "<img src='../Images/01. Machine Learning Introduction Webinar/Image015.png'/>\n",
    "<img src='../Images/01. Machine Learning Introduction Webinar/Image016.png'/>\n",
    "<img src='../Images/01. Machine Learning Introduction Webinar/Image017.png'/>\n",
    "<img src='../Images/01. Machine Learning Introduction Webinar/Image018.png'/>\n",
    "<img src='../Images/01. Machine Learning Introduction Webinar/Image019.png'/>\n",
    "<img src='../Images/01. Machine Learning Introduction Webinar/Image020.png'/>\n",
    "<img src='../Images/01. Machine Learning Introduction Webinar/Image021.png'/>\n",
    "<img src='../Images/01. Machine Learning Introduction Webinar/Image022.png'/>\n",
    "<img src='../Images/01. Machine Learning Introduction Webinar/Image023.png'/>\n",
    "<img src='../Images/01. Machine Learning Introduction Webinar/Image024.png'/>\n",
    "<img src='../Images/01. Machine Learning Introduction Webinar/Image025.png'/>\n",
    "<img src='../Images/01. Machine Learning Introduction Webinar/Image026.png'/>\n",
    "<img src='../Images/01. Machine Learning Introduction Webinar/Image027.png'/>\n",
    "<img src='../Images/01. Machine Learning Introduction Webinar/Image028.png'/>\n",
    "<img src='../Images/01. Machine Learning Introduction Webinar/Image029.png'/>\n",
    "<img src='../Images/01. Machine Learning Introduction Webinar/Image030.png'/>\n",
    "<img src='../Images/01. Machine Learning Introduction Webinar/Image031.png'/>\n",
    "<img src='../Images/01. Machine Learning Introduction Webinar/Image032.png'/>\n",
    "<img src='../Images/01. Machine Learning Introduction Webinar/Image033.png'/>\n",
    "<img src='../Images/01. Machine Learning Introduction Webinar/Image034.png'/>\n",
    "<img src='../Images/01. Machine Learning Introduction Webinar/Image035.png'/>\n",
    "<img src='../Images/01. Machine Learning Introduction Webinar/Image036.png'/>\n",
    "<img src='../Images/01. Machine Learning Introduction Webinar/Image037.png'/>\n",
    "<img src='../Images/01. Machine Learning Introduction Webinar/Image038.png'/>\n",
    "<img src='../Images/01. Machine Learning Introduction Webinar/Image039.png'/>\n",
    "<img src='../Images/01. Machine Learning Introduction Webinar/Image040.png'/>\n",
    "<img src='../Images/01. Machine Learning Introduction Webinar/Image041.png'/>\n",
    "<img src='../Images/01. Machine Learning Introduction Webinar/Image042.png'/>\n",
    "<img src='../Images/01. Machine Learning Introduction Webinar/Image043.png'/>\n",
    "<img src='../Images/01. Machine Learning Introduction Webinar/Image044.png'/>\n",
    "<img src='../Images/01. Machine Learning Introduction Webinar/Image045.png'/>\n",
    "<img src='../Images/01. Machine Learning Introduction Webinar/Image046.png'/>\n",
    "<img src='../Images/01. Machine Learning Introduction Webinar/Image047.png'/>\n",
    "<img src='../Images/01. Machine Learning Introduction Webinar/Image048.png'/>\n",
    "<img src='../Images/01. Machine Learning Introduction Webinar/Image049.png'/>\n",
    "<img src='../Images/01. Machine Learning Introduction Webinar/Image050.png'/>\n",
    "<img src='../Images/01. Machine Learning Introduction Webinar/Image051.png'/>\n",
    "<img src='../Images/01. Machine Learning Introduction Webinar/Image052.png'/>\n",
    "<img src='../Images/01. Machine Learning Introduction Webinar/Image053.png'/>\n",
    "<img src='../Images/01. Machine Learning Introduction Webinar/Image054.png'/>\n",
    "<img src='../Images/01. Machine Learning Introduction Webinar/Image055.png'/>\n",
    "<img src='../Images/01. Machine Learning Introduction Webinar/Image056.png'/>\n",
    "<img src='../Images/01. Machine Learning Introduction Webinar/Image057.png'/>\n",
    "<img src='../Images/01. Machine Learning Introduction Webinar/Image058.png'/>\n",
    "<img src='../Images/01. Machine Learning Introduction Webinar/Image059.png'/>\n",
    "<img src='../Images/01. Machine Learning Introduction Webinar/Image060.png'/>\n",
    "<img src='../Images/01. Machine Learning Introduction Webinar/Image061.png'/>\n",
    "<img src='../Images/01. Machine Learning Introduction Webinar/Image062.png'/>\n",
    "<img src='../Images/01. Machine Learning Introduction Webinar/Image063.png'/>\n",
    "<img src='../Images/01. Machine Learning Introduction Webinar/Image064.png'/>\n",
    "<img src='../Images/01. Machine Learning Introduction Webinar/Image065.png'/>\n",
    "<img src='../Images/01. Machine Learning Introduction Webinar/Image066.png'/>\n",
    "<img src='../Images/01. Machine Learning Introduction Webinar/Image067.png'/>\n",
    "<img src='../Images/01. Machine Learning Introduction Webinar/Image068.png'/>\n",
    "<img src='../Images/01. Machine Learning Introduction Webinar/Image069.png'/>\n",
    "<img src='../Images/01. Machine Learning Introduction Webinar/Image070.png'/>\n",
    "<img src='../Images/01. Machine Learning Introduction Webinar/Image071.png'/>\n",
    "<img src='../Images/01. Machine Learning Introduction Webinar/Image072.png'/>\n",
    "<img src='../Images/01. Machine Learning Introduction Webinar/Image073.png'/>\n",
    "<img src='../Images/01. Machine Learning Introduction Webinar/Image074.png'/>\n",
    "<img src='../Images/01. Machine Learning Introduction Webinar/Image075.png'/>\n",
    "<img src='../Images/01. Machine Learning Introduction Webinar/Image076.png'/>\n",
    "<img src='../Images/01. Machine Learning Introduction Webinar/Image077.png'/>\n",
    "<img src='../Images/01. Machine Learning Introduction Webinar/Image078.png'/>\n",
    "<img src='../Images/01. Machine Learning Introduction Webinar/Image079.png'/>\n",
    "<img src='../Images/01. Machine Learning Introduction Webinar/Image080.png'/>\n",
    "<img src='../Images/01. Machine Learning Introduction Webinar/Image081.png'/>\n",
    "<img src='../Images/01. Machine Learning Introduction Webinar/Image082.png'/>\n",
    "<img src='../Images/01. Machine Learning Introduction Webinar/Image083.png'/>\n",
    "<img src='../Images/01. Machine Learning Introduction Webinar/Image084.png'/>\n",
    "<img src='../Images/01. Machine Learning Introduction Webinar/Image085.png'/>\n",
    "<img src='../Images/01. Machine Learning Introduction Webinar/Image086.png'/>"
   ]
  },
  {
   "cell_type": "code",
   "execution_count": 1,
   "metadata": {},
   "outputs": [],
   "source": [
    "import matplotlib.pyplot as plt\n",
    "import pandas as pd\n",
    "import numpy as np"
   ]
  },
  {
   "cell_type": "markdown",
   "metadata": {},
   "source": [
    "Data(X) - Acidity of Milk\n",
    "\n",
    "Data(Y) - Density of Milk"
   ]
  },
  {
   "cell_type": "code",
   "execution_count": 2,
   "metadata": {},
   "outputs": [
    {
     "name": "stdout",
     "output_type": "stream",
     "text": [
      "[[ 8. ]\n",
      " [ 9.1]\n",
      " [ 8.4]\n",
      " [ 6.9]\n",
      " [ 7.7]\n",
      " [15.6]\n",
      " [ 7.3]\n",
      " [ 7. ]\n",
      " [ 7.2]\n",
      " [10.1]\n",
      " [11.5]\n",
      " [ 7.1]\n",
      " [10. ]\n",
      " [ 8.9]\n",
      " [ 7.9]\n",
      " [ 5.6]\n",
      " [ 6.3]\n",
      " [ 6.7]\n",
      " [10.4]\n",
      " [ 8.5]\n",
      " [ 7.4]\n",
      " [ 6.3]\n",
      " [ 5.4]\n",
      " [ 8.9]\n",
      " [ 9.4]\n",
      " [ 7.5]\n",
      " [11.9]\n",
      " [ 7.8]\n",
      " [ 7.4]\n",
      " [10.8]\n",
      " [10.2]\n",
      " [ 6.2]\n",
      " [ 7.7]\n",
      " [13.7]\n",
      " [ 8. ]\n",
      " [ 6.7]\n",
      " [ 6.7]\n",
      " [ 7. ]\n",
      " [ 8.3]\n",
      " [ 7.4]\n",
      " [ 9.9]\n",
      " [ 6.1]\n",
      " [ 7. ]\n",
      " [ 5.4]\n",
      " [10.7]\n",
      " [ 7.6]\n",
      " [ 8.9]\n",
      " [ 9.2]\n",
      " [ 6.6]\n",
      " [ 7.2]\n",
      " [ 8. ]\n",
      " [ 7.8]\n",
      " [ 7.9]\n",
      " [ 7. ]\n",
      " [ 7. ]\n",
      " [ 7.6]\n",
      " [ 9.1]\n",
      " [ 9. ]\n",
      " [ 7.9]\n",
      " [ 6.6]\n",
      " [11.9]\n",
      " [ 6.5]\n",
      " [ 7.1]\n",
      " [ 8.8]\n",
      " [ 7.5]\n",
      " [ 7.7]\n",
      " [ 6. ]\n",
      " [10.6]\n",
      " [ 6.6]\n",
      " [ 8.2]\n",
      " [ 7.9]\n",
      " [ 7.1]\n",
      " [ 5.6]\n",
      " [ 6.4]\n",
      " [ 7.5]\n",
      " [ 9.8]\n",
      " [ 7. ]\n",
      " [10.5]\n",
      " [ 7.1]\n",
      " [ 6.2]\n",
      " [ 6.5]\n",
      " [ 7.7]\n",
      " [ 7.2]\n",
      " [ 9.3]\n",
      " [ 8.5]\n",
      " [ 7.7]\n",
      " [ 6.8]\n",
      " [ 7.8]\n",
      " [ 8.7]\n",
      " [ 9.6]\n",
      " [ 7.2]\n",
      " [ 9.3]\n",
      " [ 8.1]\n",
      " [ 6.6]\n",
      " [ 7.8]\n",
      " [10.2]\n",
      " [ 6.1]\n",
      " [ 7.3]\n",
      " [ 7.3]]\n"
     ]
    }
   ],
   "source": [
    "def readData(filename):\n",
    "    df = pd.read_csv(filename) # df : dataframe\n",
    "    return df.values\n",
    "\n",
    "x = readData('../CSV Files/linearX.csv')\n",
    "print(x)"
   ]
  },
  {
   "cell_type": "code",
   "execution_count": 3,
   "metadata": {},
   "outputs": [
    {
     "name": "stdout",
     "output_type": "stream",
     "text": [
      "(99, 1)\n"
     ]
    }
   ],
   "source": [
    "print(x.shape)"
   ]
  },
  {
   "cell_type": "markdown",
   "metadata": {},
   "source": [
    "<img src='../Images/01. Machine Learning Introduction Webinar/Image087.png'/>"
   ]
  },
  {
   "cell_type": "code",
   "execution_count": 4,
   "metadata": {},
   "outputs": [
    {
     "name": "stdout",
     "output_type": "stream",
     "text": [
      "[ 8.   9.1  8.4  6.9  7.7 15.6  7.3  7.   7.2 10.1 11.5  7.1 10.   8.9\n",
      "  7.9  5.6  6.3  6.7 10.4  8.5  7.4  6.3  5.4  8.9  9.4  7.5 11.9  7.8\n",
      "  7.4 10.8 10.2  6.2  7.7 13.7  8.   6.7  6.7  7.   8.3  7.4  9.9  6.1\n",
      "  7.   5.4 10.7  7.6  8.9  9.2  6.6  7.2  8.   7.8  7.9  7.   7.   7.6\n",
      "  9.1  9.   7.9  6.6 11.9  6.5  7.1  8.8  7.5  7.7  6.  10.6  6.6  8.2\n",
      "  7.9  7.1  5.6  6.4  7.5  9.8  7.  10.5  7.1  6.2  6.5  7.7  7.2  9.3\n",
      "  8.5  7.7  6.8  7.8  8.7  9.6  7.2  9.3  8.1  6.6  7.8 10.2  6.1  7.3\n",
      "  7.3]\n"
     ]
    }
   ],
   "source": [
    "x=x.reshape((99,))\n",
    "print(x)"
   ]
  },
  {
   "cell_type": "code",
   "execution_count": 7,
   "metadata": {},
   "outputs": [
    {
     "name": "stdout",
     "output_type": "stream",
     "text": [
      "(99, 1)\n",
      "[0.99007 0.99769 0.99386 0.99508 0.9963  1.0032  0.99768 0.99584 0.99609\n",
      " 0.99774 1.0003  0.99694 0.99965 0.99549 0.99364 0.99378 0.99379 0.99524\n",
      " 0.9988  0.99733 0.9966  0.9955  0.99471 0.99354 0.99786 0.9965  0.9988\n",
      " 0.9964  0.99713 0.9985  0.99565 0.99578 0.9976  1.0014  0.99685 0.99648\n",
      " 0.99472 0.99914 0.99408 0.9974  1.0002  0.99402 0.9966  0.99402 1.0029\n",
      " 0.99718 0.9986  0.9952  0.9952  0.9972  0.9976  0.9968  0.9978  0.9951\n",
      " 0.99629 0.99656 0.999   0.99836 0.99396 0.99387 1.0004  0.9972  0.9972\n",
      " 0.99546 0.9978  0.99596 0.99572 0.9992  0.99544 0.99747 0.99668 0.9962\n",
      " 0.99346 0.99514 0.99476 1.001   0.9961  0.99598 0.99608 0.9966  0.99732\n",
      " 0.9962  0.99546 0.99738 0.99456 0.9966  0.99553 0.9984  0.9952  0.997\n",
      " 0.99586 0.9984  0.99542 0.99655 0.9962  0.9976  0.99464 0.9983  0.9967 ]\n",
      "(99,)\n"
     ]
    }
   ],
   "source": [
    "y = readData('../CSV Files/linearY.csv')\n",
    "print(y.shape)\n",
    "y = y.reshape((99,))\n",
    "print(y)\n",
    "print(y.shape)"
   ]
  },
  {
   "cell_type": "code",
   "execution_count": 9,
   "metadata": {},
   "outputs": [
    {
     "data": {
      "text/plain": [
       "[<matplotlib.lines.Line2D at 0x7fd41a5c7f28>]"
      ]
     },
     "execution_count": 9,
     "metadata": {},
     "output_type": "execute_result"
    },
    {
     "data": {
      "image/png": "[encoded data removed]",
      "text/plain": [
       "<Figure size 432x288 with 1 Axes>"
      ]
     },
     "metadata": {},
     "output_type": "display_data"
    }
   ],
   "source": [
    "### Plot the data\n",
    "plt.plot(x,y)"
   ]
  },
  {
   "cell_type": "code",
   "execution_count": 10,
   "metadata": {},
   "outputs": [
    {
     "data": {
      "text/plain": [
       "[<matplotlib.lines.Line2D at 0x7fd41a543f60>]"
      ]
     },
     "execution_count": 10,
     "metadata": {},
     "output_type": "execute_result"
    },
    {
     "data": {
      "image/png": "[encoded data removed]",
      "text/plain": [
       "<Figure size 432x288 with 1 Axes>"
      ]
     },
     "metadata": {},
     "output_type": "display_data"
    }
   ],
   "source": [
    "### Plot the data\n",
    "a = [1,2,3]\n",
    "b = [10,20,30]\n",
    "plt.plot(a,b)"
   ]
  },
  {
   "cell_type": "code",
   "execution_count": 11,
   "metadata": {},
   "outputs": [
    {
     "data": {
      "image/png": "[encoded data removed]",
      "text/plain": [
       "<Figure size 432x288 with 1 Axes>"
      ]
     },
     "metadata": {},
     "output_type": "display_data"
    }
   ],
   "source": [
    "plt.scatter(a,b)\n",
    "plt.show()"
   ]
  },
  {
   "cell_type": "code",
   "execution_count": 12,
   "metadata": {},
   "outputs": [
    {
     "data": {
      "image/png": "[encoded data removed]",
      "text/plain": [
       "<Figure size 432x288 with 1 Axes>"
      ]
     },
     "metadata": {},
     "output_type": "display_data"
    }
   ],
   "source": [
    "plt.scatter(x,y)\n",
    "plt.show()"
   ]
  },
  {
   "cell_type": "markdown",
   "metadata": {},
   "source": [
    "here upto std deviation"
   ]
  },
  {
   "cell_type": "code",
   "execution_count": 15,
   "metadata": {},
   "outputs": [
    {
     "data": {
      "text/plain": [
       "<matplotlib.collections.PathCollection at 0x7fd41a0b7e80>"
      ]
     },
     "execution_count": 15,
     "metadata": {},
     "output_type": "execute_result"
    },
    {
     "data": {
      "image/png": "[encoded data removed]",
      "text/plain": [
       "<Figure size 432x288 with 1 Axes>"
      ]
     },
     "metadata": {},
     "output_type": "display_data"
    }
   ],
   "source": [
    "x = x - x.mean()\n",
    "plt.scatter(x,y)"
   ]
  },
  {
   "cell_type": "markdown",
   "metadata": {},
   "source": [
    "here 6,6"
   ]
  },
  {
   "cell_type": "code",
   "execution_count": 18,
   "metadata": {},
   "outputs": [
    {
     "data": {
      "text/plain": [
       "<matplotlib.collections.PathCollection at 0x7fd41a164a90>"
      ]
     },
     "execution_count": 18,
     "metadata": {},
     "output_type": "execute_result"
    },
    {
     "data": {
      "image/png": "[encoded data removed]",
      "text/plain": [
       "<Figure size 432x288 with 1 Axes>"
      ]
     },
     "metadata": {},
     "output_type": "display_data"
    }
   ],
   "source": [
    "# Normalisation (Optional Skip)\n",
    "x = x - x.mean()/x.std()\n",
    "plt.scatter(x,y)"
   ]
  },
  {
   "cell_type": "markdown",
   "metadata": {},
   "source": [
    "<img src='../Images/01. Machine Learning Introduction Webinar/Image088.png'/>\n",
    "<img src='../Images/01. Machine Learning Introduction Webinar/Image089.png'/>\n",
    "<img src='../Images/01. Machine Learning Introduction Webinar/Image090.png'/>\n",
    "<img src='../Images/01. Machine Learning Introduction Webinar/Image091.png'/>\n",
    "<img src='../Images/01. Machine Learning Introduction Webinar/Image092.png'/>"
   ]
  },
  {
   "cell_type": "code",
   "execution_count": 30,
   "metadata": {},
   "outputs": [],
   "source": [
    "X = x\n",
    "Y = y"
   ]
  },
  {
   "cell_type": "markdown",
   "metadata": {},
   "source": [
    "### Algorithm - Linear Regression !"
   ]
  },
  {
   "cell_type": "code",
   "execution_count": 46,
   "metadata": {},
   "outputs": [],
   "source": [
    "def hypothesis(theta, X):\n",
    "    return theta[0] + theta[1]*X\n",
    "\n",
    "def error(X, Y, theta):\n",
    "    total_error = 0\n",
    "    m = X.shape[0]    \n",
    "    for i in range(m):\n",
    "        total_error += (Y[i] - hypothesis(theta, X[i]))**2    \n",
    "    return 0.5*total_error\n",
    "\n",
    "def gradient(X, Y, theta):\n",
    "    grad = np.array([0.0, 0.0])\n",
    "    m = X.shape[0]\n",
    "    for i in range(m):\n",
    "        grad[0] += -1*(Y[i] - hypothesis(theta, X[i]))\n",
    "        grad[1] += -1*(Y[i] - hypothesis(theta, X[i]))*X[i]\n",
    "    return grad\n",
    "    \n",
    "def gradientDescent(X, Y, learning_rate, maxItr):\n",
    "    grad = np.array([0.0, 0.0])\n",
    "    theta = np.array([0.0, 0.0])\n",
    "    e = []\n",
    "    for i in range(maxItr):\n",
    "        grad = gradient(X, Y, theta)\n",
    "        ce = error(X, Y, theta)\n",
    "        theta[0] = theta[0] - learning_rate*grad[0]\n",
    "        theta[1] = theta[1] - learning_rate*grad[1]\n",
    "        e.append(ce)\n",
    "    return theta,e        "
   ]
  },
  {
   "cell_type": "markdown",
   "metadata": {},
   "source": [
    "<img src='../Images/01. Machine Learning Introduction Webinar/Image093.png'/>\n",
    "<img src='../Images/01. Machine Learning Introduction Webinar/Image094.png'/>\n",
    "<img src='../Images/01. Machine Learning Introduction Webinar/Image095.png'/>\n",
    "<img src='../Images/01. Machine Learning Introduction Webinar/Image096.png'/>\n",
    "<img src='../Images/01. Machine Learning Introduction Webinar/Image097.png'/>\n",
    "<img src='../Images/01. Machine Learning Introduction Webinar/Image098.png'/>\n",
    "<img src='../Images/01. Machine Learning Introduction Webinar/Image099.png'/>"
   ]
  },
  {
   "cell_type": "code",
   "execution_count": 47,
   "metadata": {},
   "outputs": [
    {
     "name": "stdout",
     "output_type": "stream",
     "text": [
      "0.9912044479804869 0.0007855593266291405\n"
     ]
    },
    {
     "data": {
      "image/png": "[encoded data removed]",
      "text/plain": [
       "<Figure size 432x288 with 1 Axes>"
      ]
     },
     "metadata": {},
     "output_type": "display_data"
    }
   ],
   "source": [
    "theta,e = gradientDescent(X, Y, learning_rate=0.001, maxItr=50)\n",
    "print(theta[0],theta[1])\n",
    "plt.scatter(X,Y)\n",
    "plt.plot(X,hypothesis(theta,X))\n",
    "plt.show()"
   ]
  },
  {
   "cell_type": "code",
   "execution_count": 58,
   "metadata": {},
   "outputs": [
    {
     "name": "stdout",
     "output_type": "stream",
     "text": [
      "0.9966045602774349 0.000785559345646009\n"
     ]
    },
    {
     "data": {
      "image/png": "[encoded data removed]",
      "text/plain": [
       "<Figure size 432x288 with 1 Axes>"
      ]
     },
     "metadata": {},
     "output_type": "display_data"
    }
   ],
   "source": [
    "theta,e = gradientDescent(X, Y, learning_rate=0.001, maxItr=100)\n",
    "print(theta[0],theta[1])\n",
    "plt.scatter(X,Y)\n",
    "plt.plot(X,hypothesis(theta,X),color='r')\n",
    "plt.show()"
   ]
  },
  {
   "cell_type": "code",
   "execution_count": 53,
   "metadata": {},
   "outputs": [
    {
     "data": {
      "image/png": "[encoded data removed]",
      "text/plain": [
       "<Figure size 432x288 with 1 Axes>"
      ]
     },
     "metadata": {},
     "output_type": "display_data"
    }
   ],
   "source": [
    "plt.plot(e)\n",
    "plt.show()"
   ]
  },
  {
   "cell_type": "code",
   "execution_count": 64,
   "metadata": {},
   "outputs": [
    {
     "name": "stdout",
     "output_type": "stream",
     "text": [
      "0.0015763690342342279\n",
      "0.00011708463670674526\n"
     ]
    }
   ],
   "source": [
    "print(e[50])\n",
    "print(e[99])"
   ]
  },
  {
   "cell_type": "code",
   "execution_count": 65,
   "metadata": {},
   "outputs": [
    {
     "name": "stdout",
     "output_type": "stream",
     "text": [
      "49.16754909500004\n",
      "39.91425870950065\n",
      "32.40244285994534\n",
      "26.304350450600904\n",
      "21.35391650932147\n",
      "17.335151057914185\n",
      "14.0727141246352\n",
      "11.42426499559236\n",
      "9.27425156029656\n",
      "7.528868610670295\n",
      "6.111965039917162\n",
      "4.9617213306243775\n",
      "4.027952350241778\n",
      "3.269917764676601\n",
      "2.6545445332925746\n",
      "2.1549839302746774\n",
      "1.7494401339739933\n",
      "1.4202192749849516\n",
      "1.152957452630995\n",
      "0.9359940380785283\n",
      "0.7598629212291714\n",
      "0.6168795044634244\n",
      "0.5008054237613148\n",
      "0.4065763689790831\n",
      "0.3300811280806996\n",
      "0.2679822150255817\n",
      "0.2175702553092337\n",
      "0.17664577599989492\n",
      "0.1434232427722687\n",
      "0.11645315707563517\n",
      "0.09455881453706534\n",
      "0.07678496536993318\n",
      "0.06235613684221664\n",
      "0.050642799414593\n",
      "0.041133900377513404\n",
      "0.03341456663031442\n",
      "0.02714800377500507\n",
      "0.02206080178250241\n",
      "0.017931006117786866\n",
      "0.014578433867375338\n",
      "0.011856812361918927\n",
      "0.009647397302168032\n",
      "0.007853791947247153\n",
      "0.006397741326517032\n",
      "0.005215717976557673\n",
      "0.004256150239037403\n",
      "0.0034771721901506506\n",
      "0.0028447970310863948\n",
      "0.0023314342445828365\n",
      "0.0019146858211364333\n",
      "0.0015763690342342279\n",
      "0.0013017231283102663\n",
      "0.0010787653072352559\n",
      "0.0008977679251287347\n",
      "0.0007508340693373046\n",
      "0.0006315530182719487\n",
      "0.0005347205417360589\n",
      "0.0004561118404517466\n",
      "0.0003922972181404403\n",
      "0.0003404924439334936\n",
      "0.0002984372764275282\n",
      "0.00026429684939100856\n",
      "0.00023658161658232993\n",
      "0.00021408236287302404\n",
      "0.0001958174462125481\n",
      "0.00018098996860265853\n",
      "0.00016895300745146821\n",
      "0.00015918139035197483\n",
      "0.00015124878181898866\n",
      "0.00014480908227930165\n",
      "0.00013958132775328193\n",
      "0.00013533743140130768\n",
      "0.0001318922320988766\n",
      "0.00012909541585996105\n",
      "0.00012682495764039582\n",
      "0.00012498179738729413\n",
      "0.00012348551805066796\n",
      "0.00012227083698891284\n",
      "0.00012128475768830157\n",
      "0.0001204842575259868\n",
      "0.00011983441069371721\n",
      "0.00011930686438543476\n",
      "0.00011887860176482418\n",
      "0.00011853093774115204\n",
      "0.00011824870373906992\n",
      "0.00011801958589394475\n",
      "0.00011783358779815536\n",
      "0.00011768259435799513\n",
      "0.00011756001773228056\n",
      "0.00011746050990494763\n",
      "0.0001173797293512119\n",
      "0.00011731415161690783\n",
      "0.0001172609155466222\n",
      "0.00011721769845152848\n",
      "0.00011718261477051407\n",
      "0.00011715413380318278\n",
      "0.00011713101292542242\n",
      "0.00011711224337373604\n",
      "0.00011709700623290716\n"
     ]
    }
   ],
   "source": [
    "for i in range(99):\n",
    "    print(e[i])"
   ]
  },
  {
   "cell_type": "code",
   "execution_count": 66,
   "metadata": {},
   "outputs": [],
   "source": [
    "def hypothesis(theta, X):\n",
    "    return theta[0] + theta[1]*X\n",
    "\n",
    "def error(X, Y, theta):\n",
    "    total_error = 0\n",
    "    m = X.shape[0]    \n",
    "    for i in range(m):\n",
    "        total_error += (Y[i] - hypothesis(theta, X[i]))**2    \n",
    "    return 0.5*total_error\n",
    "\n",
    "def gradient(X, Y, theta):\n",
    "    grad = np.array([0.0, 0.0])\n",
    "    m = X.shape[0]\n",
    "    for i in range(m):\n",
    "        grad[0] += -1*(Y[i] - hypothesis(theta, X[i]))\n",
    "        grad[1] += -1*(Y[i] - hypothesis(theta, X[i]))*X[i]\n",
    "    return grad\n",
    "    \n",
    "def gradientDescent(X, Y, learning_rate, maxItr):\n",
    "    grad = np.array([0.0, 0.0])\n",
    "    theta = np.array([0.0, 0.0])\n",
    "    e = []\n",
    "    for i in range(maxItr):\n",
    "        grad = gradient(X, Y, theta)\n",
    "        ce = error(X, Y, theta)\n",
    "        theta[0] = theta[0] - learning_rate*grad[0]\n",
    "        theta[1] = theta[1] - learning_rate*grad[1]\n",
    "        e.append(ce)\n",
    "    return theta,e  \n",
    "\n",
    "def gradientDescent2(X, Y, learning_rate, acceptable_error):\n",
    "    grad = np.array([0.0, 0.0])\n",
    "    theta = np.array([0.0, 0.0])\n",
    "    e = []\n",
    "    ce = error(X, Y, theta)\n",
    "    while ce > acceptable_error:\n",
    "        grad = gradient(X, Y, theta)\n",
    "        theta[0] = theta[0] - learning_rate*grad[0]\n",
    "        theta[1] = theta[1] - learning_rate*grad[1]\n",
    "        e.append(ce)\n",
    "        ce = error(X, Y, theta)\n",
    "    return theta,e "
   ]
  },
  {
   "cell_type": "code",
   "execution_count": 84,
   "metadata": {},
   "outputs": [
    {
     "name": "stdout",
     "output_type": "stream",
     "text": [
      "0.996630464269798 0.0007855593456460101\n"
     ]
    },
    {
     "data": {
      "image/png": "[encoded data removed]",
      "text/plain": [
       "<Figure size 432x288 with 1 Axes>"
      ]
     },
     "metadata": {},
     "output_type": "display_data"
    }
   ],
   "source": [
    "theta,e = gradientDescent2(X, Y, learning_rate=0.001, acceptable_error = 0.000117032)\n",
    "print(theta[0],theta[1])\n",
    "plt.scatter(X,Y)\n",
    "plt.plot(X,hypothesis(theta,X),color='r')\n",
    "plt.show()"
   ]
  },
  {
   "cell_type": "code",
   "execution_count": 85,
   "metadata": {},
   "outputs": [
    {
     "name": "stdout",
     "output_type": "stream",
     "text": [
      "0   49.16754909500004\n",
      "1   39.91425870950065\n",
      "2   32.40244285994534\n",
      "3   26.304350450600904\n",
      "4   21.35391650932147\n",
      "5   17.335151057914185\n",
      "6   14.0727141246352\n",
      "7   11.42426499559236\n",
      "8   9.27425156029656\n",
      "9   7.528868610670295\n",
      "10   6.111965039917162\n",
      "11   4.9617213306243775\n",
      "12   4.027952350241778\n",
      "13   3.269917764676601\n",
      "14   2.6545445332925746\n",
      "15   2.1549839302746774\n",
      "16   1.7494401339739933\n",
      "17   1.4202192749849516\n",
      "18   1.152957452630995\n",
      "19   0.9359940380785283\n",
      "20   0.7598629212291714\n",
      "21   0.6168795044634244\n",
      "22   0.5008054237613148\n",
      "23   0.4065763689790831\n",
      "24   0.3300811280806996\n",
      "25   0.2679822150255817\n",
      "26   0.2175702553092337\n",
      "27   0.17664577599989492\n",
      "28   0.1434232427722687\n",
      "29   0.11645315707563517\n",
      "30   0.09455881453706534\n",
      "31   0.07678496536993318\n",
      "32   0.06235613684221664\n",
      "33   0.050642799414593\n",
      "34   0.041133900377513404\n",
      "35   0.03341456663031442\n",
      "36   0.02714800377500507\n",
      "37   0.02206080178250241\n",
      "38   0.017931006117786866\n",
      "39   0.014578433867375338\n",
      "40   0.011856812361918927\n",
      "41   0.009647397302168032\n",
      "42   0.007853791947247153\n",
      "43   0.006397741326517032\n",
      "44   0.005215717976557673\n",
      "45   0.004256150239037403\n",
      "46   0.0034771721901506506\n",
      "47   0.0028447970310863948\n",
      "48   0.0023314342445828365\n",
      "49   0.0019146858211364333\n",
      "50   0.0015763690342342279\n",
      "51   0.0013017231283102663\n",
      "52   0.0010787653072352559\n",
      "53   0.0008977679251287347\n",
      "54   0.0007508340693373046\n",
      "55   0.0006315530182719487\n",
      "56   0.0005347205417360589\n",
      "57   0.0004561118404517466\n",
      "58   0.0003922972181404403\n",
      "59   0.0003404924439334936\n",
      "60   0.0002984372764275282\n",
      "61   0.00026429684939100856\n",
      "62   0.00023658161658232993\n",
      "63   0.00021408236287302404\n",
      "64   0.0001958174462125481\n",
      "65   0.00018098996860265853\n",
      "66   0.00016895300745146821\n",
      "67   0.00015918139035197483\n",
      "68   0.00015124878181898866\n",
      "69   0.00014480908227930165\n",
      "70   0.00013958132775328193\n",
      "71   0.00013533743140130768\n",
      "72   0.0001318922320988766\n",
      "73   0.00012909541585996105\n",
      "74   0.00012682495764039582\n",
      "75   0.00012498179738729413\n",
      "76   0.00012348551805066796\n",
      "77   0.00012227083698891284\n",
      "78   0.00012128475768830157\n",
      "79   0.0001204842575259868\n",
      "80   0.00011983441069371721\n",
      "81   0.00011930686438543476\n",
      "82   0.00011887860176482418\n",
      "83   0.00011853093774115204\n",
      "84   0.00011824870373906992\n",
      "85   0.00011801958589394475\n",
      "86   0.00011783358779815536\n",
      "87   0.00011768259435799513\n",
      "88   0.00011756001773228056\n",
      "89   0.00011746050990494763\n",
      "90   0.0001173797293512119\n",
      "91   0.00011731415161690783\n",
      "92   0.0001172609155466222\n",
      "93   0.00011721769845152848\n",
      "94   0.00011718261477051407\n",
      "95   0.00011715413380318278\n",
      "96   0.00011713101292542242\n",
      "97   0.00011711224337373604\n",
      "98   0.00011709700623290716\n",
      "99   0.00011708463670674526\n",
      "100   0.00011707459511303731\n",
      "101   0.00011706644333722359\n",
      "102   0.00011705982571746629\n",
      "103   0.00011705445352712984\n",
      "104   0.00011705009237764235\n",
      "105   0.0001170465519921274\n",
      "106   0.00011704367790362584\n",
      "107   0.00011704134471570605\n",
      "108   0.0001170394506314198\n",
      "109   0.00011703791301190216\n",
      "110   0.0001170366647708402\n",
      "111   0.00011703565144749758\n",
      "112   0.00011703482883059498\n",
      "113   0.00011703416102937085\n",
      "114   0.00011703361890766895\n",
      "115   0.00011703317881272959\n",
      "116   0.00011703282154321735\n",
      "117   0.00011703253151147043\n",
      "118   0.000117032296063408\n",
      "119   0.00011703210492643562\n"
     ]
    }
   ],
   "source": [
    "for i in range(len(e)):\n",
    "    print(i,' ',e[i])"
   ]
  },
  {
   "cell_type": "markdown",
   "metadata": {},
   "source": [
    "<img src='../Images/01. Machine Learning Introduction Webinar/Image100.png'/>\n",
    "<img src='../Images/01. Machine Learning Introduction Webinar/Image101.png'/>\n",
    "<img src='../Images/01. Machine Learning Introduction Webinar/Image102.png'/>\n",
    "<img src='../Images/01. Machine Learning Introduction Webinar/Image103.png'/>"
   ]
  },
  {
   "cell_type": "markdown",
   "metadata": {},
   "source": [
    "# 02. Machine Learning Pipeline"
   ]
  },
  {
   "cell_type": "markdown",
   "metadata": {},
   "source": [
    "<img src='../Images/02. Machine Learning Pipeline/Image01.png'/>"
   ]
  },
  {
   "cell_type": "markdown",
   "metadata": {},
   "source": [
    "# 03. Supervised Learning Introduction"
   ]
  },
  {
   "cell_type": "markdown",
   "metadata": {},
   "source": [
    "<img src='../Images/03. Supervised Learning Introduction/Image001.png'/>\n",
    "<img src='../Images/03. Supervised Learning Introduction/Image002.png'/>\n",
    "<img src='../Images/03. Supervised Learning Introduction/Image003.png'/>\n",
    "<img src='../Images/03. Supervised Learning Introduction/Image004.png'/>\n",
    "<img src='../Images/03. Supervised Learning Introduction/Image005.png'/>\n",
    "<img src='../Images/03. Supervised Learning Introduction/Image006.png'/>\n",
    "<img src='../Images/03. Supervised Learning Introduction/Image007.png'/>\n",
    "<img src='../Images/03. Supervised Learning Introduction/Image008.png'/>\n",
    "<img src='../Images/03. Supervised Learning Introduction/Image009.png'/>\n",
    "<img src='../Images/03. Supervised Learning Introduction/Image010.png'/>\n",
    "<img src='../Images/03. Supervised Learning Introduction/Image011.png'/>\n",
    "<img src='../Images/03. Supervised Learning Introduction/Image012.png'/>"
   ]
  },
  {
   "cell_type": "markdown",
   "metadata": {},
   "source": [
    "# 04. Unsupervised Learning Introduction"
   ]
  },
  {
   "cell_type": "markdown",
   "metadata": {},
   "source": [
    "<img src='../Images/04. Unsupervised Learning Introduction/Image001.png'/>\n",
    "<img src='../Images/04. Unsupervised Learning Introduction/Image002.png'/>\n",
    "<img src='../Images/04. Unsupervised Learning Introduction/Image003.png'/>\n",
    "<img src='../Images/04. Unsupervised Learning Introduction/Image004.png'/>\n",
    "<img src='../Images/04. Unsupervised Learning Introduction/Image005.png'/>\n",
    "<img src='../Images/04. Unsupervised Learning Introduction/Image006.png'/>\n",
    "<img src='../Images/04. Unsupervised Learning Introduction/Image007.png'/>\n",
    "<img src='../Images/04. Unsupervised Learning Introduction/Image008.png'/>"
   ]
  },
  {
   "cell_type": "markdown",
   "metadata": {},
   "source": [
    "# 05. Reinforcement Learning Introduction"
   ]
  },
  {
   "cell_type": "markdown",
   "metadata": {},
   "source": [
    "<img src='../Images/05. Reinforcement Learning Introduction/Image001.png'/>\n",
    "<img src='../Images/05. Reinforcement Learning Introduction/Image002.png'/>\n",
    "<img src='../Images/05. Reinforcement Learning Introduction/Image003.png'/>\n",
    "<img src='../Images/05. Reinforcement Learning Introduction/Image004.png'/>\n",
    "<img src='../Images/05. Reinforcement Learning Introduction/Image005.png'/>\n",
    "<img src='../Images/05. Reinforcement Learning Introduction/Image006.png'/>"
   ]
  }
 ],
 "metadata": {
  "kernelspec": {
   "display_name": "Python 3",
   "language": "python",
   "name": "python3"
  },
  "language_info": {
   "codemirror_mode": {
    "name": "ipython",
    "version": 3
   },
   "file_extension": ".py",
   "mimetype": "text/x-python",
   "name": "python",
   "nbconvert_exporter": "python",
   "pygments_lexer": "ipython3",
   "version": "3.6.8"
  }
 },
 "nbformat": 4,
 "nbformat_minor": 2
}
