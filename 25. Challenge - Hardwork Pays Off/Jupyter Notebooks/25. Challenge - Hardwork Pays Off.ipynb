{
 "cells": [
  {
   "cell_type": "markdown",
   "metadata": {},
   "source": [
    "# 01. Quiz - Linear Regression"
   ]
  },
  {
   "cell_type": "markdown",
   "metadata": {},
   "source": [
    "<img src = '../Images/01. Quiz - Linear Regression/Image001.png'/>\n",
    "<img src = '../Images/01. Quiz - Linear Regression/Image002.png'/>\n",
    "<img src = '../Images/01. Quiz - Linear Regression/Image003.png'/>\n",
    "<img src = '../Images/01. Quiz - Linear Regression/Image004.png'/>\n",
    "<img src = '../Images/01. Quiz - Linear Regression/Image005.png'/>\n",
    "<img src = '../Images/01. Quiz - Linear Regression/Image006.png'/>\n",
    "<img src = '../Images/01. Quiz - Linear Regression/Image007.png'/>\n",
    "<img src = '../Images/01. Quiz - Linear Regression/Image008.png'/>\n",
    "<img src = '../Images/01. Quiz - Linear Regression/Image009.png'/>\n",
    "<img src = '../Images/01. Quiz - Linear Regression/Image010.png'/>"
   ]
  },
  {
   "cell_type": "markdown",
   "metadata": {},
   "source": [
    "# 02. Challenge - Hardwork Pays Off"
   ]
  },
  {
   "cell_type": "code",
   "execution_count": 2,
   "metadata": {},
   "outputs": [],
   "source": [
    "import pandas as pd"
   ]
  },
  {
   "cell_type": "code",
   "execution_count": 6,
   "metadata": {},
   "outputs": [],
   "source": [
    "X = pd.read_csv('../Csv Files/Linear_X_Train.csv').values\n",
    "X = (X-X.mean())/X.std()\n",
    "Y = pd.read_csv('../Csv Files/Linear_Y_Train.csv').values"
   ]
  },
  {
   "cell_type": "code",
   "execution_count": 7,
   "metadata": {},
   "outputs": [],
   "source": [
    "def hypothesis(x, theta):\n",
    "    return theta[0] + theta[1]*x\n",
    "\n",
    "def gradient(X, Y, theta):\n",
    "    m = X.shape[0]\n",
    "    grad = np.zeros((2,))\n",
    "    for i in range(m):\n",
    "        x = X[i]\n",
    "        y_ = hypothesis(x,theta)\n",
    "        y = Y[i]\n",
    "        grad[0] += (y_ - y)\n",
    "        grad[1] += (y_ - y)*x        \n",
    "    return grad/m\n",
    "\n",
    "def gradientDescent(X, Y, max_steps = 100, learning_rate = 0.1):\n",
    "    theta = np.zeros((2,))\n",
    "    for i in range(max_steps):\n",
    "        grad = gradient(X, Y, theta)\n",
    "        theta[0] = theta[0] - learning_rate*grad[0]\n",
    "        theta[1] = theta[1] - learning_rate*grad[1]\n",
    "    return theta"
   ]
  },
  {
   "cell_type": "code",
   "execution_count": 8,
   "metadata": {},
   "outputs": [],
   "source": [
    "theta = gradientDescent(X,Y)"
   ]
  },
  {
   "cell_type": "code",
   "execution_count": 10,
   "metadata": {},
   "outputs": [],
   "source": [
    "x_test = pd.read_csv('../Csv Files/Linear_X_Test.csv').values\n",
    "y_test = hypothesis(x_test,theta)"
   ]
  },
  {
   "cell_type": "code",
   "execution_count": 11,
   "metadata": {},
   "outputs": [],
   "source": [
    "df = pd.DataFrame(data=y_test,columns=['y'])"
   ]
  },
  {
   "cell_type": "code",
   "execution_count": 12,
   "metadata": {},
   "outputs": [],
   "source": [
    "df.to_csv('../Csv Files/y_prediction.csv',index=False)"
   ]
  },
  {
   "cell_type": "markdown",
   "metadata": {},
   "source": [
    "<img src='../Images/02. Challenge - Hardwork Pays Off/Image001.png'/>\n",
    "<img src='../Images/02. Challenge - Hardwork Pays Off/Image002.png'/>"
   ]
  }
 ],
 "metadata": {
  "kernelspec": {
   "display_name": "Python 3",
   "language": "python",
   "name": "python3"
  },
  "language_info": {
   "codemirror_mode": {
    "name": "ipython",
    "version": 3
   },
   "file_extension": ".py",
   "mimetype": "text/x-python",
   "name": "python",
   "nbconvert_exporter": "python",
   "pygments_lexer": "ipython3",
   "version": "3.6.9"
  }
 },
 "nbformat": 4,
 "nbformat_minor": 2
}
