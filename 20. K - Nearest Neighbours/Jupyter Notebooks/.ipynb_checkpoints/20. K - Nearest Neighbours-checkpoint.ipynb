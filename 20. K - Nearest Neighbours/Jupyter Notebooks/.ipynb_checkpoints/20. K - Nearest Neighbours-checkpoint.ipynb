{
 "cells": [
  {
   "cell_type": "markdown",
   "metadata": {},
   "source": [
    "# 01. Introduction"
   ]
  },
  {
   "cell_type": "markdown",
   "metadata": {},
   "source": [
    "<img src = '../Images/01. Introduction/Image001.png'/>"
   ]
  },
  {
   "cell_type": "markdown",
   "metadata": {},
   "source": [
    "# 02. Implementation"
   ]
  },
  {
   "cell_type": "code",
   "execution_count": 17,
   "metadata": {},
   "outputs": [],
   "source": [
    "import pandas as pd\n",
    "import numpy as np\n",
    "import matplotlib.pyplot as plt"
   ]
  },
  {
   "cell_type": "code",
   "execution_count": 18,
   "metadata": {},
   "outputs": [],
   "source": [
    "dfx = pd.read_csv('../Csv Files/xdata.csv')\n",
    "dfy = pd.read_csv('../Csv Files/ydata.csv')"
   ]
  },
  {
   "cell_type": "code",
   "execution_count": 19,
   "metadata": {},
   "outputs": [
    {
     "name": "stdout",
     "output_type": "stream",
     "text": [
      "[[ 1.00000000e+00  3.51627900e+00  3.71975047e+00]\n",
      " [ 2.00000000e+00  4.60649561e+00  3.41437943e+00]\n",
      " [ 3.00000000e+00  4.67701056e+00  3.04724443e+00]\n",
      " ...\n",
      " [ 3.97000000e+02  7.89625683e-01  9.31669806e-01]\n",
      " [ 3.98000000e+02 -1.00253042e+00 -6.76162472e-01]\n",
      " [ 3.99000000e+02  2.92386778e-01  5.61177823e-01]]\n",
      "[[  1.   0.]\n",
      " [  2.   0.]\n",
      " [  3.   0.]\n",
      " [  4.   0.]\n",
      " [  5.   0.]\n",
      " [  6.   0.]\n",
      " [  7.   0.]\n",
      " [  8.   0.]\n",
      " [  9.   0.]\n",
      " [ 10.   0.]\n",
      " [ 11.   0.]\n",
      " [ 12.   0.]\n",
      " [ 13.   0.]\n",
      " [ 14.   0.]\n",
      " [ 15.   0.]\n",
      " [ 16.   0.]\n",
      " [ 17.   0.]\n",
      " [ 18.   0.]\n",
      " [ 19.   0.]\n",
      " [ 20.   0.]\n",
      " [ 21.   0.]\n",
      " [ 22.   0.]\n",
      " [ 23.   0.]\n",
      " [ 24.   0.]\n",
      " [ 25.   0.]\n",
      " [ 26.   0.]\n",
      " [ 27.   0.]\n",
      " [ 28.   0.]\n",
      " [ 29.   0.]\n",
      " [ 30.   0.]\n",
      " [ 31.   0.]\n",
      " [ 32.   0.]\n",
      " [ 33.   0.]\n",
      " [ 34.   0.]\n",
      " [ 35.   0.]\n",
      " [ 36.   0.]\n",
      " [ 37.   0.]\n",
      " [ 38.   0.]\n",
      " [ 39.   0.]\n",
      " [ 40.   0.]\n",
      " [ 41.   0.]\n",
      " [ 42.   0.]\n",
      " [ 43.   0.]\n",
      " [ 44.   0.]\n",
      " [ 45.   0.]\n",
      " [ 46.   0.]\n",
      " [ 47.   0.]\n",
      " [ 48.   0.]\n",
      " [ 49.   0.]\n",
      " [ 50.   0.]\n",
      " [ 51.   0.]\n",
      " [ 52.   0.]\n",
      " [ 53.   0.]\n",
      " [ 54.   0.]\n",
      " [ 55.   0.]\n",
      " [ 56.   0.]\n",
      " [ 57.   0.]\n",
      " [ 58.   0.]\n",
      " [ 59.   0.]\n",
      " [ 60.   0.]\n",
      " [ 61.   0.]\n",
      " [ 62.   0.]\n",
      " [ 63.   0.]\n",
      " [ 64.   0.]\n",
      " [ 65.   0.]\n",
      " [ 66.   0.]\n",
      " [ 67.   0.]\n",
      " [ 68.   0.]\n",
      " [ 69.   0.]\n",
      " [ 70.   0.]\n",
      " [ 71.   0.]\n",
      " [ 72.   0.]\n",
      " [ 73.   0.]\n",
      " [ 74.   0.]\n",
      " [ 75.   0.]\n",
      " [ 76.   0.]\n",
      " [ 77.   0.]\n",
      " [ 78.   0.]\n",
      " [ 79.   0.]\n",
      " [ 80.   0.]\n",
      " [ 81.   0.]\n",
      " [ 82.   0.]\n",
      " [ 83.   0.]\n",
      " [ 84.   0.]\n",
      " [ 85.   0.]\n",
      " [ 86.   0.]\n",
      " [ 87.   0.]\n",
      " [ 88.   0.]\n",
      " [ 89.   0.]\n",
      " [ 90.   0.]\n",
      " [ 91.   0.]\n",
      " [ 92.   0.]\n",
      " [ 93.   0.]\n",
      " [ 94.   0.]\n",
      " [ 95.   0.]\n",
      " [ 96.   0.]\n",
      " [ 97.   0.]\n",
      " [ 98.   0.]\n",
      " [ 99.   0.]\n",
      " [100.   0.]\n",
      " [101.   0.]\n",
      " [102.   0.]\n",
      " [103.   0.]\n",
      " [104.   0.]\n",
      " [105.   0.]\n",
      " [106.   0.]\n",
      " [107.   0.]\n",
      " [108.   0.]\n",
      " [109.   0.]\n",
      " [110.   0.]\n",
      " [111.   0.]\n",
      " [112.   0.]\n",
      " [113.   0.]\n",
      " [114.   0.]\n",
      " [115.   0.]\n",
      " [116.   0.]\n",
      " [117.   0.]\n",
      " [118.   0.]\n",
      " [119.   0.]\n",
      " [120.   0.]\n",
      " [121.   0.]\n",
      " [122.   0.]\n",
      " [123.   0.]\n",
      " [124.   0.]\n",
      " [125.   0.]\n",
      " [126.   0.]\n",
      " [127.   0.]\n",
      " [128.   0.]\n",
      " [129.   0.]\n",
      " [130.   0.]\n",
      " [131.   0.]\n",
      " [132.   0.]\n",
      " [133.   0.]\n",
      " [134.   0.]\n",
      " [135.   0.]\n",
      " [136.   0.]\n",
      " [137.   0.]\n",
      " [138.   0.]\n",
      " [139.   0.]\n",
      " [140.   0.]\n",
      " [141.   0.]\n",
      " [142.   0.]\n",
      " [143.   0.]\n",
      " [144.   0.]\n",
      " [145.   0.]\n",
      " [146.   0.]\n",
      " [147.   0.]\n",
      " [148.   0.]\n",
      " [149.   0.]\n",
      " [150.   0.]\n",
      " [151.   0.]\n",
      " [152.   0.]\n",
      " [153.   0.]\n",
      " [154.   0.]\n",
      " [155.   0.]\n",
      " [156.   0.]\n",
      " [157.   0.]\n",
      " [158.   0.]\n",
      " [159.   0.]\n",
      " [160.   0.]\n",
      " [161.   0.]\n",
      " [162.   0.]\n",
      " [163.   0.]\n",
      " [164.   0.]\n",
      " [165.   0.]\n",
      " [166.   0.]\n",
      " [167.   0.]\n",
      " [168.   0.]\n",
      " [169.   0.]\n",
      " [170.   0.]\n",
      " [171.   0.]\n",
      " [172.   0.]\n",
      " [173.   0.]\n",
      " [174.   0.]\n",
      " [175.   0.]\n",
      " [176.   0.]\n",
      " [177.   0.]\n",
      " [178.   0.]\n",
      " [179.   0.]\n",
      " [180.   0.]\n",
      " [181.   0.]\n",
      " [182.   0.]\n",
      " [183.   0.]\n",
      " [184.   0.]\n",
      " [185.   0.]\n",
      " [186.   0.]\n",
      " [187.   0.]\n",
      " [188.   0.]\n",
      " [189.   0.]\n",
      " [190.   0.]\n",
      " [191.   0.]\n",
      " [192.   0.]\n",
      " [193.   0.]\n",
      " [194.   0.]\n",
      " [195.   0.]\n",
      " [196.   0.]\n",
      " [197.   0.]\n",
      " [198.   0.]\n",
      " [199.   0.]\n",
      " [200.   1.]\n",
      " [201.   1.]\n",
      " [202.   1.]\n",
      " [203.   1.]\n",
      " [204.   1.]\n",
      " [205.   1.]\n",
      " [206.   1.]\n",
      " [207.   1.]\n",
      " [208.   1.]\n",
      " [209.   1.]\n",
      " [210.   1.]\n",
      " [211.   1.]\n",
      " [212.   1.]\n",
      " [213.   1.]\n",
      " [214.   1.]\n",
      " [215.   1.]\n",
      " [216.   1.]\n",
      " [217.   1.]\n",
      " [218.   1.]\n",
      " [219.   1.]\n",
      " [220.   1.]\n",
      " [221.   1.]\n",
      " [222.   1.]\n",
      " [223.   1.]\n",
      " [224.   1.]\n",
      " [225.   1.]\n",
      " [226.   1.]\n",
      " [227.   1.]\n",
      " [228.   1.]\n",
      " [229.   1.]\n",
      " [230.   1.]\n",
      " [231.   1.]\n",
      " [232.   1.]\n",
      " [233.   1.]\n",
      " [234.   1.]\n",
      " [235.   1.]\n",
      " [236.   1.]\n",
      " [237.   1.]\n",
      " [238.   1.]\n",
      " [239.   1.]\n",
      " [240.   1.]\n",
      " [241.   1.]\n",
      " [242.   1.]\n",
      " [243.   1.]\n",
      " [244.   1.]\n",
      " [245.   1.]\n",
      " [246.   1.]\n",
      " [247.   1.]\n",
      " [248.   1.]\n",
      " [249.   1.]\n",
      " [250.   1.]\n",
      " [251.   1.]\n",
      " [252.   1.]\n",
      " [253.   1.]\n",
      " [254.   1.]\n",
      " [255.   1.]\n",
      " [256.   1.]\n",
      " [257.   1.]\n",
      " [258.   1.]\n",
      " [259.   1.]\n",
      " [260.   1.]\n",
      " [261.   1.]\n",
      " [262.   1.]\n",
      " [263.   1.]\n",
      " [264.   1.]\n",
      " [265.   1.]\n",
      " [266.   1.]\n",
      " [267.   1.]\n",
      " [268.   1.]\n",
      " [269.   1.]\n",
      " [270.   1.]\n",
      " [271.   1.]\n",
      " [272.   1.]\n",
      " [273.   1.]\n",
      " [274.   1.]\n",
      " [275.   1.]\n",
      " [276.   1.]\n",
      " [277.   1.]\n",
      " [278.   1.]\n",
      " [279.   1.]\n",
      " [280.   1.]\n",
      " [281.   1.]\n",
      " [282.   1.]\n",
      " [283.   1.]\n",
      " [284.   1.]\n",
      " [285.   1.]\n",
      " [286.   1.]\n",
      " [287.   1.]\n",
      " [288.   1.]\n",
      " [289.   1.]\n",
      " [290.   1.]\n",
      " [291.   1.]\n",
      " [292.   1.]\n",
      " [293.   1.]\n",
      " [294.   1.]\n",
      " [295.   1.]\n",
      " [296.   1.]\n",
      " [297.   1.]\n",
      " [298.   1.]\n",
      " [299.   1.]\n",
      " [300.   1.]\n",
      " [301.   1.]\n",
      " [302.   1.]\n",
      " [303.   1.]\n",
      " [304.   1.]\n",
      " [305.   1.]\n",
      " [306.   1.]\n",
      " [307.   1.]\n",
      " [308.   1.]\n",
      " [309.   1.]\n",
      " [310.   1.]\n",
      " [311.   1.]\n",
      " [312.   1.]\n",
      " [313.   1.]\n",
      " [314.   1.]\n",
      " [315.   1.]\n",
      " [316.   1.]\n",
      " [317.   1.]\n",
      " [318.   1.]\n",
      " [319.   1.]\n",
      " [320.   1.]\n",
      " [321.   1.]\n",
      " [322.   1.]\n",
      " [323.   1.]\n",
      " [324.   1.]\n",
      " [325.   1.]\n",
      " [326.   1.]\n",
      " [327.   1.]\n",
      " [328.   1.]\n",
      " [329.   1.]\n",
      " [330.   1.]\n",
      " [331.   1.]\n",
      " [332.   1.]\n",
      " [333.   1.]\n",
      " [334.   1.]\n",
      " [335.   1.]\n",
      " [336.   1.]\n",
      " [337.   1.]\n",
      " [338.   1.]\n",
      " [339.   1.]\n",
      " [340.   1.]\n",
      " [341.   1.]\n",
      " [342.   1.]\n",
      " [343.   1.]\n",
      " [344.   1.]\n",
      " [345.   1.]\n",
      " [346.   1.]\n",
      " [347.   1.]\n",
      " [348.   1.]\n",
      " [349.   1.]\n",
      " [350.   1.]\n",
      " [351.   1.]\n",
      " [352.   1.]\n",
      " [353.   1.]\n",
      " [354.   1.]\n",
      " [355.   1.]\n",
      " [356.   1.]\n",
      " [357.   1.]\n",
      " [358.   1.]\n",
      " [359.   1.]\n",
      " [360.   1.]\n",
      " [361.   1.]\n",
      " [362.   1.]\n",
      " [363.   1.]\n",
      " [364.   1.]\n",
      " [365.   1.]\n",
      " [366.   1.]\n",
      " [367.   1.]\n",
      " [368.   1.]\n",
      " [369.   1.]\n",
      " [370.   1.]\n",
      " [371.   1.]\n",
      " [372.   1.]\n",
      " [373.   1.]\n",
      " [374.   1.]\n",
      " [375.   1.]\n",
      " [376.   1.]\n",
      " [377.   1.]\n",
      " [378.   1.]\n",
      " [379.   1.]\n",
      " [380.   1.]\n",
      " [381.   1.]\n",
      " [382.   1.]\n",
      " [383.   1.]\n",
      " [384.   1.]\n",
      " [385.   1.]\n",
      " [386.   1.]\n",
      " [387.   1.]\n",
      " [388.   1.]\n",
      " [389.   1.]\n",
      " [390.   1.]\n",
      " [391.   1.]\n",
      " [392.   1.]\n",
      " [393.   1.]\n",
      " [394.   1.]\n",
      " [395.   1.]\n",
      " [396.   1.]\n",
      " [397.   1.]\n",
      " [398.   1.]\n",
      " [399.   1.]]\n",
      "(399, 3)\n",
      "(399, 2)\n"
     ]
    }
   ],
   "source": [
    "X = dfx.values\n",
    "Y = dfy.values\n",
    "print(X)\n",
    "print(Y)\n",
    "print(X.shape)\n",
    "print(Y.shape)"
   ]
  },
  {
   "cell_type": "code",
   "execution_count": 20,
   "metadata": {},
   "outputs": [],
   "source": [
    "X = X[:,1:]\n",
    "Y = Y[:,1:].reshape((-1,))"
   ]
  },
  {
   "cell_type": "code",
   "execution_count": 21,
   "metadata": {},
   "outputs": [
    {
     "name": "stdout",
     "output_type": "stream",
     "text": [
      "(399, 2)\n",
      "(399,)\n"
     ]
    }
   ],
   "source": [
    "print(X.shape)\n",
    "print(Y.shape)"
   ]
  },
  {
   "cell_type": "code",
   "execution_count": 24,
   "metadata": {},
   "outputs": [
    {
     "data": {
      "image/png": "[encoded data removed]",
      "text/plain": [
       "<Figure size 432x288 with 1 Axes>"
      ]
     },
     "metadata": {},
     "output_type": "display_data"
    }
   ],
   "source": [
    "plt.scatter(X[:,0],X[:,1],c=Y)\n",
    "plt.show()"
   ]
  },
  {
   "cell_type": "code",
   "execution_count": 28,
   "metadata": {},
   "outputs": [],
   "source": [
    "plt.style.use('seaborn')"
   ]
  },
  {
   "cell_type": "code",
   "execution_count": 29,
   "metadata": {},
   "outputs": [
    {
     "data": {
      "image/png": "[encoded data removed]",
      "text/plain": [
       "<Figure size 576x396 with 1 Axes>"
      ]
     },
     "metadata": {},
     "output_type": "display_data"
    }
   ],
   "source": [
    "plt.scatter(X[:,0],X[:,1],c=Y)\n",
    "plt.show()"
   ]
  },
  {
   "cell_type": "code",
   "execution_count": 31,
   "metadata": {},
   "outputs": [
    {
     "data": {
      "image/png": "[encoded data removed]",
      "text/plain": [
       "<Figure size 576x396 with 1 Axes>"
      ]
     },
     "metadata": {},
     "output_type": "display_data"
    }
   ],
   "source": [
    "query_x = np.array([2,3])\n",
    "plt.scatter(X[:,0],X[:,1],c=Y)\n",
    "plt.scatter(query_x[0],query_x[1],color='red')\n",
    "plt.show()"
   ]
  },
  {
   "cell_type": "code",
   "execution_count": 43,
   "metadata": {},
   "outputs": [],
   "source": [
    "def dist(x1, x2):\n",
    "    return np.sqrt(sum((x1-x2)**2))\n",
    "\n",
    "def knn(X, Y, queryPoint, k=5):\n",
    "    vals = []\n",
    "    m = X.shape[0]\n",
    "    for i in range(m):\n",
    "        d = dist(queryPoint, X[i])\n",
    "        vals.append((d,Y[i]))\n",
    "        \n",
    "    vals = sorted(vals)\n",
    "    # Nearest / First K points\n",
    "    vals = vals[:k]\n",
    "    \n",
    "    vals = np.array(vals)\n",
    "    #print(vals)\n",
    "    new_vals = np.unique(vals[:,1],return_counts = True)\n",
    "    #print(new_vals)\n",
    "    max_freq_index = new_vals[1].argmax()\n",
    "    pred = new_vals[0][max_freq_index]\n",
    "    return pred"
   ]
  },
  {
   "cell_type": "code",
   "execution_count": 44,
   "metadata": {},
   "outputs": [
    {
     "name": "stdout",
     "output_type": "stream",
     "text": [
      "0.0\n"
     ]
    }
   ],
   "source": [
    "x = knn(X,Y,query_x)\n",
    "print(x)"
   ]
  },
  {
   "cell_type": "code",
   "execution_count": 45,
   "metadata": {},
   "outputs": [
    {
     "name": "stdout",
     "output_type": "stream",
     "text": [
      "0.0\n"
     ]
    }
   ],
   "source": [
    "x = knn(X,Y,[4,5])\n",
    "print(x)"
   ]
  },
  {
   "cell_type": "code",
   "execution_count": 46,
   "metadata": {},
   "outputs": [
    {
     "name": "stdout",
     "output_type": "stream",
     "text": [
      "1.0\n"
     ]
    }
   ],
   "source": [
    "x = knn(X,Y,[0,1])\n",
    "print(x)"
   ]
  },
  {
   "cell_type": "markdown",
   "metadata": {},
   "source": [
    "# 03. Project : Recognizing MNIST Handwritten Digits Using KNN"
   ]
  },
  {
   "cell_type": "code",
   "execution_count": 47,
   "metadata": {},
   "outputs": [],
   "source": [
    "import pandas as pd\n",
    "import numpy as np\n",
    "import matplotlib.pyplot as plt"
   ]
  },
  {
   "cell_type": "markdown",
   "metadata": {},
   "source": [
    "### Step 1. Data Preparation"
   ]
  },
  {
   "cell_type": "code",
   "execution_count": 48,
   "metadata": {},
   "outputs": [
    {
     "name": "stdout",
     "output_type": "stream",
     "text": [
      "(42000, 785)\n"
     ]
    }
   ],
   "source": [
    "df = pd.read_csv('../Csv Files/train.csv')\n",
    "print(df.shape)"
   ]
  },
  {
   "cell_type": "code",
   "execution_count": 49,
   "metadata": {},
   "outputs": [
    {
     "name": "stdout",
     "output_type": "stream",
     "text": [
      "Index(['label', 'pixel0', 'pixel1', 'pixel2', 'pixel3', 'pixel4', 'pixel5',\n",
      "       'pixel6', 'pixel7', 'pixel8',\n",
      "       ...\n",
      "       'pixel774', 'pixel775', 'pixel776', 'pixel777', 'pixel778', 'pixel779',\n",
      "       'pixel780', 'pixel781', 'pixel782', 'pixel783'],\n",
      "      dtype='object', length=785)\n"
     ]
    }
   ],
   "source": [
    "print(df.columns)"
   ]
  },
  {
   "cell_type": "code",
   "execution_count": 50,
   "metadata": {},
   "outputs": [
    {
     "data": {
      "text/html": [
       "<div>\n",
       "<style scoped>\n",
       "    .dataframe tbody tr th:only-of-type {\n",
       "        vertical-align: middle;\n",
       "    }\n",
       "\n",
       "    .dataframe tbody tr th {\n",
       "        vertical-align: top;\n",
       "    }\n",
       "\n",
       "    .dataframe thead th {\n",
       "        text-align: right;\n",
       "    }\n",
       "</style>\n",
       "<table border=\"1\" class=\"dataframe\">\n",
       "  <thead>\n",
       "    <tr style=\"text-align: right;\">\n",
       "      <th></th>\n",
       "      <th>label</th>\n",
       "      <th>pixel0</th>\n",
       "      <th>pixel1</th>\n",
       "      <th>pixel2</th>\n",
       "      <th>pixel3</th>\n",
       "      <th>pixel4</th>\n",
       "      <th>pixel5</th>\n",
       "      <th>pixel6</th>\n",
       "      <th>pixel7</th>\n",
       "      <th>pixel8</th>\n",
       "      <th>...</th>\n",
       "      <th>pixel774</th>\n",
       "      <th>pixel775</th>\n",
       "      <th>pixel776</th>\n",
       "      <th>pixel777</th>\n",
       "      <th>pixel778</th>\n",
       "      <th>pixel779</th>\n",
       "      <th>pixel780</th>\n",
       "      <th>pixel781</th>\n",
       "      <th>pixel782</th>\n",
       "      <th>pixel783</th>\n",
       "    </tr>\n",
       "  </thead>\n",
       "  <tbody>\n",
       "    <tr>\n",
       "      <td>0</td>\n",
       "      <td>1</td>\n",
       "      <td>0</td>\n",
       "      <td>0</td>\n",
       "      <td>0</td>\n",
       "      <td>0</td>\n",
       "      <td>0</td>\n",
       "      <td>0</td>\n",
       "      <td>0</td>\n",
       "      <td>0</td>\n",
       "      <td>0</td>\n",
       "      <td>...</td>\n",
       "      <td>0</td>\n",
       "      <td>0</td>\n",
       "      <td>0</td>\n",
       "      <td>0</td>\n",
       "      <td>0</td>\n",
       "      <td>0</td>\n",
       "      <td>0</td>\n",
       "      <td>0</td>\n",
       "      <td>0</td>\n",
       "      <td>0</td>\n",
       "    </tr>\n",
       "    <tr>\n",
       "      <td>1</td>\n",
       "      <td>0</td>\n",
       "      <td>0</td>\n",
       "      <td>0</td>\n",
       "      <td>0</td>\n",
       "      <td>0</td>\n",
       "      <td>0</td>\n",
       "      <td>0</td>\n",
       "      <td>0</td>\n",
       "      <td>0</td>\n",
       "      <td>0</td>\n",
       "      <td>...</td>\n",
       "      <td>0</td>\n",
       "      <td>0</td>\n",
       "      <td>0</td>\n",
       "      <td>0</td>\n",
       "      <td>0</td>\n",
       "      <td>0</td>\n",
       "      <td>0</td>\n",
       "      <td>0</td>\n",
       "      <td>0</td>\n",
       "      <td>0</td>\n",
       "    </tr>\n",
       "    <tr>\n",
       "      <td>2</td>\n",
       "      <td>1</td>\n",
       "      <td>0</td>\n",
       "      <td>0</td>\n",
       "      <td>0</td>\n",
       "      <td>0</td>\n",
       "      <td>0</td>\n",
       "      <td>0</td>\n",
       "      <td>0</td>\n",
       "      <td>0</td>\n",
       "      <td>0</td>\n",
       "      <td>...</td>\n",
       "      <td>0</td>\n",
       "      <td>0</td>\n",
       "      <td>0</td>\n",
       "      <td>0</td>\n",
       "      <td>0</td>\n",
       "      <td>0</td>\n",
       "      <td>0</td>\n",
       "      <td>0</td>\n",
       "      <td>0</td>\n",
       "      <td>0</td>\n",
       "    </tr>\n",
       "    <tr>\n",
       "      <td>3</td>\n",
       "      <td>4</td>\n",
       "      <td>0</td>\n",
       "      <td>0</td>\n",
       "      <td>0</td>\n",
       "      <td>0</td>\n",
       "      <td>0</td>\n",
       "      <td>0</td>\n",
       "      <td>0</td>\n",
       "      <td>0</td>\n",
       "      <td>0</td>\n",
       "      <td>...</td>\n",
       "      <td>0</td>\n",
       "      <td>0</td>\n",
       "      <td>0</td>\n",
       "      <td>0</td>\n",
       "      <td>0</td>\n",
       "      <td>0</td>\n",
       "      <td>0</td>\n",
       "      <td>0</td>\n",
       "      <td>0</td>\n",
       "      <td>0</td>\n",
       "    </tr>\n",
       "    <tr>\n",
       "      <td>4</td>\n",
       "      <td>0</td>\n",
       "      <td>0</td>\n",
       "      <td>0</td>\n",
       "      <td>0</td>\n",
       "      <td>0</td>\n",
       "      <td>0</td>\n",
       "      <td>0</td>\n",
       "      <td>0</td>\n",
       "      <td>0</td>\n",
       "      <td>0</td>\n",
       "      <td>...</td>\n",
       "      <td>0</td>\n",
       "      <td>0</td>\n",
       "      <td>0</td>\n",
       "      <td>0</td>\n",
       "      <td>0</td>\n",
       "      <td>0</td>\n",
       "      <td>0</td>\n",
       "      <td>0</td>\n",
       "      <td>0</td>\n",
       "      <td>0</td>\n",
       "    </tr>\n",
       "  </tbody>\n",
       "</table>\n",
       "<p>5 rows × 785 columns</p>\n",
       "</div>"
      ],
      "text/plain": [
       "   label  pixel0  pixel1  pixel2  pixel3  pixel4  pixel5  pixel6  pixel7  \\\n",
       "0      1       0       0       0       0       0       0       0       0   \n",
       "1      0       0       0       0       0       0       0       0       0   \n",
       "2      1       0       0       0       0       0       0       0       0   \n",
       "3      4       0       0       0       0       0       0       0       0   \n",
       "4      0       0       0       0       0       0       0       0       0   \n",
       "\n",
       "   pixel8  ...  pixel774  pixel775  pixel776  pixel777  pixel778  pixel779  \\\n",
       "0       0  ...         0         0         0         0         0         0   \n",
       "1       0  ...         0         0         0         0         0         0   \n",
       "2       0  ...         0         0         0         0         0         0   \n",
       "3       0  ...         0         0         0         0         0         0   \n",
       "4       0  ...         0         0         0         0         0         0   \n",
       "\n",
       "   pixel780  pixel781  pixel782  pixel783  \n",
       "0         0         0         0         0  \n",
       "1         0         0         0         0  \n",
       "2         0         0         0         0  \n",
       "3         0         0         0         0  \n",
       "4         0         0         0         0  \n",
       "\n",
       "[5 rows x 785 columns]"
      ]
     },
     "execution_count": 50,
     "metadata": {},
     "output_type": "execute_result"
    }
   ],
   "source": [
    "df.head(n=5)"
   ]
  },
  {
   "cell_type": "code",
   "execution_count": 51,
   "metadata": {},
   "outputs": [
    {
     "name": "stdout",
     "output_type": "stream",
     "text": [
      "(42000, 785)\n",
      "<class 'numpy.ndarray'>\n"
     ]
    }
   ],
   "source": [
    "data = df.values\n",
    "print(data.shape)\n",
    "print(type(data))"
   ]
  },
  {
   "cell_type": "code",
   "execution_count": 54,
   "metadata": {},
   "outputs": [
    {
     "name": "stdout",
     "output_type": "stream",
     "text": [
      "(42000, 784)\n",
      "(42000,)\n"
     ]
    }
   ],
   "source": [
    "x = data[:,1:]\n",
    "y = data[:,0]\n",
    "print(x.shape)\n",
    "print(y.shape)"
   ]
  },
  {
   "cell_type": "code",
   "execution_count": 116,
   "metadata": {},
   "outputs": [
    {
     "name": "stdout",
     "output_type": "stream",
     "text": [
      "41916\n",
      "(41916, 784) (41916,)\n",
      "(84, 784) (84,)\n"
     ]
    }
   ],
   "source": [
    "split = int(0.998*x.shape[0]) # Ideal Split Ratio is 70 : 30\n",
    "print(split)\n",
    "X_train = x[:split,:]\n",
    "Y_train = y[:split]\n",
    "\n",
    "X_test = x[split:,:]\n",
    "Y_test = y[split:]\n",
    "\n",
    "print(X_train.shape,Y_train.shape)\n",
    "print(X_test.shape,Y_test.shape)"
   ]
  },
  {
   "cell_type": "code",
   "execution_count": 117,
   "metadata": {},
   "outputs": [],
   "source": [
    "# Visulise Some Samples\n",
    "\n",
    "def drawImg(sample):\n",
    "    img = sample.reshape((28,28))\n",
    "    plt.imshow(img)\n",
    "    plt.show()"
   ]
  },
  {
   "cell_type": "code",
   "execution_count": 118,
   "metadata": {},
   "outputs": [
    {
     "data": {
      "image/png": "[encoded data removed]",
      "text/plain": [
       "<Figure size 576x396 with 1 Axes>"
      ]
     },
     "metadata": {},
     "output_type": "display_data"
    }
   ],
   "source": [
    "drawImg(X_train[31])"
   ]
  },
  {
   "cell_type": "markdown",
   "metadata": {},
   "source": [
    "### Step 2. KNN \n",
    "- Non Parametric : Doesn't learn any parameter"
   ]
  },
  {
   "cell_type": "code",
   "execution_count": 119,
   "metadata": {},
   "outputs": [],
   "source": [
    "# Can we apply KNN to this data?"
   ]
  },
  {
   "cell_type": "code",
   "execution_count": 120,
   "metadata": {},
   "outputs": [],
   "source": [
    " def dist(x1, x2):\n",
    "    return np.sqrt(sum((x1-x2)**2))\n",
    "\n",
    "def knn(X, Y, queryPoint, k=5):\n",
    "    vals = []\n",
    "    m = X.shape[0]\n",
    "    for i in range(m):\n",
    "        d = dist(queryPoint, X[i])\n",
    "        vals.append((d,Y[i]))\n",
    "        \n",
    "    vals = sorted(vals)\n",
    "    # Nearest / First K points\n",
    "    vals = vals[:k]\n",
    "    \n",
    "    vals = np.array(vals)\n",
    "    #print(vals)\n",
    "    new_vals = np.unique(vals[:,1],return_counts = True)\n",
    "    #print(new_vals)\n",
    "    max_freq_index = new_vals[1].argmax()\n",
    "    pred = new_vals[0][max_freq_index]\n",
    "    return pred"
   ]
  },
  {
   "cell_type": "markdown",
   "metadata": {},
   "source": [
    "### Step 3. Make Predictions"
   ]
  },
  {
   "cell_type": "code",
   "execution_count": 121,
   "metadata": {},
   "outputs": [
    {
     "name": "stdout",
     "output_type": "stream",
     "text": [
      "8\n"
     ]
    }
   ],
   "source": [
    "pred = knn(X_train,Y_train,X_test[3])\n",
    "print(int(pred))"
   ]
  },
  {
   "cell_type": "code",
   "execution_count": 122,
   "metadata": {},
   "outputs": [
    {
     "data": {
      "image/png": "[encoded data removed]",
      "text/plain": [
       "<Figure size 576x396 with 1 Axes>"
      ]
     },
     "metadata": {},
     "output_type": "display_data"
    },
    {
     "name": "stdout",
     "output_type": "stream",
     "text": [
      "8\n"
     ]
    }
   ],
   "source": [
    "drawImg(X_test[3])\n",
    "print(Y_test[3])"
   ]
  },
  {
   "cell_type": "code",
   "execution_count": 123,
   "metadata": {},
   "outputs": [],
   "source": [
    "# Write one method which computes accuracy of KNN over test set !\n",
    "\n",
    "def Accuracy(X_train,Y_train,X_test,Y_test):\n",
    "    correct_prediction = 0\n",
    "    incorrect_prediction = 0\n",
    "    length = len(X_test)\n",
    "    for i in range(len(X_test)):\n",
    "        if Y_test[i] == knn(X_train,Y_train,X_test[i]):\n",
    "            correct_prediction += 1\n",
    "            #print(\"Yes\")\n",
    "        else:\n",
    "            incorrect_prediction += 1\n",
    "            #print(\"No\")\n",
    "        print(incorrect_prediction)\n",
    "    return (correct_prediction*100)/length"
   ]
  },
  {
   "cell_type": "code",
   "execution_count": 124,
   "metadata": {},
   "outputs": [
    {
     "name": "stdout",
     "output_type": "stream",
     "text": [
      "0\n",
      "0\n",
      "0\n",
      "0\n",
      "0\n",
      "0\n",
      "0\n",
      "0\n",
      "0\n",
      "0\n",
      "0\n",
      "0\n",
      "0\n",
      "0\n",
      "0\n",
      "0\n",
      "0\n",
      "0\n",
      "0\n",
      "0\n",
      "0\n",
      "0\n",
      "0\n",
      "0\n",
      "0\n",
      "0\n",
      "0\n",
      "0\n",
      "0\n",
      "0\n",
      "0\n",
      "0\n",
      "0\n",
      "0\n",
      "0\n",
      "0\n",
      "0\n",
      "0\n",
      "0\n",
      "0\n",
      "0\n",
      "0\n",
      "0\n",
      "0\n",
      "0\n",
      "0\n",
      "0\n",
      "0\n",
      "0\n",
      "0\n",
      "0\n",
      "0\n",
      "0\n",
      "0\n",
      "0\n",
      "0\n",
      "0\n",
      "0\n",
      "0\n",
      "0\n",
      "0\n",
      "0\n",
      "0\n",
      "0\n",
      "0\n",
      "0\n",
      "0\n",
      "0\n",
      "0\n",
      "0\n",
      "0\n",
      "0\n",
      "0\n",
      "0\n",
      "0\n",
      "0\n",
      "0\n",
      "0\n",
      "0\n",
      "0\n",
      "0\n",
      "0\n",
      "0\n",
      "0\n",
      "100.0\n"
     ]
    }
   ],
   "source": [
    "print(Accuracy(X_train,Y_train,X_test,Y_test))"
   ]
  }
 ],
 "metadata": {
  "kernelspec": {
   "display_name": "Python 3",
   "language": "python",
   "name": "python3"
  },
  "language_info": {
   "codemirror_mode": {
    "name": "ipython",
    "version": 3
   },
   "file_extension": ".py",
   "mimetype": "text/x-python",
   "name": "python",
   "nbconvert_exporter": "python",
   "pygments_lexer": "ipython3",
   "version": "3.6.9"
  }
 },
 "nbformat": 4,
 "nbformat_minor": 2
}
