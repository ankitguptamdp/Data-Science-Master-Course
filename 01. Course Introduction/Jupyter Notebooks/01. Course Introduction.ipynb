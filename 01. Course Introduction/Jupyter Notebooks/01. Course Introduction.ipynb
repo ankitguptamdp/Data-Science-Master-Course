{
 "cells": [
  {
   "cell_type": "markdown",
   "metadata": {},
   "source": [
    "# 01. Data Science Course Introduction"
   ]
  },
  {
   "cell_type": "markdown",
   "metadata": {},
   "source": [
    "### Introduction to Data Science - Prateek Narang"
   ]
  },
  {
   "cell_type": "markdown",
   "metadata": {},
   "source": [
    "### Data Science\n",
    "\n",
    "Driving interesting insights from unstructured data or semi-structured data that can help in adding to business value.\n",
    "e.g., Amazon's suggestion to a customer what to wear \n",
    "\n",
    "<img src=\"../Images/image1.svg\" style=\"width:20%;\">"
   ]
  },
  {
   "cell_type": "markdown",
   "metadata": {},
   "source": [
    "### Why data science now?\n",
    "\n",
    "Last couple of years generated more data than in entire history of human race.\n",
    "\n",
    "- Every minute upto 300 hours of videos are uploaded to YouTube.\n",
    "- Average of 31.25 million messages and view 2.77 million videos every minute on Facebook.\n",
    "- More data has been created in the past few years than in the entire previous history of the human race.\n",
    "- At the moment less than 0.5% of all data is ever analyzed and used, just imagine the potential here.\n",
    "\n",
    "Now it is very much feasible because of the availability of larger graphics processing unit (GPU), tensor processing unit (TPU), good hardware and algorithms."
   ]
  },
  {
   "cell_type": "markdown",
   "metadata": {},
   "source": [
    "### Data Science Pipeline\n",
    "\n",
    "Let us understand the various steps involved in building a Data Science Pipeline.\n",
    "\n",
    "0. Understanding Problem Statement\n",
    "1. Data Acquisition\n",
    "2. Data Preprocessing\n",
    "3. Exploratory Analysis - Visualisation\n",
    "4. Machine Learning & Deep Learning Modelling\n",
    "5. Final Insights"
   ]
  },
  {
   "cell_type": "markdown",
   "metadata": {},
   "source": [
    "### What does a Data Scientist do?\n",
    "\n",
    "A data scientist's job is to make value out of data! Analyse information, build intelligent tools that can help to understand and make better business decisions and predictions about future."
   ]
  },
  {
   "cell_type": "markdown",
   "metadata": {},
   "source": [
    "### Career Paths in Data Science\n",
    "\n",
    "In 2020, approx 27 lac Data Science engineers in US would be needed. Similarly the job market in India is on a rise. Following roles can be assigned to Data Science Engineer.\n",
    "\n",
    "- Data Science Engineer \n",
    "- Data Analyst (Statistics, Visualisation)\n",
    "- Machine Learning Engineer\n",
    "- Deep Learning Engineer"
   ]
  },
  {
   "cell_type": "markdown",
   "metadata": {},
   "source": [
    "### Data Science Vs Machine Learning\n",
    "\n",
    "- Data Science is broader field that encompasses data analytics, data mining, machine learning and several other related disciplines.\n",
    "- A data scientist acquires data (structured, unstructured or semi-structured) from multiple sources, clean it, applies machine learning algorithms and generates insights useful from business perspective."
   ]
  },
  {
   "cell_type": "markdown",
   "metadata": {},
   "source": [
    "### Data Science Skills\n",
    "\n",
    "Skills that make a great data science engineer!\n",
    "\n",
    "- Strong programming fundamentals\n",
    "- Hands-on experience in SQL Databases, Queries\n",
    "- Experienced with Data Acquisition & Cleaning\n",
    "- Ability to work with unstructured data\n",
    "- Good analytical skills\n",
    "- Knowledge of machine learning"
   ]
  },
  {
   "cell_type": "markdown",
   "metadata": {},
   "source": [
    "### Machine Learning Skills\n",
    "\n",
    "Providing machines ability to learn & improve from experience!\n",
    "\n",
    "- Strong Computer Science Fundamentals\n",
    "- Strong programming hand in Python, or R\n",
    "- Knowledge of probability and statistics\n",
    "- Data modelling and evaluation skills"
   ]
  },
  {
   "cell_type": "markdown",
   "metadata": {},
   "source": [
    "<img src=\"../Images/image2.png\" style=\"width:80%\">\n",
    "<img src=\"../Images/image3.png\" style=\"width:80%\">\n",
    "<img src=\"../Images/image4.png\" style=\"width:80%\">\n",
    "<img src=\"../Images/image5.png\" style=\"width:80%\">\n",
    "<img src=\"../Images/image6.png\" style=\"width:80%\">\n",
    "<img src=\"../Images/image7.png\" style=\"width:80%\">\n",
    "<img src=\"../Images/image8.png\" style=\"width:80%\">\n",
    "<img src=\"../Images/image9.png\" style=\"width:80%\">\n",
    "<img src=\"../Images/image10.png\" style=\"width:80%\">"
   ]
  },
  {
   "cell_type": "markdown",
   "metadata": {},
   "source": [
    "### Student Marks Prediction\n",
    "\n",
    "So to make predictions, you need a list of inputs. For example to predict the marks, these inputs could be :\n",
    "- assignment submitted\n",
    "- hours of study\n",
    "- marks in the previous semester\n",
    "\n",
    "\n",
    "This list of inputs in Machine Learning are called features."
   ]
  },
  {
   "cell_type": "markdown",
   "metadata": {},
   "source": [
    "### Data Science is everywhere!\n",
    "- Email Filtering\n",
    "- Amazon Recommendations\n",
    "- Search Engines\n",
    "- Fraud Detection\n",
    "- Generating Art\n",
    "- Story Generation\n",
    "- Disease Diagnosis"
   ]
  },
  {
   "cell_type": "markdown",
   "metadata": {},
   "source": [
    "### It is everywhere!\n",
    "Computer Vision\n",
    "- Autonomous Systems\n",
    "- Videos Surveillance for Crimes\n",
    "- Smart Cameras\n",
    "\n",
    "Natural Language Processing\n",
    "- Personal Assitants like Google Allo\n",
    "- Text Generation/Autocomplete\n",
    "- Smart Speakers like Google Home"
   ]
  },
  {
   "cell_type": "markdown",
   "metadata": {},
   "source": [
    "### Course Highlights\n",
    "- Python Basics\n",
    "- Data Science Pipeline\n",
    "- Data Acquisition & Analysis\n",
    "- Web Scrapping, Google API, Facebook API\n",
    "- Scrapy, Beautiful Soup\n",
    "- Data Cleaning & Visualization\n",
    "- Machine Learning from Scratch\n",
    "- Supervised Learning\n",
    "- Unsupervised Learning\n",
    "- Deep Learning for Vision\n",
    "- Deep Learning for NLP\n",
    "- Frameworks - Numpy, Pandas, Sci-kit, Keras, Matplotlib, Scrapy, Beautiful Soup etc."
   ]
  },
  {
   "cell_type": "markdown",
   "metadata": {},
   "source": [
    "### Challenges:\n",
    "\n",
    "- Coding Challenges\n",
    "- Challenges(Project Accuracy)\n",
    "- Quizzes"
   ]
  },
  {
   "cell_type": "markdown",
   "metadata": {},
   "source": [
    "### Part - 1 Python Basics\n",
    "- Python Basics\n",
    "- Data Structures & OOPS\n",
    "- Advanced Python Concepts\n",
    "- Coding Challenges"
   ]
  },
  {
   "cell_type": "markdown",
   "metadata": {},
   "source": [
    "### Part - 2 Data Acquisition\n",
    "- Web API's - Google, Facebook etc\n",
    "- Beautiful Soup\n",
    "- URLLib Module\n",
    "- Request Library\n",
    "- Scrapy - for building web crawlers\n",
    "- Datebases using SQL\n",
    "\n",
    "Learn to Work with Web API's Like Google API, Facebook API, Get Request & Authentication\n",
    "\n",
    "Scrape Wikipedia Using Requests + Beautiful Soup\n",
    "\n",
    "Scrape Shopping Websites By building Web Crawlers using SCRAPY\n",
    "\n",
    "Interact with SQLite Databases and Learn to Perform SQL Queries and Various Operations!"
   ]
  },
  {
   "cell_type": "markdown",
   "metadata": {},
   "source": [
    "### Part - 3 Data Analysis\n",
    "- Data Cleaning & Transformation\n",
    "- Data Analysis using Numpy & Pandas\n",
    "- Data Visualisation - Matplotlib, Seaborn\n",
    "- Dimensionality Reduction - Principal Component Analysis (PCA)\n",
    "- Non-Linear Dimensionality Reduction - T-distributed Stochastic Neighbor Embedding (t-SNE)"
   ]
  },
  {
   "cell_type": "markdown",
   "metadata": {},
   "source": [
    "### Part - 4 Machine Learning\n",
    "- Linear Regression\n",
    "- Multivariate Regression\n",
    "- Locally Weighted Regression\n",
    "- Logistic Regression\n",
    "- Naive Bayes & Probability\n",
    "- Decision Trees\n",
    "- Support Vector Machine\n",
    "\n",
    "Projects :\n",
    "- Marks Prediction : Using Regression Techniques\n",
    "- Diabetes Detection : Using Logistic Regression\n",
    "- Face Recognition : Using Nearest Neighbours\n",
    "- Mushroom Classification : Using Naive Bayes\n",
    "- Titanic Survivor : Using Decision Trees"
   ]
  },
  {
   "cell_type": "markdown",
   "metadata": {},
   "source": [
    "### Part - 5A Deep Learning\n",
    "- Neural Networks\n",
    "- Backpropagation\n",
    "- Vectorization\n",
    "- Loss Functions & Optimizers\n",
    "- Build Neural Networks from Scratch\n",
    "- Keras Basics\n",
    "\n",
    "Projects :\n",
    "- Non-Linear Regression & Classification : Using Neural Networks\n",
    "- Handwritten Digit Recognition : Using Multilayer Perceptrons\n",
    "- Sentiment Analysis on IMDB Dataset : Using Multilayer Perceptrons\n"
   ]
  },
  {
   "cell_type": "markdown",
   "metadata": {},
   "source": [
    "### Part - 5B Deep Learning\n",
    "- Computer Vision\n",
    "- Convolutional Neural Networks\n",
    "- Popular Architectures \n",
    "- Transfer Learning, Fine Tuning\n",
    "- Image Classification\n",
    "- Image Pipelines\n",
    "- Data Augmentation\n",
    "\n",
    "Projects :\n",
    "- Image Classification : Using CNN's\n",
    "- Pokemon Classificatin : Using Transfer Learning"
   ]
  },
  {
   "cell_type": "markdown",
   "metadata": {},
   "source": [
    "### Part - 5C Deep Learning\n",
    "- Natural Language Processing\n",
    "- Text Preprocessing\n",
    "- Markov Chains\n",
    "- Tf-idf Vectorization\n",
    "- Word Embeddings - Word2Vec/Glove\n",
    "- Recurrent Neural Networks\n",
    "- Sentiment Analysis\n",
    "\n",
    "Projects :\n",
    "- Language Autocomplete : Using Markov Chains\n",
    "- Odd One Out : Using Word Embeddings\n",
    "    - Input : Dancer-Singer-Cricketer-Food\n",
    "    - Output : Food\n",
    "- Word Analogies : Using custom trained word Embeddings\n",
    "    - Input :\n",
    "    - Deepika->Ranveer : Priyanka->???\n",
    "    - Narendra->Modi : Amit->???\n",
    "    - Output :\n",
    "    - Nick\n",
    "    - Shah\n",
    "- Emoji Predictor : Using Recurrent Neural Networks\n",
    "    - Input :\n",
    "    - This pizza is delicious.\n",
    "    - Output :\n",
    "    - This pizza is delicious. 🍕😍"
   ]
  },
  {
   "cell_type": "markdown",
   "metadata": {},
   "source": [
    "### Bonus Module : Deep Reinforcement Learning\n",
    "- Open AI Gym\n",
    "- Q-Learning\n",
    "- Replay Buffer\n",
    "- Neural Networks + Q-Learning\n",
    "- Deep Learning for Video Games\n",
    "\n",
    "Projects :\n",
    "- Cartpole Game : Balance rod using Q-Learning"
   ]
  }
 ],
 "metadata": {
  "kernelspec": {
   "display_name": "Python 3",
   "language": "python",
   "name": "python3"
  },
  "language_info": {
   "codemirror_mode": {
    "name": "ipython",
    "version": 3
   },
   "file_extension": ".py",
   "mimetype": "text/x-python",
   "name": "python",
   "nbconvert_exporter": "python",
   "pygments_lexer": "ipython3",
   "version": "3.6.9"
  }
 },
 "nbformat": 4,
 "nbformat_minor": 2
}
