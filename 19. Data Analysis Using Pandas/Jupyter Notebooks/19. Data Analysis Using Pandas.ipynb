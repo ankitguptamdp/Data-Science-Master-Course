{
 "cells": [
  {
   "cell_type": "markdown",
   "metadata": {},
   "source": [
    "# 01. Basics I"
   ]
  },
  {
   "cell_type": "markdown",
   "metadata": {},
   "source": [
    "### Pandas\n",
    "- Dataframe - Special Object to store data in tabular form(rows & columns)"
   ]
  },
  {
   "cell_type": "markdown",
   "metadata": {},
   "source": [
    "### Installation"
   ]
  },
  {
   "cell_type": "code",
   "execution_count": 2,
   "metadata": {},
   "outputs": [
    {
     "name": "stdout",
     "output_type": "stream",
     "text": [
      "Requirement already satisfied: pandas in /usr/local/lib/python3.6/dist-packages (0.25.1)\n",
      "Requirement already satisfied: pytz>=2017.2 in /usr/lib/python3/dist-packages (from pandas) (2018.3)\n",
      "Requirement already satisfied: python-dateutil>=2.6.1 in /usr/lib/python3/dist-packages (from pandas) (2.6.1)\n",
      "Requirement already satisfied: numpy>=1.13.3 in /usr/local/lib/python3.6/dist-packages (from pandas) (1.17.0)\n",
      "\u001b[33mWARNING: You are using pip version 19.2.3, however version 19.3.1 is available.\n",
      "You should consider upgrading via the 'pip install --upgrade pip' command.\u001b[0m\n"
     ]
    }
   ],
   "source": [
    "!pip install pandas"
   ]
  },
  {
   "cell_type": "code",
   "execution_count": 3,
   "metadata": {},
   "outputs": [],
   "source": [
    "import numpy as np\n",
    "import pandas as pd"
   ]
  },
  {
   "cell_type": "code",
   "execution_count": 7,
   "metadata": {},
   "outputs": [],
   "source": [
    "# Try to create a data frame\n",
    "user_data = {\n",
    "    \"MarksA\":np.random.randint(1,100,5),\n",
    "    \"MarksB\":np.random.randint(50,100,5),\n",
    "    \"MarksC\":np.random.randint(1,100,5),\n",
    "}"
   ]
  },
  {
   "cell_type": "code",
   "execution_count": 6,
   "metadata": {},
   "outputs": [
    {
     "data": {
      "text/plain": [
       "array([62, 74, 25, 11,  1, 20, 84, 17, 41, 78])"
      ]
     },
     "execution_count": 6,
     "metadata": {},
     "output_type": "execute_result"
    }
   ],
   "source": [
    "np.random.randint(1,100,10)"
   ]
  },
  {
   "cell_type": "code",
   "execution_count": 8,
   "metadata": {},
   "outputs": [
    {
     "name": "stdout",
     "output_type": "stream",
     "text": [
      "{'MarksA': array([66, 80, 52,  4,  6]), 'MarksB': array([75, 95, 80, 70, 79]), 'MarksC': array([24,  3, 98, 21, 49])}\n"
     ]
    }
   ],
   "source": [
    "print(user_data)"
   ]
  },
  {
   "cell_type": "code",
   "execution_count": 11,
   "metadata": {},
   "outputs": [
    {
     "name": "stdout",
     "output_type": "stream",
     "text": [
      "   MarksA  MarksB  MarksC\n",
      "0      66      75      24\n",
      "1      80      95       3\n",
      "2      52      80      98\n",
      "3       4      70      21\n",
      "4       6      79      49\n"
     ]
    }
   ],
   "source": [
    "df = pd.DataFrame(user_data)\n",
    "print(df)"
   ]
  },
  {
   "cell_type": "code",
   "execution_count": 12,
   "metadata": {},
   "outputs": [
    {
     "data": {
      "text/html": [
       "<div>\n",
       "<style scoped>\n",
       "    .dataframe tbody tr th:only-of-type {\n",
       "        vertical-align: middle;\n",
       "    }\n",
       "\n",
       "    .dataframe tbody tr th {\n",
       "        vertical-align: top;\n",
       "    }\n",
       "\n",
       "    .dataframe thead th {\n",
       "        text-align: right;\n",
       "    }\n",
       "</style>\n",
       "<table border=\"1\" class=\"dataframe\">\n",
       "  <thead>\n",
       "    <tr style=\"text-align: right;\">\n",
       "      <th></th>\n",
       "      <th>MarksA</th>\n",
       "      <th>MarksB</th>\n",
       "      <th>MarksC</th>\n",
       "    </tr>\n",
       "  </thead>\n",
       "  <tbody>\n",
       "    <tr>\n",
       "      <td>0</td>\n",
       "      <td>66</td>\n",
       "      <td>75</td>\n",
       "      <td>24</td>\n",
       "    </tr>\n",
       "    <tr>\n",
       "      <td>1</td>\n",
       "      <td>80</td>\n",
       "      <td>95</td>\n",
       "      <td>3</td>\n",
       "    </tr>\n",
       "    <tr>\n",
       "      <td>2</td>\n",
       "      <td>52</td>\n",
       "      <td>80</td>\n",
       "      <td>98</td>\n",
       "    </tr>\n",
       "    <tr>\n",
       "      <td>3</td>\n",
       "      <td>4</td>\n",
       "      <td>70</td>\n",
       "      <td>21</td>\n",
       "    </tr>\n",
       "    <tr>\n",
       "      <td>4</td>\n",
       "      <td>6</td>\n",
       "      <td>79</td>\n",
       "      <td>49</td>\n",
       "    </tr>\n",
       "  </tbody>\n",
       "</table>\n",
       "</div>"
      ],
      "text/plain": [
       "   MarksA  MarksB  MarksC\n",
       "0      66      75      24\n",
       "1      80      95       3\n",
       "2      52      80      98\n",
       "3       4      70      21\n",
       "4       6      79      49"
      ]
     },
     "execution_count": 12,
     "metadata": {},
     "output_type": "execute_result"
    }
   ],
   "source": [
    "df.head()"
   ]
  },
  {
   "cell_type": "code",
   "execution_count": 13,
   "metadata": {},
   "outputs": [
    {
     "data": {
      "text/html": [
       "<div>\n",
       "<style scoped>\n",
       "    .dataframe tbody tr th:only-of-type {\n",
       "        vertical-align: middle;\n",
       "    }\n",
       "\n",
       "    .dataframe tbody tr th {\n",
       "        vertical-align: top;\n",
       "    }\n",
       "\n",
       "    .dataframe thead th {\n",
       "        text-align: right;\n",
       "    }\n",
       "</style>\n",
       "<table border=\"1\" class=\"dataframe\">\n",
       "  <thead>\n",
       "    <tr style=\"text-align: right;\">\n",
       "      <th></th>\n",
       "      <th>MarksA</th>\n",
       "      <th>MarksB</th>\n",
       "      <th>MarksC</th>\n",
       "    </tr>\n",
       "  </thead>\n",
       "  <tbody>\n",
       "    <tr>\n",
       "      <td>0</td>\n",
       "      <td>66</td>\n",
       "      <td>75</td>\n",
       "      <td>24</td>\n",
       "    </tr>\n",
       "    <tr>\n",
       "      <td>1</td>\n",
       "      <td>80</td>\n",
       "      <td>95</td>\n",
       "      <td>3</td>\n",
       "    </tr>\n",
       "    <tr>\n",
       "      <td>2</td>\n",
       "      <td>52</td>\n",
       "      <td>80</td>\n",
       "      <td>98</td>\n",
       "    </tr>\n",
       "  </tbody>\n",
       "</table>\n",
       "</div>"
      ],
      "text/plain": [
       "   MarksA  MarksB  MarksC\n",
       "0      66      75      24\n",
       "1      80      95       3\n",
       "2      52      80      98"
      ]
     },
     "execution_count": 13,
     "metadata": {},
     "output_type": "execute_result"
    }
   ],
   "source": [
    "df.head(n=3)"
   ]
  },
  {
   "cell_type": "code",
   "execution_count": 15,
   "metadata": {},
   "outputs": [
    {
     "name": "stdout",
     "output_type": "stream",
     "text": [
      "Index(['MarksA', 'MarksB', 'MarksC'], dtype='object')\n"
     ]
    }
   ],
   "source": [
    "print(df.columns)"
   ]
  },
  {
   "cell_type": "code",
   "execution_count": 17,
   "metadata": {},
   "outputs": [
    {
     "name": "stdout",
     "output_type": "stream",
     "text": [
      "   MarksA  MarksB  MarksC\n",
      "0    66.0    75.0    24.0\n",
      "1    80.0    95.0     3.0\n",
      "2    52.0    80.0    98.0\n",
      "3     4.0    70.0    21.0\n",
      "4     6.0    79.0    49.0\n"
     ]
    }
   ],
   "source": [
    "df = pd.DataFrame(user_data,dtype='float32')\n",
    "print(df)"
   ]
  },
  {
   "cell_type": "code",
   "execution_count": 19,
   "metadata": {},
   "outputs": [],
   "source": [
    "df.to_csv('../Csv Files/marks.csv')"
   ]
  },
  {
   "cell_type": "code",
   "execution_count": 20,
   "metadata": {},
   "outputs": [
    {
     "data": {
      "text/html": [
       "<div>\n",
       "<style scoped>\n",
       "    .dataframe tbody tr th:only-of-type {\n",
       "        vertical-align: middle;\n",
       "    }\n",
       "\n",
       "    .dataframe tbody tr th {\n",
       "        vertical-align: top;\n",
       "    }\n",
       "\n",
       "    .dataframe thead th {\n",
       "        text-align: right;\n",
       "    }\n",
       "</style>\n",
       "<table border=\"1\" class=\"dataframe\">\n",
       "  <thead>\n",
       "    <tr style=\"text-align: right;\">\n",
       "      <th></th>\n",
       "      <th>Unnamed: 0</th>\n",
       "      <th>MarksA</th>\n",
       "      <th>MarksB</th>\n",
       "      <th>MarksC</th>\n",
       "    </tr>\n",
       "  </thead>\n",
       "  <tbody>\n",
       "    <tr>\n",
       "      <td>0</td>\n",
       "      <td>0</td>\n",
       "      <td>66.0</td>\n",
       "      <td>75.0</td>\n",
       "      <td>24.0</td>\n",
       "    </tr>\n",
       "    <tr>\n",
       "      <td>1</td>\n",
       "      <td>1</td>\n",
       "      <td>80.0</td>\n",
       "      <td>95.0</td>\n",
       "      <td>3.0</td>\n",
       "    </tr>\n",
       "    <tr>\n",
       "      <td>2</td>\n",
       "      <td>2</td>\n",
       "      <td>52.0</td>\n",
       "      <td>80.0</td>\n",
       "      <td>98.0</td>\n",
       "    </tr>\n",
       "    <tr>\n",
       "      <td>3</td>\n",
       "      <td>3</td>\n",
       "      <td>4.0</td>\n",
       "      <td>70.0</td>\n",
       "      <td>21.0</td>\n",
       "    </tr>\n",
       "    <tr>\n",
       "      <td>4</td>\n",
       "      <td>4</td>\n",
       "      <td>6.0</td>\n",
       "      <td>79.0</td>\n",
       "      <td>49.0</td>\n",
       "    </tr>\n",
       "  </tbody>\n",
       "</table>\n",
       "</div>"
      ],
      "text/plain": [
       "   Unnamed: 0  MarksA  MarksB  MarksC\n",
       "0           0    66.0    75.0    24.0\n",
       "1           1    80.0    95.0     3.0\n",
       "2           2    52.0    80.0    98.0\n",
       "3           3     4.0    70.0    21.0\n",
       "4           4     6.0    79.0    49.0"
      ]
     },
     "execution_count": 20,
     "metadata": {},
     "output_type": "execute_result"
    }
   ],
   "source": [
    "my_data = pd.read_csv('../Csv Files/marks.csv')\n",
    "my_data"
   ]
  },
  {
   "cell_type": "code",
   "execution_count": 22,
   "metadata": {},
   "outputs": [
    {
     "data": {
      "text/html": [
       "<div>\n",
       "<style scoped>\n",
       "    .dataframe tbody tr th:only-of-type {\n",
       "        vertical-align: middle;\n",
       "    }\n",
       "\n",
       "    .dataframe tbody tr th {\n",
       "        vertical-align: top;\n",
       "    }\n",
       "\n",
       "    .dataframe thead th {\n",
       "        text-align: right;\n",
       "    }\n",
       "</style>\n",
       "<table border=\"1\" class=\"dataframe\">\n",
       "  <thead>\n",
       "    <tr style=\"text-align: right;\">\n",
       "      <th></th>\n",
       "      <th>MarksA</th>\n",
       "      <th>MarksB</th>\n",
       "      <th>MarksC</th>\n",
       "    </tr>\n",
       "  </thead>\n",
       "  <tbody>\n",
       "    <tr>\n",
       "      <td>0</td>\n",
       "      <td>66.0</td>\n",
       "      <td>75.0</td>\n",
       "      <td>24.0</td>\n",
       "    </tr>\n",
       "    <tr>\n",
       "      <td>1</td>\n",
       "      <td>80.0</td>\n",
       "      <td>95.0</td>\n",
       "      <td>3.0</td>\n",
       "    </tr>\n",
       "    <tr>\n",
       "      <td>2</td>\n",
       "      <td>52.0</td>\n",
       "      <td>80.0</td>\n",
       "      <td>98.0</td>\n",
       "    </tr>\n",
       "    <tr>\n",
       "      <td>3</td>\n",
       "      <td>4.0</td>\n",
       "      <td>70.0</td>\n",
       "      <td>21.0</td>\n",
       "    </tr>\n",
       "    <tr>\n",
       "      <td>4</td>\n",
       "      <td>6.0</td>\n",
       "      <td>79.0</td>\n",
       "      <td>49.0</td>\n",
       "    </tr>\n",
       "  </tbody>\n",
       "</table>\n",
       "</div>"
      ],
      "text/plain": [
       "   MarksA  MarksB  MarksC\n",
       "0    66.0    75.0    24.0\n",
       "1    80.0    95.0     3.0\n",
       "2    52.0    80.0    98.0\n",
       "3     4.0    70.0    21.0\n",
       "4     6.0    79.0    49.0"
      ]
     },
     "execution_count": 22,
     "metadata": {},
     "output_type": "execute_result"
    }
   ],
   "source": [
    "my_data = pd.read_csv('../Csv Files/marks.csv')\n",
    "my_data = my_data.drop(columns=['Unnamed: 0'])\n",
    "my_data"
   ]
  },
  {
   "cell_type": "markdown",
   "metadata": {},
   "source": [
    "# 02. Basics II"
   ]
  },
  {
   "cell_type": "code",
   "execution_count": 23,
   "metadata": {},
   "outputs": [
    {
     "data": {
      "text/html": [
       "<div>\n",
       "<style scoped>\n",
       "    .dataframe tbody tr th:only-of-type {\n",
       "        vertical-align: middle;\n",
       "    }\n",
       "\n",
       "    .dataframe tbody tr th {\n",
       "        vertical-align: top;\n",
       "    }\n",
       "\n",
       "    .dataframe thead th {\n",
       "        text-align: right;\n",
       "    }\n",
       "</style>\n",
       "<table border=\"1\" class=\"dataframe\">\n",
       "  <thead>\n",
       "    <tr style=\"text-align: right;\">\n",
       "      <th></th>\n",
       "      <th>MarksA</th>\n",
       "      <th>MarksB</th>\n",
       "      <th>MarksC</th>\n",
       "    </tr>\n",
       "  </thead>\n",
       "  <tbody>\n",
       "    <tr>\n",
       "      <td>count</td>\n",
       "      <td>5.000000</td>\n",
       "      <td>5.000000</td>\n",
       "      <td>5.000000</td>\n",
       "    </tr>\n",
       "    <tr>\n",
       "      <td>mean</td>\n",
       "      <td>41.600000</td>\n",
       "      <td>79.800000</td>\n",
       "      <td>39.000000</td>\n",
       "    </tr>\n",
       "    <tr>\n",
       "      <td>std</td>\n",
       "      <td>34.853981</td>\n",
       "      <td>9.364828</td>\n",
       "      <td>36.830694</td>\n",
       "    </tr>\n",
       "    <tr>\n",
       "      <td>min</td>\n",
       "      <td>4.000000</td>\n",
       "      <td>70.000000</td>\n",
       "      <td>3.000000</td>\n",
       "    </tr>\n",
       "    <tr>\n",
       "      <td>25%</td>\n",
       "      <td>6.000000</td>\n",
       "      <td>75.000000</td>\n",
       "      <td>21.000000</td>\n",
       "    </tr>\n",
       "    <tr>\n",
       "      <td>50%</td>\n",
       "      <td>52.000000</td>\n",
       "      <td>79.000000</td>\n",
       "      <td>24.000000</td>\n",
       "    </tr>\n",
       "    <tr>\n",
       "      <td>75%</td>\n",
       "      <td>66.000000</td>\n",
       "      <td>80.000000</td>\n",
       "      <td>49.000000</td>\n",
       "    </tr>\n",
       "    <tr>\n",
       "      <td>max</td>\n",
       "      <td>80.000000</td>\n",
       "      <td>95.000000</td>\n",
       "      <td>98.000000</td>\n",
       "    </tr>\n",
       "  </tbody>\n",
       "</table>\n",
       "</div>"
      ],
      "text/plain": [
       "          MarksA     MarksB     MarksC\n",
       "count   5.000000   5.000000   5.000000\n",
       "mean   41.600000  79.800000  39.000000\n",
       "std    34.853981   9.364828  36.830694\n",
       "min     4.000000  70.000000   3.000000\n",
       "25%     6.000000  75.000000  21.000000\n",
       "50%    52.000000  79.000000  24.000000\n",
       "75%    66.000000  80.000000  49.000000\n",
       "max    80.000000  95.000000  98.000000"
      ]
     },
     "execution_count": 23,
     "metadata": {},
     "output_type": "execute_result"
    }
   ],
   "source": [
    "my_data.describe()"
   ]
  },
  {
   "cell_type": "code",
   "execution_count": 24,
   "metadata": {},
   "outputs": [
    {
     "data": {
      "text/html": [
       "<div>\n",
       "<style scoped>\n",
       "    .dataframe tbody tr th:only-of-type {\n",
       "        vertical-align: middle;\n",
       "    }\n",
       "\n",
       "    .dataframe tbody tr th {\n",
       "        vertical-align: top;\n",
       "    }\n",
       "\n",
       "    .dataframe thead th {\n",
       "        text-align: right;\n",
       "    }\n",
       "</style>\n",
       "<table border=\"1\" class=\"dataframe\">\n",
       "  <thead>\n",
       "    <tr style=\"text-align: right;\">\n",
       "      <th></th>\n",
       "      <th>MarksA</th>\n",
       "      <th>MarksB</th>\n",
       "      <th>MarksC</th>\n",
       "    </tr>\n",
       "  </thead>\n",
       "  <tbody>\n",
       "    <tr>\n",
       "      <td>0</td>\n",
       "      <td>66.0</td>\n",
       "      <td>75.0</td>\n",
       "      <td>24.0</td>\n",
       "    </tr>\n",
       "    <tr>\n",
       "      <td>1</td>\n",
       "      <td>80.0</td>\n",
       "      <td>95.0</td>\n",
       "      <td>3.0</td>\n",
       "    </tr>\n",
       "    <tr>\n",
       "      <td>2</td>\n",
       "      <td>52.0</td>\n",
       "      <td>80.0</td>\n",
       "      <td>98.0</td>\n",
       "    </tr>\n",
       "    <tr>\n",
       "      <td>3</td>\n",
       "      <td>4.0</td>\n",
       "      <td>70.0</td>\n",
       "      <td>21.0</td>\n",
       "    </tr>\n",
       "    <tr>\n",
       "      <td>4</td>\n",
       "      <td>6.0</td>\n",
       "      <td>79.0</td>\n",
       "      <td>49.0</td>\n",
       "    </tr>\n",
       "  </tbody>\n",
       "</table>\n",
       "</div>"
      ],
      "text/plain": [
       "   MarksA  MarksB  MarksC\n",
       "0    66.0    75.0    24.0\n",
       "1    80.0    95.0     3.0\n",
       "2    52.0    80.0    98.0\n",
       "3     4.0    70.0    21.0\n",
       "4     6.0    79.0    49.0"
      ]
     },
     "execution_count": 24,
     "metadata": {},
     "output_type": "execute_result"
    }
   ],
   "source": [
    "my_data.head()"
   ]
  },
  {
   "cell_type": "code",
   "execution_count": 25,
   "metadata": {},
   "outputs": [
    {
     "data": {
      "text/html": [
       "<div>\n",
       "<style scoped>\n",
       "    .dataframe tbody tr th:only-of-type {\n",
       "        vertical-align: middle;\n",
       "    }\n",
       "\n",
       "    .dataframe tbody tr th {\n",
       "        vertical-align: top;\n",
       "    }\n",
       "\n",
       "    .dataframe thead th {\n",
       "        text-align: right;\n",
       "    }\n",
       "</style>\n",
       "<table border=\"1\" class=\"dataframe\">\n",
       "  <thead>\n",
       "    <tr style=\"text-align: right;\">\n",
       "      <th></th>\n",
       "      <th>MarksA</th>\n",
       "      <th>MarksB</th>\n",
       "      <th>MarksC</th>\n",
       "    </tr>\n",
       "  </thead>\n",
       "  <tbody>\n",
       "    <tr>\n",
       "      <td>2</td>\n",
       "      <td>52.0</td>\n",
       "      <td>80.0</td>\n",
       "      <td>98.0</td>\n",
       "    </tr>\n",
       "    <tr>\n",
       "      <td>3</td>\n",
       "      <td>4.0</td>\n",
       "      <td>70.0</td>\n",
       "      <td>21.0</td>\n",
       "    </tr>\n",
       "    <tr>\n",
       "      <td>4</td>\n",
       "      <td>6.0</td>\n",
       "      <td>79.0</td>\n",
       "      <td>49.0</td>\n",
       "    </tr>\n",
       "  </tbody>\n",
       "</table>\n",
       "</div>"
      ],
      "text/plain": [
       "   MarksA  MarksB  MarksC\n",
       "2    52.0    80.0    98.0\n",
       "3     4.0    70.0    21.0\n",
       "4     6.0    79.0    49.0"
      ]
     },
     "execution_count": 25,
     "metadata": {},
     "output_type": "execute_result"
    }
   ],
   "source": [
    "my_data.tail(n=3)"
   ]
  },
  {
   "cell_type": "code",
   "execution_count": 26,
   "metadata": {},
   "outputs": [
    {
     "data": {
      "text/plain": [
       "MarksA     4.0\n",
       "MarksB    70.0\n",
       "MarksC    21.0\n",
       "Name: 3, dtype: float32"
      ]
     },
     "execution_count": 26,
     "metadata": {},
     "output_type": "execute_result"
    }
   ],
   "source": [
    "# Row\n",
    "df.iloc[3]"
   ]
  },
  {
   "cell_type": "code",
   "execution_count": 27,
   "metadata": {},
   "outputs": [
    {
     "data": {
      "text/plain": [
       "70.0"
      ]
     },
     "execution_count": 27,
     "metadata": {},
     "output_type": "execute_result"
    }
   ],
   "source": [
    "# Row & Column\n",
    "df.iloc[3,1]"
   ]
  },
  {
   "cell_type": "code",
   "execution_count": 28,
   "metadata": {},
   "outputs": [
    {
     "data": {
      "text/plain": [
       "70.0"
      ]
     },
     "execution_count": 28,
     "metadata": {},
     "output_type": "execute_result"
    }
   ],
   "source": [
    "df.iloc[3][1]"
   ]
  },
  {
   "cell_type": "code",
   "execution_count": 32,
   "metadata": {},
   "outputs": [
    {
     "name": "stdout",
     "output_type": "stream",
     "text": [
      "1\n",
      "70.0\n"
     ]
    }
   ],
   "source": [
    "index = df.columns.get_loc('MarksB')\n",
    "print(index)\n",
    "print(df.iloc[3,index])"
   ]
  },
  {
   "cell_type": "code",
   "execution_count": 34,
   "metadata": {},
   "outputs": [
    {
     "name": "stdout",
     "output_type": "stream",
     "text": [
      "[1, 2]\n",
      "MarksB    70.0\n",
      "MarksC    21.0\n",
      "Name: 3, dtype: float32\n"
     ]
    }
   ],
   "source": [
    "index = [df.columns.get_loc('MarksB'),df.columns.get_loc('MarksC')]\n",
    "print(index)\n",
    "print(df.iloc[3,index])"
   ]
  },
  {
   "cell_type": "code",
   "execution_count": 35,
   "metadata": {},
   "outputs": [
    {
     "name": "stdout",
     "output_type": "stream",
     "text": [
      "[1, 2]\n",
      "   MarksB  MarksC\n",
      "0    75.0    24.0\n",
      "1    95.0     3.0\n",
      "2    80.0    98.0\n"
     ]
    }
   ],
   "source": [
    "index = [df.columns.get_loc('MarksB'),df.columns.get_loc('MarksC')]\n",
    "print(index)\n",
    "print(df.iloc[:3,index])"
   ]
  },
  {
   "cell_type": "code",
   "execution_count": 36,
   "metadata": {},
   "outputs": [
    {
     "data": {
      "text/html": [
       "<div>\n",
       "<style scoped>\n",
       "    .dataframe tbody tr th:only-of-type {\n",
       "        vertical-align: middle;\n",
       "    }\n",
       "\n",
       "    .dataframe tbody tr th {\n",
       "        vertical-align: top;\n",
       "    }\n",
       "\n",
       "    .dataframe thead th {\n",
       "        text-align: right;\n",
       "    }\n",
       "</style>\n",
       "<table border=\"1\" class=\"dataframe\">\n",
       "  <thead>\n",
       "    <tr style=\"text-align: right;\">\n",
       "      <th></th>\n",
       "      <th>MarksB</th>\n",
       "      <th>MarksC</th>\n",
       "    </tr>\n",
       "  </thead>\n",
       "  <tbody>\n",
       "    <tr>\n",
       "      <td>0</td>\n",
       "      <td>75.0</td>\n",
       "      <td>24.0</td>\n",
       "    </tr>\n",
       "    <tr>\n",
       "      <td>1</td>\n",
       "      <td>95.0</td>\n",
       "      <td>3.0</td>\n",
       "    </tr>\n",
       "    <tr>\n",
       "      <td>2</td>\n",
       "      <td>80.0</td>\n",
       "      <td>98.0</td>\n",
       "    </tr>\n",
       "  </tbody>\n",
       "</table>\n",
       "</div>"
      ],
      "text/plain": [
       "   MarksB  MarksC\n",
       "0    75.0    24.0\n",
       "1    95.0     3.0\n",
       "2    80.0    98.0"
      ]
     },
     "execution_count": 36,
     "metadata": {},
     "output_type": "execute_result"
    }
   ],
   "source": [
    "df.iloc[:3,[1,2]]"
   ]
  },
  {
   "cell_type": "code",
   "execution_count": 37,
   "metadata": {},
   "outputs": [
    {
     "data": {
      "text/html": [
       "<div>\n",
       "<style scoped>\n",
       "    .dataframe tbody tr th:only-of-type {\n",
       "        vertical-align: middle;\n",
       "    }\n",
       "\n",
       "    .dataframe tbody tr th {\n",
       "        vertical-align: top;\n",
       "    }\n",
       "\n",
       "    .dataframe thead th {\n",
       "        text-align: right;\n",
       "    }\n",
       "</style>\n",
       "<table border=\"1\" class=\"dataframe\">\n",
       "  <thead>\n",
       "    <tr style=\"text-align: right;\">\n",
       "      <th></th>\n",
       "      <th>MarksA</th>\n",
       "      <th>MarksB</th>\n",
       "      <th>MarksC</th>\n",
       "    </tr>\n",
       "  </thead>\n",
       "  <tbody>\n",
       "    <tr>\n",
       "      <td>0</td>\n",
       "      <td>66.0</td>\n",
       "      <td>75.0</td>\n",
       "      <td>24.0</td>\n",
       "    </tr>\n",
       "    <tr>\n",
       "      <td>1</td>\n",
       "      <td>80.0</td>\n",
       "      <td>95.0</td>\n",
       "      <td>3.0</td>\n",
       "    </tr>\n",
       "    <tr>\n",
       "      <td>2</td>\n",
       "      <td>52.0</td>\n",
       "      <td>80.0</td>\n",
       "      <td>98.0</td>\n",
       "    </tr>\n",
       "    <tr>\n",
       "      <td>3</td>\n",
       "      <td>4.0</td>\n",
       "      <td>70.0</td>\n",
       "      <td>21.0</td>\n",
       "    </tr>\n",
       "    <tr>\n",
       "      <td>4</td>\n",
       "      <td>6.0</td>\n",
       "      <td>79.0</td>\n",
       "      <td>49.0</td>\n",
       "    </tr>\n",
       "  </tbody>\n",
       "</table>\n",
       "</div>"
      ],
      "text/plain": [
       "   MarksA  MarksB  MarksC\n",
       "0    66.0    75.0    24.0\n",
       "1    80.0    95.0     3.0\n",
       "2    52.0    80.0    98.0\n",
       "3     4.0    70.0    21.0\n",
       "4     6.0    79.0    49.0"
      ]
     },
     "execution_count": 37,
     "metadata": {},
     "output_type": "execute_result"
    }
   ],
   "source": [
    "# Sort your dataframe\n",
    "my_data"
   ]
  },
  {
   "cell_type": "code",
   "execution_count": 38,
   "metadata": {},
   "outputs": [
    {
     "data": {
      "text/html": [
       "<div>\n",
       "<style scoped>\n",
       "    .dataframe tbody tr th:only-of-type {\n",
       "        vertical-align: middle;\n",
       "    }\n",
       "\n",
       "    .dataframe tbody tr th {\n",
       "        vertical-align: top;\n",
       "    }\n",
       "\n",
       "    .dataframe thead th {\n",
       "        text-align: right;\n",
       "    }\n",
       "</style>\n",
       "<table border=\"1\" class=\"dataframe\">\n",
       "  <thead>\n",
       "    <tr style=\"text-align: right;\">\n",
       "      <th></th>\n",
       "      <th>MarksA</th>\n",
       "      <th>MarksB</th>\n",
       "      <th>MarksC</th>\n",
       "    </tr>\n",
       "  </thead>\n",
       "  <tbody>\n",
       "    <tr>\n",
       "      <td>3</td>\n",
       "      <td>4.0</td>\n",
       "      <td>70.0</td>\n",
       "      <td>21.0</td>\n",
       "    </tr>\n",
       "    <tr>\n",
       "      <td>4</td>\n",
       "      <td>6.0</td>\n",
       "      <td>79.0</td>\n",
       "      <td>49.0</td>\n",
       "    </tr>\n",
       "    <tr>\n",
       "      <td>2</td>\n",
       "      <td>52.0</td>\n",
       "      <td>80.0</td>\n",
       "      <td>98.0</td>\n",
       "    </tr>\n",
       "    <tr>\n",
       "      <td>0</td>\n",
       "      <td>66.0</td>\n",
       "      <td>75.0</td>\n",
       "      <td>24.0</td>\n",
       "    </tr>\n",
       "    <tr>\n",
       "      <td>1</td>\n",
       "      <td>80.0</td>\n",
       "      <td>95.0</td>\n",
       "      <td>3.0</td>\n",
       "    </tr>\n",
       "  </tbody>\n",
       "</table>\n",
       "</div>"
      ],
      "text/plain": [
       "   MarksA  MarksB  MarksC\n",
       "3     4.0    70.0    21.0\n",
       "4     6.0    79.0    49.0\n",
       "2    52.0    80.0    98.0\n",
       "0    66.0    75.0    24.0\n",
       "1    80.0    95.0     3.0"
      ]
     },
     "execution_count": 38,
     "metadata": {},
     "output_type": "execute_result"
    }
   ],
   "source": [
    "my_data.sort_values(by=[\"MarksA\"],ascending=True)"
   ]
  },
  {
   "cell_type": "code",
   "execution_count": 39,
   "metadata": {},
   "outputs": [
    {
     "data": {
      "text/html": [
       "<div>\n",
       "<style scoped>\n",
       "    .dataframe tbody tr th:only-of-type {\n",
       "        vertical-align: middle;\n",
       "    }\n",
       "\n",
       "    .dataframe tbody tr th {\n",
       "        vertical-align: top;\n",
       "    }\n",
       "\n",
       "    .dataframe thead th {\n",
       "        text-align: right;\n",
       "    }\n",
       "</style>\n",
       "<table border=\"1\" class=\"dataframe\">\n",
       "  <thead>\n",
       "    <tr style=\"text-align: right;\">\n",
       "      <th></th>\n",
       "      <th>MarksA</th>\n",
       "      <th>MarksB</th>\n",
       "      <th>MarksC</th>\n",
       "    </tr>\n",
       "  </thead>\n",
       "  <tbody>\n",
       "    <tr>\n",
       "      <td>1</td>\n",
       "      <td>80.0</td>\n",
       "      <td>95.0</td>\n",
       "      <td>3.0</td>\n",
       "    </tr>\n",
       "    <tr>\n",
       "      <td>0</td>\n",
       "      <td>66.0</td>\n",
       "      <td>75.0</td>\n",
       "      <td>24.0</td>\n",
       "    </tr>\n",
       "    <tr>\n",
       "      <td>2</td>\n",
       "      <td>52.0</td>\n",
       "      <td>80.0</td>\n",
       "      <td>98.0</td>\n",
       "    </tr>\n",
       "    <tr>\n",
       "      <td>4</td>\n",
       "      <td>6.0</td>\n",
       "      <td>79.0</td>\n",
       "      <td>49.0</td>\n",
       "    </tr>\n",
       "    <tr>\n",
       "      <td>3</td>\n",
       "      <td>4.0</td>\n",
       "      <td>70.0</td>\n",
       "      <td>21.0</td>\n",
       "    </tr>\n",
       "  </tbody>\n",
       "</table>\n",
       "</div>"
      ],
      "text/plain": [
       "   MarksA  MarksB  MarksC\n",
       "1    80.0    95.0     3.0\n",
       "0    66.0    75.0    24.0\n",
       "2    52.0    80.0    98.0\n",
       "4     6.0    79.0    49.0\n",
       "3     4.0    70.0    21.0"
      ]
     },
     "execution_count": 39,
     "metadata": {},
     "output_type": "execute_result"
    }
   ],
   "source": [
    "my_data.sort_values(by=[\"MarksA\"],ascending=False)"
   ]
  },
  {
   "cell_type": "code",
   "execution_count": 40,
   "metadata": {},
   "outputs": [
    {
     "data": {
      "text/html": [
       "<div>\n",
       "<style scoped>\n",
       "    .dataframe tbody tr th:only-of-type {\n",
       "        vertical-align: middle;\n",
       "    }\n",
       "\n",
       "    .dataframe tbody tr th {\n",
       "        vertical-align: top;\n",
       "    }\n",
       "\n",
       "    .dataframe thead th {\n",
       "        text-align: right;\n",
       "    }\n",
       "</style>\n",
       "<table border=\"1\" class=\"dataframe\">\n",
       "  <thead>\n",
       "    <tr style=\"text-align: right;\">\n",
       "      <th></th>\n",
       "      <th>MarksA</th>\n",
       "      <th>MarksB</th>\n",
       "      <th>MarksC</th>\n",
       "    </tr>\n",
       "  </thead>\n",
       "  <tbody>\n",
       "    <tr>\n",
       "      <td>1</td>\n",
       "      <td>80.0</td>\n",
       "      <td>95.0</td>\n",
       "      <td>3.0</td>\n",
       "    </tr>\n",
       "    <tr>\n",
       "      <td>2</td>\n",
       "      <td>52.0</td>\n",
       "      <td>80.0</td>\n",
       "      <td>98.0</td>\n",
       "    </tr>\n",
       "    <tr>\n",
       "      <td>4</td>\n",
       "      <td>6.0</td>\n",
       "      <td>79.0</td>\n",
       "      <td>49.0</td>\n",
       "    </tr>\n",
       "    <tr>\n",
       "      <td>0</td>\n",
       "      <td>66.0</td>\n",
       "      <td>75.0</td>\n",
       "      <td>24.0</td>\n",
       "    </tr>\n",
       "    <tr>\n",
       "      <td>3</td>\n",
       "      <td>4.0</td>\n",
       "      <td>70.0</td>\n",
       "      <td>21.0</td>\n",
       "    </tr>\n",
       "  </tbody>\n",
       "</table>\n",
       "</div>"
      ],
      "text/plain": [
       "   MarksA  MarksB  MarksC\n",
       "1    80.0    95.0     3.0\n",
       "2    52.0    80.0    98.0\n",
       "4     6.0    79.0    49.0\n",
       "0    66.0    75.0    24.0\n",
       "3     4.0    70.0    21.0"
      ]
     },
     "execution_count": 40,
     "metadata": {},
     "output_type": "execute_result"
    }
   ],
   "source": [
    "my_data.sort_values(by=[\"MarksB\",\"MarksA\"],ascending=False)"
   ]
  },
  {
   "cell_type": "code",
   "execution_count": 41,
   "metadata": {},
   "outputs": [],
   "source": [
    "data_array = my_data.values"
   ]
  },
  {
   "cell_type": "code",
   "execution_count": 44,
   "metadata": {},
   "outputs": [
    {
     "name": "stdout",
     "output_type": "stream",
     "text": [
      "<class 'pandas.core.frame.DataFrame'>\n",
      "   MarksA  MarksB  MarksC\n",
      "0    66.0    75.0    24.0\n",
      "1    80.0    95.0     3.0\n",
      "2    52.0    80.0    98.0\n",
      "3     4.0    70.0    21.0\n",
      "4     6.0    79.0    49.0\n",
      "(5, 3)\n",
      "<class 'numpy.ndarray'>\n",
      "[[66. 75. 24.]\n",
      " [80. 95.  3.]\n",
      " [52. 80. 98.]\n",
      " [ 4. 70. 21.]\n",
      " [ 6. 79. 49.]]\n",
      "(5, 3)\n"
     ]
    }
   ],
   "source": [
    "print(type(my_data))\n",
    "print(my_data)\n",
    "print(my_data.shape)\n",
    "print(type(data_array))\n",
    "print(data_array)\n",
    "print(data_array.shape)"
   ]
  },
  {
   "cell_type": "code",
   "execution_count": 45,
   "metadata": {},
   "outputs": [
    {
     "data": {
      "text/plain": [
       "98.0"
      ]
     },
     "execution_count": 45,
     "metadata": {},
     "output_type": "execute_result"
    }
   ],
   "source": [
    "data_array[2][2]"
   ]
  },
  {
   "cell_type": "code",
   "execution_count": 46,
   "metadata": {},
   "outputs": [],
   "source": [
    "# Numpy array back to dataframe\n",
    "new_df = pd.DataFrame(data_array,dtype='int32',columns=[\"Physics\",\"Chemistry\",\"Maths\"])"
   ]
  },
  {
   "cell_type": "code",
   "execution_count": 47,
   "metadata": {},
   "outputs": [
    {
     "data": {
      "text/html": [
       "<div>\n",
       "<style scoped>\n",
       "    .dataframe tbody tr th:only-of-type {\n",
       "        vertical-align: middle;\n",
       "    }\n",
       "\n",
       "    .dataframe tbody tr th {\n",
       "        vertical-align: top;\n",
       "    }\n",
       "\n",
       "    .dataframe thead th {\n",
       "        text-align: right;\n",
       "    }\n",
       "</style>\n",
       "<table border=\"1\" class=\"dataframe\">\n",
       "  <thead>\n",
       "    <tr style=\"text-align: right;\">\n",
       "      <th></th>\n",
       "      <th>Physics</th>\n",
       "      <th>Chemistry</th>\n",
       "      <th>Maths</th>\n",
       "    </tr>\n",
       "  </thead>\n",
       "  <tbody>\n",
       "    <tr>\n",
       "      <td>0</td>\n",
       "      <td>66</td>\n",
       "      <td>75</td>\n",
       "      <td>24</td>\n",
       "    </tr>\n",
       "    <tr>\n",
       "      <td>1</td>\n",
       "      <td>80</td>\n",
       "      <td>95</td>\n",
       "      <td>3</td>\n",
       "    </tr>\n",
       "    <tr>\n",
       "      <td>2</td>\n",
       "      <td>52</td>\n",
       "      <td>80</td>\n",
       "      <td>98</td>\n",
       "    </tr>\n",
       "    <tr>\n",
       "      <td>3</td>\n",
       "      <td>4</td>\n",
       "      <td>70</td>\n",
       "      <td>21</td>\n",
       "    </tr>\n",
       "    <tr>\n",
       "      <td>4</td>\n",
       "      <td>6</td>\n",
       "      <td>79</td>\n",
       "      <td>49</td>\n",
       "    </tr>\n",
       "  </tbody>\n",
       "</table>\n",
       "</div>"
      ],
      "text/plain": [
       "   Physics  Chemistry  Maths\n",
       "0       66         75     24\n",
       "1       80         95      3\n",
       "2       52         80     98\n",
       "3        4         70     21\n",
       "4        6         79     49"
      ]
     },
     "execution_count": 47,
     "metadata": {},
     "output_type": "execute_result"
    }
   ],
   "source": [
    "new_df"
   ]
  },
  {
   "cell_type": "code",
   "execution_count": 48,
   "metadata": {},
   "outputs": [],
   "source": [
    "new_df.to_csv('../Csv Files/PCM.csv')"
   ]
  },
  {
   "cell_type": "code",
   "execution_count": 49,
   "metadata": {},
   "outputs": [],
   "source": [
    "new_df.to_csv('../Csv Files/PCM2.csv',index=False)"
   ]
  },
  {
   "cell_type": "code",
   "execution_count": 52,
   "metadata": {},
   "outputs": [
    {
     "name": "stdout",
     "output_type": "stream",
     "text": [
      "   Physics  Chemistry  Maths\n",
      "0       66         75     24\n",
      "1       80         95      3\n",
      "2       52         80     98\n",
      "3        4         70     21\n",
      "4        6         79     49\n"
     ]
    }
   ],
   "source": [
    "pcm = pd.read_csv('../Csv Files/PCM2.csv')\n",
    "print(pcm)"
   ]
  },
  {
   "cell_type": "markdown",
   "metadata": {},
   "source": [
    "# 03. MNIST Dataset"
   ]
  },
  {
   "cell_type": "code",
   "execution_count": 53,
   "metadata": {},
   "outputs": [],
   "source": [
    "import pandas as pd"
   ]
  },
  {
   "cell_type": "code",
   "execution_count": 54,
   "metadata": {},
   "outputs": [],
   "source": [
    "df = pd.read_csv('../Csv Files/mnist_train.csv')"
   ]
  },
  {
   "cell_type": "code",
   "execution_count": 55,
   "metadata": {},
   "outputs": [
    {
     "data": {
      "text/plain": [
       "(42000, 785)"
      ]
     },
     "execution_count": 55,
     "metadata": {},
     "output_type": "execute_result"
    }
   ],
   "source": [
    "df.shape"
   ]
  },
  {
   "cell_type": "code",
   "execution_count": 56,
   "metadata": {},
   "outputs": [
    {
     "data": {
      "text/plain": [
       "Index(['label', 'pixel0', 'pixel1', 'pixel2', 'pixel3', 'pixel4', 'pixel5',\n",
       "       'pixel6', 'pixel7', 'pixel8',\n",
       "       ...\n",
       "       'pixel774', 'pixel775', 'pixel776', 'pixel777', 'pixel778', 'pixel779',\n",
       "       'pixel780', 'pixel781', 'pixel782', 'pixel783'],\n",
       "      dtype='object', length=785)"
      ]
     },
     "execution_count": 56,
     "metadata": {},
     "output_type": "execute_result"
    }
   ],
   "source": [
    "df.columns"
   ]
  },
  {
   "cell_type": "code",
   "execution_count": 57,
   "metadata": {},
   "outputs": [
    {
     "data": {
      "text/html": [
       "<div>\n",
       "<style scoped>\n",
       "    .dataframe tbody tr th:only-of-type {\n",
       "        vertical-align: middle;\n",
       "    }\n",
       "\n",
       "    .dataframe tbody tr th {\n",
       "        vertical-align: top;\n",
       "    }\n",
       "\n",
       "    .dataframe thead th {\n",
       "        text-align: right;\n",
       "    }\n",
       "</style>\n",
       "<table border=\"1\" class=\"dataframe\">\n",
       "  <thead>\n",
       "    <tr style=\"text-align: right;\">\n",
       "      <th></th>\n",
       "      <th>label</th>\n",
       "      <th>pixel0</th>\n",
       "      <th>pixel1</th>\n",
       "      <th>pixel2</th>\n",
       "      <th>pixel3</th>\n",
       "      <th>pixel4</th>\n",
       "      <th>pixel5</th>\n",
       "      <th>pixel6</th>\n",
       "      <th>pixel7</th>\n",
       "      <th>pixel8</th>\n",
       "      <th>...</th>\n",
       "      <th>pixel774</th>\n",
       "      <th>pixel775</th>\n",
       "      <th>pixel776</th>\n",
       "      <th>pixel777</th>\n",
       "      <th>pixel778</th>\n",
       "      <th>pixel779</th>\n",
       "      <th>pixel780</th>\n",
       "      <th>pixel781</th>\n",
       "      <th>pixel782</th>\n",
       "      <th>pixel783</th>\n",
       "    </tr>\n",
       "  </thead>\n",
       "  <tbody>\n",
       "    <tr>\n",
       "      <td>0</td>\n",
       "      <td>1</td>\n",
       "      <td>0</td>\n",
       "      <td>0</td>\n",
       "      <td>0</td>\n",
       "      <td>0</td>\n",
       "      <td>0</td>\n",
       "      <td>0</td>\n",
       "      <td>0</td>\n",
       "      <td>0</td>\n",
       "      <td>0</td>\n",
       "      <td>...</td>\n",
       "      <td>0</td>\n",
       "      <td>0</td>\n",
       "      <td>0</td>\n",
       "      <td>0</td>\n",
       "      <td>0</td>\n",
       "      <td>0</td>\n",
       "      <td>0</td>\n",
       "      <td>0</td>\n",
       "      <td>0</td>\n",
       "      <td>0</td>\n",
       "    </tr>\n",
       "    <tr>\n",
       "      <td>1</td>\n",
       "      <td>0</td>\n",
       "      <td>0</td>\n",
       "      <td>0</td>\n",
       "      <td>0</td>\n",
       "      <td>0</td>\n",
       "      <td>0</td>\n",
       "      <td>0</td>\n",
       "      <td>0</td>\n",
       "      <td>0</td>\n",
       "      <td>0</td>\n",
       "      <td>...</td>\n",
       "      <td>0</td>\n",
       "      <td>0</td>\n",
       "      <td>0</td>\n",
       "      <td>0</td>\n",
       "      <td>0</td>\n",
       "      <td>0</td>\n",
       "      <td>0</td>\n",
       "      <td>0</td>\n",
       "      <td>0</td>\n",
       "      <td>0</td>\n",
       "    </tr>\n",
       "    <tr>\n",
       "      <td>2</td>\n",
       "      <td>1</td>\n",
       "      <td>0</td>\n",
       "      <td>0</td>\n",
       "      <td>0</td>\n",
       "      <td>0</td>\n",
       "      <td>0</td>\n",
       "      <td>0</td>\n",
       "      <td>0</td>\n",
       "      <td>0</td>\n",
       "      <td>0</td>\n",
       "      <td>...</td>\n",
       "      <td>0</td>\n",
       "      <td>0</td>\n",
       "      <td>0</td>\n",
       "      <td>0</td>\n",
       "      <td>0</td>\n",
       "      <td>0</td>\n",
       "      <td>0</td>\n",
       "      <td>0</td>\n",
       "      <td>0</td>\n",
       "      <td>0</td>\n",
       "    </tr>\n",
       "    <tr>\n",
       "      <td>3</td>\n",
       "      <td>4</td>\n",
       "      <td>0</td>\n",
       "      <td>0</td>\n",
       "      <td>0</td>\n",
       "      <td>0</td>\n",
       "      <td>0</td>\n",
       "      <td>0</td>\n",
       "      <td>0</td>\n",
       "      <td>0</td>\n",
       "      <td>0</td>\n",
       "      <td>...</td>\n",
       "      <td>0</td>\n",
       "      <td>0</td>\n",
       "      <td>0</td>\n",
       "      <td>0</td>\n",
       "      <td>0</td>\n",
       "      <td>0</td>\n",
       "      <td>0</td>\n",
       "      <td>0</td>\n",
       "      <td>0</td>\n",
       "      <td>0</td>\n",
       "    </tr>\n",
       "    <tr>\n",
       "      <td>4</td>\n",
       "      <td>0</td>\n",
       "      <td>0</td>\n",
       "      <td>0</td>\n",
       "      <td>0</td>\n",
       "      <td>0</td>\n",
       "      <td>0</td>\n",
       "      <td>0</td>\n",
       "      <td>0</td>\n",
       "      <td>0</td>\n",
       "      <td>0</td>\n",
       "      <td>...</td>\n",
       "      <td>0</td>\n",
       "      <td>0</td>\n",
       "      <td>0</td>\n",
       "      <td>0</td>\n",
       "      <td>0</td>\n",
       "      <td>0</td>\n",
       "      <td>0</td>\n",
       "      <td>0</td>\n",
       "      <td>0</td>\n",
       "      <td>0</td>\n",
       "    </tr>\n",
       "  </tbody>\n",
       "</table>\n",
       "<p>5 rows × 785 columns</p>\n",
       "</div>"
      ],
      "text/plain": [
       "   label  pixel0  pixel1  pixel2  pixel3  pixel4  pixel5  pixel6  pixel7  \\\n",
       "0      1       0       0       0       0       0       0       0       0   \n",
       "1      0       0       0       0       0       0       0       0       0   \n",
       "2      1       0       0       0       0       0       0       0       0   \n",
       "3      4       0       0       0       0       0       0       0       0   \n",
       "4      0       0       0       0       0       0       0       0       0   \n",
       "\n",
       "   pixel8  ...  pixel774  pixel775  pixel776  pixel777  pixel778  pixel779  \\\n",
       "0       0  ...         0         0         0         0         0         0   \n",
       "1       0  ...         0         0         0         0         0         0   \n",
       "2       0  ...         0         0         0         0         0         0   \n",
       "3       0  ...         0         0         0         0         0         0   \n",
       "4       0  ...         0         0         0         0         0         0   \n",
       "\n",
       "   pixel780  pixel781  pixel782  pixel783  \n",
       "0         0         0         0         0  \n",
       "1         0         0         0         0  \n",
       "2         0         0         0         0  \n",
       "3         0         0         0         0  \n",
       "4         0         0         0         0  \n",
       "\n",
       "[5 rows x 785 columns]"
      ]
     },
     "execution_count": 57,
     "metadata": {},
     "output_type": "execute_result"
    }
   ],
   "source": [
    "df.head()"
   ]
  },
  {
   "cell_type": "code",
   "execution_count": 58,
   "metadata": {},
   "outputs": [
    {
     "name": "stdout",
     "output_type": "stream",
     "text": [
      "<class 'pandas.core.frame.DataFrame'>\n"
     ]
    }
   ],
   "source": [
    "print(type(df))"
   ]
  },
  {
   "cell_type": "code",
   "execution_count": 59,
   "metadata": {},
   "outputs": [],
   "source": [
    "data = df.values"
   ]
  },
  {
   "cell_type": "code",
   "execution_count": 60,
   "metadata": {},
   "outputs": [
    {
     "name": "stdout",
     "output_type": "stream",
     "text": [
      "<class 'numpy.ndarray'>\n"
     ]
    }
   ],
   "source": [
    "print(type(data))"
   ]
  },
  {
   "cell_type": "code",
   "execution_count": 61,
   "metadata": {},
   "outputs": [
    {
     "name": "stdout",
     "output_type": "stream",
     "text": [
      "(42000, 784)\n",
      "(42000,)\n"
     ]
    }
   ],
   "source": [
    "X = data[:,1:]\n",
    "Y = data[:,0]\n",
    "print(X.shape)\n",
    "print(Y.shape)"
   ]
  },
  {
   "cell_type": "code",
   "execution_count": 62,
   "metadata": {},
   "outputs": [
    {
     "name": "stdout",
     "output_type": "stream",
     "text": [
      "[1 0 1 ... 7 6 9]\n"
     ]
    }
   ],
   "source": [
    "print(Y)"
   ]
  },
  {
   "cell_type": "code",
   "execution_count": 63,
   "metadata": {},
   "outputs": [
    {
     "name": "stdout",
     "output_type": "stream",
     "text": [
      "[[0 0 0 ... 0 0 0]\n",
      " [0 0 0 ... 0 0 0]\n",
      " [0 0 0 ... 0 0 0]\n",
      " ...\n",
      " [0 0 0 ... 0 0 0]\n",
      " [0 0 0 ... 0 0 0]\n",
      " [0 0 0 ... 0 0 0]]\n"
     ]
    }
   ],
   "source": [
    "print(X)"
   ]
  },
  {
   "cell_type": "markdown",
   "metadata": {},
   "source": [
    "<img src='../Images/03. MNIST Dataset/Image001.png'/>"
   ]
  },
  {
   "cell_type": "code",
   "execution_count": 64,
   "metadata": {},
   "outputs": [
    {
     "name": "stdout",
     "output_type": "stream",
     "text": [
      "[[  0   0   0   0   0   0   0   0   0   0   0   0   0   0   0   0   0   0\n",
      "    0   0   0   0   0   0   0   0   0   0]\n",
      " [  0   0   0   0   0   0   0   0   0   0   0   0   0   0   0   0   0   0\n",
      "    0   0   0   0   0   0   0   0   0   0]\n",
      " [  0   0   0   0   0   0   0   0   0   0   0   0   0   0   0   0   0   0\n",
      "    0   0   0   0   0   0   0   0   0   0]\n",
      " [  0   0   0   0   0   0   0   0   0   0   0   0   0   0   0   0   0   0\n",
      "    0   0   0   0   0   0   0   0   0   0]\n",
      " [  0   0   0   0   0   0   0   0   0   0   0   0   0   0   0   0   0   0\n",
      "    0   0   0   0   0   0   0   0   0   0]\n",
      " [  0   0   0   0   0   0 220 179   6   0   0   0   0   0   0   0   0   9\n",
      "   77   0   0   0   0   0   0   0   0   0]\n",
      " [  0   0   0   0   0   0  28 247  17   0   0   0   0   0   0   0   0  27\n",
      "  202   0   0   0   0   0   0   0   0   0]\n",
      " [  0   0   0   0   0   0   0 242 155   0   0   0   0   0   0   0   0  27\n",
      "  254  63   0   0   0   0   0   0   0   0]\n",
      " [  0   0   0   0   0   0   0 160 207   6   0   0   0   0   0   0   0  27\n",
      "  254  65   0   0   0   0   0   0   0   0]\n",
      " [  0   0   0   0   0   0   0 127 254  21   0   0   0   0   0   0   0  20\n",
      "  239  65   0   0   0   0   0   0   0   0]\n",
      " [  0   0   0   0   0   0   0  77 254  21   0   0   0   0   0   0   0   0\n",
      "  195  65   0   0   0   0   0   0   0   0]\n",
      " [  0   0   0   0   0   0   0  70 254  21   0   0   0   0   0   0   0   0\n",
      "  195 142   0   0   0   0   0   0   0   0]\n",
      " [  0   0   0   0   0   0   0  56 251  21   0   0   0   0   0   0   0   0\n",
      "  195 227   0   0   0   0   0   0   0   0]\n",
      " [  0   0   0   0   0   0   0   0 222 153   5   0   0   0   0   0   0   0\n",
      "  120 240  13   0   0   0   0   0   0   0]\n",
      " [  0   0   0   0   0   0   0   0  67 251  40   0   0   0   0   0   0   0\n",
      "   94 255  69   0   0   0   0   0   0   0]\n",
      " [  0   0   0   0   0   0   0   0   0 234 184   0   0   0   0   0   0   0\n",
      "   19 245  69   0   0   0   0   0   0   0]\n",
      " [  0   0   0   0   0   0   0   0   0 234 169   0   0   0   0   0   0   0\n",
      "    3 199 182  10   0   0   0   0   0   0]\n",
      " [  0   0   0   0   0   0   0   0   0 154 205   4   0   0  26  72 128 203\n",
      "  208 254 254 131   0   0   0   0   0   0]\n",
      " [  0   0   0   0   0   0   0   0   0  61 254 129 113 186 245 251 189  75\n",
      "   56 136 254  73   0   0   0   0   0   0]\n",
      " [  0   0   0   0   0   0   0   0   0  15 216 233 233 159 104  52   0   0\n",
      "    0  38 254  73   0   0   0   0   0   0]\n",
      " [  0   0   0   0   0   0   0   0   0   0   0   0   0   0   0   0   0   0\n",
      "    0  18 254  73   0   0   0   0   0   0]\n",
      " [  0   0   0   0   0   0   0   0   0   0   0   0   0   0   0   0   0   0\n",
      "    0  18 254  73   0   0   0   0   0   0]\n",
      " [  0   0   0   0   0   0   0   0   0   0   0   0   0   0   0   0   0   0\n",
      "    0   5 206 106   0   0   0   0   0   0]\n",
      " [  0   0   0   0   0   0   0   0   0   0   0   0   0   0   0   0   0   0\n",
      "    0   0 186 159   0   0   0   0   0   0]\n",
      " [  0   0   0   0   0   0   0   0   0   0   0   0   0   0   0   0   0   0\n",
      "    0   6 209 101   0   0   0   0   0   0]\n",
      " [  0   0   0   0   0   0   0   0   0   0   0   0   0   0   0   0   0   0\n",
      "    0   0   0   0   0   0   0   0   0   0]\n",
      " [  0   0   0   0   0   0   0   0   0   0   0   0   0   0   0   0   0   0\n",
      "    0   0   0   0   0   0   0   0   0   0]\n",
      " [  0   0   0   0   0   0   0   0   0   0   0   0   0   0   0   0   0   0\n",
      "    0   0   0   0   0   0   0   0   0   0]]\n"
     ]
    }
   ],
   "source": [
    "img = X[3].reshape((28,28))\n",
    "print(img)"
   ]
  },
  {
   "cell_type": "code",
   "execution_count": 66,
   "metadata": {},
   "outputs": [],
   "source": [
    "import matplotlib.pyplot as plt"
   ]
  },
  {
   "cell_type": "code",
   "execution_count": 68,
   "metadata": {},
   "outputs": [
    {
     "data": {
      "image/png": "[encoded data removed]",
      "text/plain": [
       "<Figure size 432x288 with 1 Axes>"
      ]
     },
     "metadata": {},
     "output_type": "display_data"
    }
   ],
   "source": [
    "plt.imshow(img)\n",
    "plt.show()"
   ]
  },
  {
   "cell_type": "code",
   "execution_count": 70,
   "metadata": {},
   "outputs": [
    {
     "name": "stdout",
     "output_type": "stream",
     "text": [
      "4\n"
     ]
    },
    {
     "data": {
      "image/png": "[encoded data removed]",
      "text/plain": [
       "<Figure size 432x288 with 1 Axes>"
      ]
     },
     "metadata": {},
     "output_type": "display_data"
    }
   ],
   "source": [
    "plt.imshow(img,cmap='gray')\n",
    "print(Y[3])\n",
    "plt.show()"
   ]
  },
  {
   "cell_type": "code",
   "execution_count": 73,
   "metadata": {},
   "outputs": [
    {
     "name": "stdout",
     "output_type": "stream",
     "text": [
      "33600\n",
      "(33600, 784) (33600,)\n",
      "(8400, 784) (8400,)\n"
     ]
    }
   ],
   "source": [
    "# Divide into training set\n",
    "\n",
    "split = int(0.8*X.shape[0])\n",
    "print(split)\n",
    "\n",
    "X_train,Y_train = X[:split,:],Y[:split]\n",
    "print(X_train.shape,Y_train.shape)\n",
    "\n",
    "X_test, Y_test = X[split:,:], Y[split:]\n",
    "print(X_test.shape,Y_test.shape)"
   ]
  },
  {
   "cell_type": "markdown",
   "metadata": {},
   "source": [
    "### Scikit Split"
   ]
  },
  {
   "cell_type": "code",
   "execution_count": 74,
   "metadata": {},
   "outputs": [],
   "source": [
    "from sklearn.model_selection import train_test_split"
   ]
  },
  {
   "cell_type": "code",
   "execution_count": 81,
   "metadata": {},
   "outputs": [],
   "source": [
    "XT, Xt, YT, Yt = train_test_split(X,Y,test_size = 0.2,random_state = 5)"
   ]
  },
  {
   "cell_type": "code",
   "execution_count": 82,
   "metadata": {},
   "outputs": [
    {
     "name": "stdout",
     "output_type": "stream",
     "text": [
      "(33600, 784) (33600,)\n",
      "(8400, 784) (8400,)\n"
     ]
    }
   ],
   "source": [
    "print(XT.shape,YT.shape)\n",
    "print(Xt.shape,Yt.shape)"
   ]
  },
  {
   "cell_type": "markdown",
   "metadata": {},
   "source": [
    "# 04. Movie Dataset"
   ]
  },
  {
   "cell_type": "markdown",
   "metadata": {},
   "source": [
    "### Working with DataSet using Pandas\n",
    "- Pandas is an Open Source Library\n",
    "- For Data Analysis in Python\n",
    "- We will be using for reading and writing data between in-memory data structures and files : CSV's, Text Files, SQL Databases, Excel Sheets etc.\n",
    "- Reshaping, Slicing, Indexing, Merging and Joining Datasets"
   ]
  },
  {
   "cell_type": "markdown",
   "metadata": {},
   "source": [
    "### Insallation"
   ]
  },
  {
   "cell_type": "code",
   "execution_count": 85,
   "metadata": {},
   "outputs": [
    {
     "name": "stdout",
     "output_type": "stream",
     "text": [
      "Requirement already satisfied: pandas in /usr/local/lib/python3.6/dist-packages (0.25.1)\n",
      "Requirement already satisfied: pytz>=2017.2 in /usr/lib/python3/dist-packages (from pandas) (2018.3)\n",
      "Requirement already satisfied: numpy>=1.13.3 in /usr/local/lib/python3.6/dist-packages (from pandas) (1.17.0)\n",
      "Requirement already satisfied: python-dateutil>=2.6.1 in /usr/lib/python3/dist-packages (from pandas) (2.6.1)\n",
      "\u001b[33mWARNING: You are using pip version 19.2.3, however version 19.3.1 is available.\n",
      "You should consider upgrading via the 'pip install --upgrade pip' command.\u001b[0m\n"
     ]
    }
   ],
   "source": [
    "!pip install pandas"
   ]
  },
  {
   "cell_type": "code",
   "execution_count": 86,
   "metadata": {},
   "outputs": [],
   "source": [
    "import pandas as pd\n",
    "import numpy as np\n",
    "import matplotlib.pyplot as plt"
   ]
  },
  {
   "cell_type": "code",
   "execution_count": 87,
   "metadata": {},
   "outputs": [],
   "source": [
    "# Dataframe\n",
    "df = pd.read_csv('../Csv Files/movie_metadata.csv')"
   ]
  },
  {
   "cell_type": "code",
   "execution_count": 88,
   "metadata": {},
   "outputs": [
    {
     "name": "stdout",
     "output_type": "stream",
     "text": [
      "      color      director_name  num_critic_for_reviews  duration  \\\n",
      "0     Color      James Cameron                   723.0     178.0   \n",
      "1     Color     Gore Verbinski                   302.0     169.0   \n",
      "2     Color         Sam Mendes                   602.0     148.0   \n",
      "3     Color  Christopher Nolan                   813.0     164.0   \n",
      "4       NaN        Doug Walker                     NaN       NaN   \n",
      "...     ...                ...                     ...       ...   \n",
      "5038  Color        Scott Smith                     1.0      87.0   \n",
      "5039  Color                NaN                    43.0      43.0   \n",
      "5040  Color   Benjamin Roberds                    13.0      76.0   \n",
      "5041  Color        Daniel Hsia                    14.0     100.0   \n",
      "5042  Color           Jon Gunn                    43.0      90.0   \n",
      "\n",
      "      director_facebook_likes  actor_3_facebook_likes      actor_2_name  \\\n",
      "0                         0.0                   855.0  Joel David Moore   \n",
      "1                       563.0                  1000.0     Orlando Bloom   \n",
      "2                         0.0                   161.0      Rory Kinnear   \n",
      "3                     22000.0                 23000.0    Christian Bale   \n",
      "4                       131.0                     NaN        Rob Walker   \n",
      "...                       ...                     ...               ...   \n",
      "5038                      2.0                   318.0     Daphne Zuniga   \n",
      "5039                      NaN                   319.0     Valorie Curry   \n",
      "5040                      0.0                     0.0     Maxwell Moody   \n",
      "5041                      0.0                   489.0     Daniel Henney   \n",
      "5042                     16.0                    16.0  Brian Herzlinger   \n",
      "\n",
      "      actor_1_facebook_likes        gross                           genres  \\\n",
      "0                     1000.0  760505847.0  Action|Adventure|Fantasy|Sci-Fi   \n",
      "1                    40000.0  309404152.0         Action|Adventure|Fantasy   \n",
      "2                    11000.0  200074175.0        Action|Adventure|Thriller   \n",
      "3                    27000.0  448130642.0                  Action|Thriller   \n",
      "4                      131.0          NaN                      Documentary   \n",
      "...                      ...          ...                              ...   \n",
      "5038                   637.0          NaN                     Comedy|Drama   \n",
      "5039                   841.0          NaN     Crime|Drama|Mystery|Thriller   \n",
      "5040                     0.0          NaN            Drama|Horror|Thriller   \n",
      "5041                   946.0      10443.0             Comedy|Drama|Romance   \n",
      "5042                    86.0      85222.0                      Documentary   \n",
      "\n",
      "      ... num_user_for_reviews language  country  content_rating       budget  \\\n",
      "0     ...               3054.0  English      USA           PG-13  237000000.0   \n",
      "1     ...               1238.0  English      USA           PG-13  300000000.0   \n",
      "2     ...                994.0  English       UK           PG-13  245000000.0   \n",
      "3     ...               2701.0  English      USA           PG-13  250000000.0   \n",
      "4     ...                  NaN      NaN      NaN             NaN          NaN   \n",
      "...   ...                  ...      ...      ...             ...          ...   \n",
      "5038  ...                  6.0  English   Canada             NaN          NaN   \n",
      "5039  ...                359.0  English      USA           TV-14          NaN   \n",
      "5040  ...                  3.0  English      USA             NaN       1400.0   \n",
      "5041  ...                  9.0  English      USA           PG-13          NaN   \n",
      "5042  ...                 84.0  English      USA              PG       1100.0   \n",
      "\n",
      "      title_year actor_2_facebook_likes imdb_score  aspect_ratio  \\\n",
      "0         2009.0                  936.0        7.9          1.78   \n",
      "1         2007.0                 5000.0        7.1          2.35   \n",
      "2         2015.0                  393.0        6.8          2.35   \n",
      "3         2012.0                23000.0        8.5          2.35   \n",
      "4            NaN                   12.0        7.1           NaN   \n",
      "...          ...                    ...        ...           ...   \n",
      "5038      2013.0                  470.0        7.7           NaN   \n",
      "5039         NaN                  593.0        7.5         16.00   \n",
      "5040      2013.0                    0.0        6.3           NaN   \n",
      "5041      2012.0                  719.0        6.3          2.35   \n",
      "5042      2004.0                   23.0        6.6          1.85   \n",
      "\n",
      "     movie_facebook_likes  \n",
      "0                   33000  \n",
      "1                       0  \n",
      "2                   85000  \n",
      "3                  164000  \n",
      "4                       0  \n",
      "...                   ...  \n",
      "5038                   84  \n",
      "5039                32000  \n",
      "5040                   16  \n",
      "5041                  660  \n",
      "5042                  456  \n",
      "\n",
      "[5043 rows x 28 columns]\n"
     ]
    }
   ],
   "source": [
    "print(df)"
   ]
  },
  {
   "cell_type": "code",
   "execution_count": 89,
   "metadata": {},
   "outputs": [
    {
     "data": {
      "text/html": [
       "<div>\n",
       "<style scoped>\n",
       "    .dataframe tbody tr th:only-of-type {\n",
       "        vertical-align: middle;\n",
       "    }\n",
       "\n",
       "    .dataframe tbody tr th {\n",
       "        vertical-align: top;\n",
       "    }\n",
       "\n",
       "    .dataframe thead th {\n",
       "        text-align: right;\n",
       "    }\n",
       "</style>\n",
       "<table border=\"1\" class=\"dataframe\">\n",
       "  <thead>\n",
       "    <tr style=\"text-align: right;\">\n",
       "      <th></th>\n",
       "      <th>color</th>\n",
       "      <th>director_name</th>\n",
       "      <th>num_critic_for_reviews</th>\n",
       "      <th>duration</th>\n",
       "      <th>director_facebook_likes</th>\n",
       "      <th>actor_3_facebook_likes</th>\n",
       "      <th>actor_2_name</th>\n",
       "      <th>actor_1_facebook_likes</th>\n",
       "      <th>gross</th>\n",
       "      <th>genres</th>\n",
       "      <th>...</th>\n",
       "      <th>num_user_for_reviews</th>\n",
       "      <th>language</th>\n",
       "      <th>country</th>\n",
       "      <th>content_rating</th>\n",
       "      <th>budget</th>\n",
       "      <th>title_year</th>\n",
       "      <th>actor_2_facebook_likes</th>\n",
       "      <th>imdb_score</th>\n",
       "      <th>aspect_ratio</th>\n",
       "      <th>movie_facebook_likes</th>\n",
       "    </tr>\n",
       "  </thead>\n",
       "  <tbody>\n",
       "    <tr>\n",
       "      <td>0</td>\n",
       "      <td>Color</td>\n",
       "      <td>James Cameron</td>\n",
       "      <td>723.0</td>\n",
       "      <td>178.0</td>\n",
       "      <td>0.0</td>\n",
       "      <td>855.0</td>\n",
       "      <td>Joel David Moore</td>\n",
       "      <td>1000.0</td>\n",
       "      <td>760505847.0</td>\n",
       "      <td>Action|Adventure|Fantasy|Sci-Fi</td>\n",
       "      <td>...</td>\n",
       "      <td>3054.0</td>\n",
       "      <td>English</td>\n",
       "      <td>USA</td>\n",
       "      <td>PG-13</td>\n",
       "      <td>237000000.0</td>\n",
       "      <td>2009.0</td>\n",
       "      <td>936.0</td>\n",
       "      <td>7.9</td>\n",
       "      <td>1.78</td>\n",
       "      <td>33000</td>\n",
       "    </tr>\n",
       "    <tr>\n",
       "      <td>1</td>\n",
       "      <td>Color</td>\n",
       "      <td>Gore Verbinski</td>\n",
       "      <td>302.0</td>\n",
       "      <td>169.0</td>\n",
       "      <td>563.0</td>\n",
       "      <td>1000.0</td>\n",
       "      <td>Orlando Bloom</td>\n",
       "      <td>40000.0</td>\n",
       "      <td>309404152.0</td>\n",
       "      <td>Action|Adventure|Fantasy</td>\n",
       "      <td>...</td>\n",
       "      <td>1238.0</td>\n",
       "      <td>English</td>\n",
       "      <td>USA</td>\n",
       "      <td>PG-13</td>\n",
       "      <td>300000000.0</td>\n",
       "      <td>2007.0</td>\n",
       "      <td>5000.0</td>\n",
       "      <td>7.1</td>\n",
       "      <td>2.35</td>\n",
       "      <td>0</td>\n",
       "    </tr>\n",
       "    <tr>\n",
       "      <td>2</td>\n",
       "      <td>Color</td>\n",
       "      <td>Sam Mendes</td>\n",
       "      <td>602.0</td>\n",
       "      <td>148.0</td>\n",
       "      <td>0.0</td>\n",
       "      <td>161.0</td>\n",
       "      <td>Rory Kinnear</td>\n",
       "      <td>11000.0</td>\n",
       "      <td>200074175.0</td>\n",
       "      <td>Action|Adventure|Thriller</td>\n",
       "      <td>...</td>\n",
       "      <td>994.0</td>\n",
       "      <td>English</td>\n",
       "      <td>UK</td>\n",
       "      <td>PG-13</td>\n",
       "      <td>245000000.0</td>\n",
       "      <td>2015.0</td>\n",
       "      <td>393.0</td>\n",
       "      <td>6.8</td>\n",
       "      <td>2.35</td>\n",
       "      <td>85000</td>\n",
       "    </tr>\n",
       "    <tr>\n",
       "      <td>3</td>\n",
       "      <td>Color</td>\n",
       "      <td>Christopher Nolan</td>\n",
       "      <td>813.0</td>\n",
       "      <td>164.0</td>\n",
       "      <td>22000.0</td>\n",
       "      <td>23000.0</td>\n",
       "      <td>Christian Bale</td>\n",
       "      <td>27000.0</td>\n",
       "      <td>448130642.0</td>\n",
       "      <td>Action|Thriller</td>\n",
       "      <td>...</td>\n",
       "      <td>2701.0</td>\n",
       "      <td>English</td>\n",
       "      <td>USA</td>\n",
       "      <td>PG-13</td>\n",
       "      <td>250000000.0</td>\n",
       "      <td>2012.0</td>\n",
       "      <td>23000.0</td>\n",
       "      <td>8.5</td>\n",
       "      <td>2.35</td>\n",
       "      <td>164000</td>\n",
       "    </tr>\n",
       "    <tr>\n",
       "      <td>4</td>\n",
       "      <td>NaN</td>\n",
       "      <td>Doug Walker</td>\n",
       "      <td>NaN</td>\n",
       "      <td>NaN</td>\n",
       "      <td>131.0</td>\n",
       "      <td>NaN</td>\n",
       "      <td>Rob Walker</td>\n",
       "      <td>131.0</td>\n",
       "      <td>NaN</td>\n",
       "      <td>Documentary</td>\n",
       "      <td>...</td>\n",
       "      <td>NaN</td>\n",
       "      <td>NaN</td>\n",
       "      <td>NaN</td>\n",
       "      <td>NaN</td>\n",
       "      <td>NaN</td>\n",
       "      <td>NaN</td>\n",
       "      <td>12.0</td>\n",
       "      <td>7.1</td>\n",
       "      <td>NaN</td>\n",
       "      <td>0</td>\n",
       "    </tr>\n",
       "  </tbody>\n",
       "</table>\n",
       "<p>5 rows × 28 columns</p>\n",
       "</div>"
      ],
      "text/plain": [
       "   color      director_name  num_critic_for_reviews  duration  \\\n",
       "0  Color      James Cameron                   723.0     178.0   \n",
       "1  Color     Gore Verbinski                   302.0     169.0   \n",
       "2  Color         Sam Mendes                   602.0     148.0   \n",
       "3  Color  Christopher Nolan                   813.0     164.0   \n",
       "4    NaN        Doug Walker                     NaN       NaN   \n",
       "\n",
       "   director_facebook_likes  actor_3_facebook_likes      actor_2_name  \\\n",
       "0                      0.0                   855.0  Joel David Moore   \n",
       "1                    563.0                  1000.0     Orlando Bloom   \n",
       "2                      0.0                   161.0      Rory Kinnear   \n",
       "3                  22000.0                 23000.0    Christian Bale   \n",
       "4                    131.0                     NaN        Rob Walker   \n",
       "\n",
       "   actor_1_facebook_likes        gross                           genres  ...  \\\n",
       "0                  1000.0  760505847.0  Action|Adventure|Fantasy|Sci-Fi  ...   \n",
       "1                 40000.0  309404152.0         Action|Adventure|Fantasy  ...   \n",
       "2                 11000.0  200074175.0        Action|Adventure|Thriller  ...   \n",
       "3                 27000.0  448130642.0                  Action|Thriller  ...   \n",
       "4                   131.0          NaN                      Documentary  ...   \n",
       "\n",
       "  num_user_for_reviews language  country  content_rating       budget  \\\n",
       "0               3054.0  English      USA           PG-13  237000000.0   \n",
       "1               1238.0  English      USA           PG-13  300000000.0   \n",
       "2                994.0  English       UK           PG-13  245000000.0   \n",
       "3               2701.0  English      USA           PG-13  250000000.0   \n",
       "4                  NaN      NaN      NaN             NaN          NaN   \n",
       "\n",
       "   title_year actor_2_facebook_likes imdb_score  aspect_ratio  \\\n",
       "0      2009.0                  936.0        7.9          1.78   \n",
       "1      2007.0                 5000.0        7.1          2.35   \n",
       "2      2015.0                  393.0        6.8          2.35   \n",
       "3      2012.0                23000.0        8.5          2.35   \n",
       "4         NaN                   12.0        7.1           NaN   \n",
       "\n",
       "  movie_facebook_likes  \n",
       "0                33000  \n",
       "1                    0  \n",
       "2                85000  \n",
       "3               164000  \n",
       "4                    0  \n",
       "\n",
       "[5 rows x 28 columns]"
      ]
     },
     "execution_count": 89,
     "metadata": {},
     "output_type": "execute_result"
    }
   ],
   "source": [
    "df.head()"
   ]
  },
  {
   "cell_type": "code",
   "execution_count": 90,
   "metadata": {},
   "outputs": [
    {
     "data": {
      "text/html": [
       "<div>\n",
       "<style scoped>\n",
       "    .dataframe tbody tr th:only-of-type {\n",
       "        vertical-align: middle;\n",
       "    }\n",
       "\n",
       "    .dataframe tbody tr th {\n",
       "        vertical-align: top;\n",
       "    }\n",
       "\n",
       "    .dataframe thead th {\n",
       "        text-align: right;\n",
       "    }\n",
       "</style>\n",
       "<table border=\"1\" class=\"dataframe\">\n",
       "  <thead>\n",
       "    <tr style=\"text-align: right;\">\n",
       "      <th></th>\n",
       "      <th>color</th>\n",
       "      <th>director_name</th>\n",
       "      <th>num_critic_for_reviews</th>\n",
       "      <th>duration</th>\n",
       "      <th>director_facebook_likes</th>\n",
       "      <th>actor_3_facebook_likes</th>\n",
       "      <th>actor_2_name</th>\n",
       "      <th>actor_1_facebook_likes</th>\n",
       "      <th>gross</th>\n",
       "      <th>genres</th>\n",
       "      <th>...</th>\n",
       "      <th>num_user_for_reviews</th>\n",
       "      <th>language</th>\n",
       "      <th>country</th>\n",
       "      <th>content_rating</th>\n",
       "      <th>budget</th>\n",
       "      <th>title_year</th>\n",
       "      <th>actor_2_facebook_likes</th>\n",
       "      <th>imdb_score</th>\n",
       "      <th>aspect_ratio</th>\n",
       "      <th>movie_facebook_likes</th>\n",
       "    </tr>\n",
       "  </thead>\n",
       "  <tbody>\n",
       "    <tr>\n",
       "      <td>0</td>\n",
       "      <td>Color</td>\n",
       "      <td>James Cameron</td>\n",
       "      <td>723.0</td>\n",
       "      <td>178.0</td>\n",
       "      <td>0.0</td>\n",
       "      <td>855.0</td>\n",
       "      <td>Joel David Moore</td>\n",
       "      <td>1000.0</td>\n",
       "      <td>760505847.0</td>\n",
       "      <td>Action|Adventure|Fantasy|Sci-Fi</td>\n",
       "      <td>...</td>\n",
       "      <td>3054.0</td>\n",
       "      <td>English</td>\n",
       "      <td>USA</td>\n",
       "      <td>PG-13</td>\n",
       "      <td>237000000.0</td>\n",
       "      <td>2009.0</td>\n",
       "      <td>936.0</td>\n",
       "      <td>7.9</td>\n",
       "      <td>1.78</td>\n",
       "      <td>33000</td>\n",
       "    </tr>\n",
       "    <tr>\n",
       "      <td>1</td>\n",
       "      <td>Color</td>\n",
       "      <td>Gore Verbinski</td>\n",
       "      <td>302.0</td>\n",
       "      <td>169.0</td>\n",
       "      <td>563.0</td>\n",
       "      <td>1000.0</td>\n",
       "      <td>Orlando Bloom</td>\n",
       "      <td>40000.0</td>\n",
       "      <td>309404152.0</td>\n",
       "      <td>Action|Adventure|Fantasy</td>\n",
       "      <td>...</td>\n",
       "      <td>1238.0</td>\n",
       "      <td>English</td>\n",
       "      <td>USA</td>\n",
       "      <td>PG-13</td>\n",
       "      <td>300000000.0</td>\n",
       "      <td>2007.0</td>\n",
       "      <td>5000.0</td>\n",
       "      <td>7.1</td>\n",
       "      <td>2.35</td>\n",
       "      <td>0</td>\n",
       "    </tr>\n",
       "    <tr>\n",
       "      <td>2</td>\n",
       "      <td>Color</td>\n",
       "      <td>Sam Mendes</td>\n",
       "      <td>602.0</td>\n",
       "      <td>148.0</td>\n",
       "      <td>0.0</td>\n",
       "      <td>161.0</td>\n",
       "      <td>Rory Kinnear</td>\n",
       "      <td>11000.0</td>\n",
       "      <td>200074175.0</td>\n",
       "      <td>Action|Adventure|Thriller</td>\n",
       "      <td>...</td>\n",
       "      <td>994.0</td>\n",
       "      <td>English</td>\n",
       "      <td>UK</td>\n",
       "      <td>PG-13</td>\n",
       "      <td>245000000.0</td>\n",
       "      <td>2015.0</td>\n",
       "      <td>393.0</td>\n",
       "      <td>6.8</td>\n",
       "      <td>2.35</td>\n",
       "      <td>85000</td>\n",
       "    </tr>\n",
       "    <tr>\n",
       "      <td>3</td>\n",
       "      <td>Color</td>\n",
       "      <td>Christopher Nolan</td>\n",
       "      <td>813.0</td>\n",
       "      <td>164.0</td>\n",
       "      <td>22000.0</td>\n",
       "      <td>23000.0</td>\n",
       "      <td>Christian Bale</td>\n",
       "      <td>27000.0</td>\n",
       "      <td>448130642.0</td>\n",
       "      <td>Action|Thriller</td>\n",
       "      <td>...</td>\n",
       "      <td>2701.0</td>\n",
       "      <td>English</td>\n",
       "      <td>USA</td>\n",
       "      <td>PG-13</td>\n",
       "      <td>250000000.0</td>\n",
       "      <td>2012.0</td>\n",
       "      <td>23000.0</td>\n",
       "      <td>8.5</td>\n",
       "      <td>2.35</td>\n",
       "      <td>164000</td>\n",
       "    </tr>\n",
       "    <tr>\n",
       "      <td>4</td>\n",
       "      <td>NaN</td>\n",
       "      <td>Doug Walker</td>\n",
       "      <td>NaN</td>\n",
       "      <td>NaN</td>\n",
       "      <td>131.0</td>\n",
       "      <td>NaN</td>\n",
       "      <td>Rob Walker</td>\n",
       "      <td>131.0</td>\n",
       "      <td>NaN</td>\n",
       "      <td>Documentary</td>\n",
       "      <td>...</td>\n",
       "      <td>NaN</td>\n",
       "      <td>NaN</td>\n",
       "      <td>NaN</td>\n",
       "      <td>NaN</td>\n",
       "      <td>NaN</td>\n",
       "      <td>NaN</td>\n",
       "      <td>12.0</td>\n",
       "      <td>7.1</td>\n",
       "      <td>NaN</td>\n",
       "      <td>0</td>\n",
       "    </tr>\n",
       "    <tr>\n",
       "      <td>5</td>\n",
       "      <td>Color</td>\n",
       "      <td>Andrew Stanton</td>\n",
       "      <td>462.0</td>\n",
       "      <td>132.0</td>\n",
       "      <td>475.0</td>\n",
       "      <td>530.0</td>\n",
       "      <td>Samantha Morton</td>\n",
       "      <td>640.0</td>\n",
       "      <td>73058679.0</td>\n",
       "      <td>Action|Adventure|Sci-Fi</td>\n",
       "      <td>...</td>\n",
       "      <td>738.0</td>\n",
       "      <td>English</td>\n",
       "      <td>USA</td>\n",
       "      <td>PG-13</td>\n",
       "      <td>263700000.0</td>\n",
       "      <td>2012.0</td>\n",
       "      <td>632.0</td>\n",
       "      <td>6.6</td>\n",
       "      <td>2.35</td>\n",
       "      <td>24000</td>\n",
       "    </tr>\n",
       "    <tr>\n",
       "      <td>6</td>\n",
       "      <td>Color</td>\n",
       "      <td>Sam Raimi</td>\n",
       "      <td>392.0</td>\n",
       "      <td>156.0</td>\n",
       "      <td>0.0</td>\n",
       "      <td>4000.0</td>\n",
       "      <td>James Franco</td>\n",
       "      <td>24000.0</td>\n",
       "      <td>336530303.0</td>\n",
       "      <td>Action|Adventure|Romance</td>\n",
       "      <td>...</td>\n",
       "      <td>1902.0</td>\n",
       "      <td>English</td>\n",
       "      <td>USA</td>\n",
       "      <td>PG-13</td>\n",
       "      <td>258000000.0</td>\n",
       "      <td>2007.0</td>\n",
       "      <td>11000.0</td>\n",
       "      <td>6.2</td>\n",
       "      <td>2.35</td>\n",
       "      <td>0</td>\n",
       "    </tr>\n",
       "    <tr>\n",
       "      <td>7</td>\n",
       "      <td>Color</td>\n",
       "      <td>Nathan Greno</td>\n",
       "      <td>324.0</td>\n",
       "      <td>100.0</td>\n",
       "      <td>15.0</td>\n",
       "      <td>284.0</td>\n",
       "      <td>Donna Murphy</td>\n",
       "      <td>799.0</td>\n",
       "      <td>200807262.0</td>\n",
       "      <td>Adventure|Animation|Comedy|Family|Fantasy|Musi...</td>\n",
       "      <td>...</td>\n",
       "      <td>387.0</td>\n",
       "      <td>English</td>\n",
       "      <td>USA</td>\n",
       "      <td>PG</td>\n",
       "      <td>260000000.0</td>\n",
       "      <td>2010.0</td>\n",
       "      <td>553.0</td>\n",
       "      <td>7.8</td>\n",
       "      <td>1.85</td>\n",
       "      <td>29000</td>\n",
       "    </tr>\n",
       "    <tr>\n",
       "      <td>8</td>\n",
       "      <td>Color</td>\n",
       "      <td>Joss Whedon</td>\n",
       "      <td>635.0</td>\n",
       "      <td>141.0</td>\n",
       "      <td>0.0</td>\n",
       "      <td>19000.0</td>\n",
       "      <td>Robert Downey Jr.</td>\n",
       "      <td>26000.0</td>\n",
       "      <td>458991599.0</td>\n",
       "      <td>Action|Adventure|Sci-Fi</td>\n",
       "      <td>...</td>\n",
       "      <td>1117.0</td>\n",
       "      <td>English</td>\n",
       "      <td>USA</td>\n",
       "      <td>PG-13</td>\n",
       "      <td>250000000.0</td>\n",
       "      <td>2015.0</td>\n",
       "      <td>21000.0</td>\n",
       "      <td>7.5</td>\n",
       "      <td>2.35</td>\n",
       "      <td>118000</td>\n",
       "    </tr>\n",
       "    <tr>\n",
       "      <td>9</td>\n",
       "      <td>Color</td>\n",
       "      <td>David Yates</td>\n",
       "      <td>375.0</td>\n",
       "      <td>153.0</td>\n",
       "      <td>282.0</td>\n",
       "      <td>10000.0</td>\n",
       "      <td>Daniel Radcliffe</td>\n",
       "      <td>25000.0</td>\n",
       "      <td>301956980.0</td>\n",
       "      <td>Adventure|Family|Fantasy|Mystery</td>\n",
       "      <td>...</td>\n",
       "      <td>973.0</td>\n",
       "      <td>English</td>\n",
       "      <td>UK</td>\n",
       "      <td>PG</td>\n",
       "      <td>250000000.0</td>\n",
       "      <td>2009.0</td>\n",
       "      <td>11000.0</td>\n",
       "      <td>7.5</td>\n",
       "      <td>2.35</td>\n",
       "      <td>10000</td>\n",
       "    </tr>\n",
       "  </tbody>\n",
       "</table>\n",
       "<p>10 rows × 28 columns</p>\n",
       "</div>"
      ],
      "text/plain": [
       "   color      director_name  num_critic_for_reviews  duration  \\\n",
       "0  Color      James Cameron                   723.0     178.0   \n",
       "1  Color     Gore Verbinski                   302.0     169.0   \n",
       "2  Color         Sam Mendes                   602.0     148.0   \n",
       "3  Color  Christopher Nolan                   813.0     164.0   \n",
       "4    NaN        Doug Walker                     NaN       NaN   \n",
       "5  Color     Andrew Stanton                   462.0     132.0   \n",
       "6  Color          Sam Raimi                   392.0     156.0   \n",
       "7  Color       Nathan Greno                   324.0     100.0   \n",
       "8  Color        Joss Whedon                   635.0     141.0   \n",
       "9  Color        David Yates                   375.0     153.0   \n",
       "\n",
       "   director_facebook_likes  actor_3_facebook_likes       actor_2_name  \\\n",
       "0                      0.0                   855.0   Joel David Moore   \n",
       "1                    563.0                  1000.0      Orlando Bloom   \n",
       "2                      0.0                   161.0       Rory Kinnear   \n",
       "3                  22000.0                 23000.0     Christian Bale   \n",
       "4                    131.0                     NaN         Rob Walker   \n",
       "5                    475.0                   530.0    Samantha Morton   \n",
       "6                      0.0                  4000.0       James Franco   \n",
       "7                     15.0                   284.0       Donna Murphy   \n",
       "8                      0.0                 19000.0  Robert Downey Jr.   \n",
       "9                    282.0                 10000.0   Daniel Radcliffe   \n",
       "\n",
       "   actor_1_facebook_likes        gross  \\\n",
       "0                  1000.0  760505847.0   \n",
       "1                 40000.0  309404152.0   \n",
       "2                 11000.0  200074175.0   \n",
       "3                 27000.0  448130642.0   \n",
       "4                   131.0          NaN   \n",
       "5                   640.0   73058679.0   \n",
       "6                 24000.0  336530303.0   \n",
       "7                   799.0  200807262.0   \n",
       "8                 26000.0  458991599.0   \n",
       "9                 25000.0  301956980.0   \n",
       "\n",
       "                                              genres  ...  \\\n",
       "0                    Action|Adventure|Fantasy|Sci-Fi  ...   \n",
       "1                           Action|Adventure|Fantasy  ...   \n",
       "2                          Action|Adventure|Thriller  ...   \n",
       "3                                    Action|Thriller  ...   \n",
       "4                                        Documentary  ...   \n",
       "5                            Action|Adventure|Sci-Fi  ...   \n",
       "6                           Action|Adventure|Romance  ...   \n",
       "7  Adventure|Animation|Comedy|Family|Fantasy|Musi...  ...   \n",
       "8                            Action|Adventure|Sci-Fi  ...   \n",
       "9                   Adventure|Family|Fantasy|Mystery  ...   \n",
       "\n",
       "  num_user_for_reviews language  country  content_rating       budget  \\\n",
       "0               3054.0  English      USA           PG-13  237000000.0   \n",
       "1               1238.0  English      USA           PG-13  300000000.0   \n",
       "2                994.0  English       UK           PG-13  245000000.0   \n",
       "3               2701.0  English      USA           PG-13  250000000.0   \n",
       "4                  NaN      NaN      NaN             NaN          NaN   \n",
       "5                738.0  English      USA           PG-13  263700000.0   \n",
       "6               1902.0  English      USA           PG-13  258000000.0   \n",
       "7                387.0  English      USA              PG  260000000.0   \n",
       "8               1117.0  English      USA           PG-13  250000000.0   \n",
       "9                973.0  English       UK              PG  250000000.0   \n",
       "\n",
       "   title_year actor_2_facebook_likes imdb_score  aspect_ratio  \\\n",
       "0      2009.0                  936.0        7.9          1.78   \n",
       "1      2007.0                 5000.0        7.1          2.35   \n",
       "2      2015.0                  393.0        6.8          2.35   \n",
       "3      2012.0                23000.0        8.5          2.35   \n",
       "4         NaN                   12.0        7.1           NaN   \n",
       "5      2012.0                  632.0        6.6          2.35   \n",
       "6      2007.0                11000.0        6.2          2.35   \n",
       "7      2010.0                  553.0        7.8          1.85   \n",
       "8      2015.0                21000.0        7.5          2.35   \n",
       "9      2009.0                11000.0        7.5          2.35   \n",
       "\n",
       "  movie_facebook_likes  \n",
       "0                33000  \n",
       "1                    0  \n",
       "2                85000  \n",
       "3               164000  \n",
       "4                    0  \n",
       "5                24000  \n",
       "6                    0  \n",
       "7                29000  \n",
       "8               118000  \n",
       "9                10000  \n",
       "\n",
       "[10 rows x 28 columns]"
      ]
     },
     "execution_count": 90,
     "metadata": {},
     "output_type": "execute_result"
    }
   ],
   "source": [
    "df.head(n=10)"
   ]
  },
  {
   "cell_type": "code",
   "execution_count": 91,
   "metadata": {},
   "outputs": [
    {
     "data": {
      "text/plain": [
       "Index(['color', 'director_name', 'num_critic_for_reviews', 'duration',\n",
       "       'director_facebook_likes', 'actor_3_facebook_likes', 'actor_2_name',\n",
       "       'actor_1_facebook_likes', 'gross', 'genres', 'actor_1_name',\n",
       "       'movie_title', 'num_voted_users', 'cast_total_facebook_likes',\n",
       "       'actor_3_name', 'facenumber_in_poster', 'plot_keywords',\n",
       "       'movie_imdb_link', 'num_user_for_reviews', 'language', 'country',\n",
       "       'content_rating', 'budget', 'title_year', 'actor_2_facebook_likes',\n",
       "       'imdb_score', 'aspect_ratio', 'movie_facebook_likes'],\n",
       "      dtype='object')"
      ]
     },
     "execution_count": 91,
     "metadata": {},
     "output_type": "execute_result"
    }
   ],
   "source": [
    "df.columns"
   ]
  },
  {
   "cell_type": "code",
   "execution_count": 92,
   "metadata": {},
   "outputs": [],
   "source": [
    "l = df.columns"
   ]
  },
  {
   "cell_type": "code",
   "execution_count": 93,
   "metadata": {},
   "outputs": [
    {
     "name": "stdout",
     "output_type": "stream",
     "text": [
      "Index(['color', 'director_name', 'num_critic_for_reviews', 'duration',\n",
      "       'director_facebook_likes', 'actor_3_facebook_likes', 'actor_2_name',\n",
      "       'actor_1_facebook_likes', 'gross', 'genres', 'actor_1_name',\n",
      "       'movie_title', 'num_voted_users', 'cast_total_facebook_likes',\n",
      "       'actor_3_name', 'facenumber_in_poster', 'plot_keywords',\n",
      "       'movie_imdb_link', 'num_user_for_reviews', 'language', 'country',\n",
      "       'content_rating', 'budget', 'title_year', 'actor_2_facebook_likes',\n",
      "       'imdb_score', 'aspect_ratio', 'movie_facebook_likes'],\n",
      "      dtype='object')\n"
     ]
    }
   ],
   "source": [
    "print(l)"
   ]
  },
  {
   "cell_type": "code",
   "execution_count": 94,
   "metadata": {},
   "outputs": [],
   "source": [
    "score = df.get('imdb_score')"
   ]
  },
  {
   "cell_type": "code",
   "execution_count": 95,
   "metadata": {},
   "outputs": [
    {
     "name": "stdout",
     "output_type": "stream",
     "text": [
      "0       7.9\n",
      "1       7.1\n",
      "2       6.8\n",
      "3       8.5\n",
      "4       7.1\n",
      "       ... \n",
      "5038    7.7\n",
      "5039    7.5\n",
      "5040    6.3\n",
      "5041    6.3\n",
      "5042    6.6\n",
      "Name: imdb_score, Length: 5043, dtype: float64\n"
     ]
    }
   ],
   "source": [
    "print(score)"
   ]
  },
  {
   "cell_type": "code",
   "execution_count": 96,
   "metadata": {},
   "outputs": [
    {
     "name": "stdout",
     "output_type": "stream",
     "text": [
      "(5043,)\n"
     ]
    }
   ],
   "source": [
    "print(score.shape)"
   ]
  },
  {
   "cell_type": "code",
   "execution_count": 97,
   "metadata": {},
   "outputs": [
    {
     "name": "stdout",
     "output_type": "stream",
     "text": [
      "<class 'pandas.core.series.Series'>\n"
     ]
    }
   ],
   "source": [
    "print(type(score))"
   ]
  },
  {
   "cell_type": "code",
   "execution_count": 98,
   "metadata": {},
   "outputs": [],
   "source": [
    "score = list(df.get('imdb_score'))"
   ]
  },
  {
   "cell_type": "code",
   "execution_count": 99,
   "metadata": {},
   "outputs": [
    {
     "name": "stdout",
     "output_type": "stream",
     "text": [
      "<class 'list'>\n"
     ]
    }
   ],
   "source": [
    "print(type(score))"
   ]
  },
  {
   "cell_type": "code",
   "execution_count": 100,
   "metadata": {},
   "outputs": [
    {
     "name": "stdout",
     "output_type": "stream",
     "text": [
      "[7.9, 7.1, 6.8, 8.5, 7.1, 6.6, 6.2, 7.8, 7.5, 7.5, 6.9, 6.1, 6.7, 7.3, 6.5, 7.2, 6.6, 8.1, 6.7, 6.8, 7.5, 7.0, 6.7, 7.9, 6.1, 7.2, 7.7, 8.2, 5.9, 7.0, 7.8, 7.3, 7.2, 6.5, 6.8, 7.3, 6.0, 5.7, 6.4, 6.7, 6.8, 6.3, 5.6, 8.3, 6.6, 7.2, 7.0, 8.0, 7.8, 6.3, 7.3, 6.6, 7.0, 6.3, 6.2, 6.8, 7.2, 7.5, 8.4, 6.2, 5.8, 6.8, 5.4, 6.6, 6.9, 7.3, 9.0, 8.3, 6.5, 7.9, 7.5, 4.8, 5.2, 6.9, 5.4, 7.9, 6.1, 5.8, 8.3, 7.8, 7.0, 6.1, 7.0, 7.6, 4.5, 6.3, 7.8, 6.4, 6.5, 7.9, 7.8, 6.6, 5.5, 8.2, 6.4, 8.1, 8.6, 8.8, 8.2, 7.9, 6.7, 7.8, 7.8, 6.6, 6.1, 5.6, 6.4, 6.1, 7.3, 6.6, 6.3, 6.1, 7.1, 5.5, 7.5, 7.6, 6.4, 7.2, 6.7, 8.0, 8.3, 6.7, 5.9, 6.7, 6.7, 7.6, 7.2, 7.1, 8.1, 6.7, 7.0, 6.9, 5.1, 5.8, 6.2, 7.4, 5.8, 6.6, 6.2, 7.3, 4.2, 6.9, 6.4, 5.4, 6.7, 5.8, 6.9, 7.2, 6.9, 6.1, 5.5, 6.6, 6.1, 6.3, 7.2, 7.4, 7.3, 6.1, 7.7, 6.1, 8.0, 7.3, 7.9, 5.5, 5.0, 7.7, 6.6, 5.7, 5.8, 6.0, 6.4, 6.9, 6.4, 7.4, 5.5, 5.9, 6.8, 7.5, 6.8, 8.1, 6.5, 7.2, 6.7, 8.1, 7.6, 7.4, 7.6, 5.5, 6.7, 6.5, 6.6, 6.7, 6.4, 5.8, 7.4, 7.8, 6.6, 4.9, 6.5, 7.5, 6.2, 7.3, 7.5, 5.6, 8.2, 8.1, 6.4, 6.7, 6.6, 6.4, 7.5, 7.3, 7.5, 5.8, 7.5, 6.6, 6.7, 3.7, 6.0, 6.4, 6.1, 6.4, 5.6, 8.0, 5.2, 7.1, 4.8, 7.0, 5.4, 6.6, 6.7, 6.2, 6.1, 5.3, 6.3, 7.0, 7.6, 6.7, 8.1, 6.7, 6.5, 7.3, 5.1, 6.0, 6.1, 5.9, 7.8, 5.8, 6.3, 4.3, 6.4, 6.1, 6.5, 7.1, 6.4, 6.5, 6.3, 7.5, 4.9, 5.8, 7.6, 6.2, 5.5, 5.4, 5.8, 7.1, 5.4, 3.7, 6.7, 7.2, 8.8, 5.8, 6.8, 3.8, 7.1, 7.2, 5.9, 7.1, 8.1, 7.2, 6.9, 4.4, 6.5, 8.5, 7.7, 7.4, 8.0, 5.7, 8.5, 7.0, 7.8, 7.2, 6.4, 5.5, 6.7, 6.1, 8.5, 6.9, 7.3, 6.7, 6.9, 5.1, 6.8, 5.8, 6.7, 6.0, 5.7, 8.0, 8.2, 5.4, 7.2, 7.5, 7.0, 3.3, 6.0, 7.1, 5.4, 6.1, 5.3, 2.2, 7.0, 3.8, 6.9, 7.2, 7.3, 6.3, 7.5, 7.6, 6.8, 5.2, 7.7, 6.2, 7.7, 4.3, 6.9, 6.6, 7.0, 6.7, 8.2, 8.9, 8.7, 5.5, 5.7, 6.3, 5.9, 7.6, 6.6, 5.3, 6.0, 8.0, 5.6, 5.9, 7.3, 7.9, 6.8, 6.6, 6.6, 7.0, 7.0, 7.3, 5.5, 8.5, 7.5, 7.0, 7.8, 7.6, 7.6, 6.1, 6.8, 5.0, 7.1, 5.5, 5.6, 7.1, 4.9, 7.4, 5.7, 6.4, 5.9, 5.5, 6.9, 6.2, 7.0, 5.6, 7.0, 6.8, 5.4, 6.1, 6.7, 4.3, 6.9, 8.0, 4.4, 7.3, 6.3, 6.7, 7.7, 6.5, 7.8, 6.4, 7.8, 5.8, 7.1, 7.1, 8.6, 6.8, 4.8, 6.2, 6.9, 7.3, 6.6, 6.9, 6.2, 6.7, 7.6, 6.7, 6.2, 7.3, 6.0, 7.1, 7.1, 5.5, 7.8, 5.6, 7.5, 5.4, 4.3, 4.9, 7.1, 6.4, 6.9, 4.3, 6.1, 7.0, 7.7, 5.9, 6.7, 6.5, 7.1, 7.3, 6.5, 7.0, 6.8, 7.2, 6.4, 6.1, 6.7, 6.4, 4.4, 5.4, 6.5, 6.7, 8.1, 5.6, 6.3, 7.3, 6.1, 7.7, 6.4, 8.8, 6.8, 6.6, 7.2, 6.9, 5.2, 4.9, 6.3, 5.6, 5.5, 6.7, 7.6, 5.7, 4.6, 7.0, 5.2, 5.1, 6.6, 7.0, 6.7, 7.6, 7.3, 5.9, 5.6, 6.5, 5.9, 7.0, 5.3, 5.9, 6.3, 6.4, 6.9, 6.3, 7.3, 5.8, 5.2, 2.4, 5.7, 5.8, 5.6, 6.0, 5.8, 6.0, 5.7, 6.0, 7.8, 4.2, 5.6, 4.4, 8.2, 8.5, 5.8, 6.5, 7.2, 6.7, 3.4, 5.9, 7.8, 5.9, 4.1, 6.8, 5.8, 7.5, 6.9, 6.5, 6.9, 7.9, 7.4, 6.7, 7.4, 6.9, 6.8, 6.7, 5.1, 4.1, 7.3, 6.0, 7.3, 7.5, 5.4, 5.9, 7.1, 6.0, 6.5, 8.3, 5.7, 7.6, 6.6, 5.4, 7.3, 6.5, 6.6, 6.6, 5.9, 6.7, 6.1, 6.6, 6.6, 5.3, 6.0, 6.0, 4.7, 6.1, 7.2, 6.4, 6.1, 5.9, 6.0, 6.3, 5.6, 6.4, 7.1, 6.6, 4.6, 8.4, 7.1, 7.4, 6.9, 4.5, 7.1, 6.5, 5.3, 6.7, 7.2, 7.2, 5.5, 5.8, 6.0, 6.6, 8.3, 6.7, 6.0, 7.1, 6.0, 7.5, 6.9, 5.6, 5.6, 4.5, 7.1, 6.5, 6.4, 5.8, 8.0, 6.2, 7.2, 6.1, 7.6, 6.3, 6.3, 6.3, 7.7, 7.0, 5.3, 5.6, 5.2, 5.4, 6.4, 5.9, 6.3, 6.5, 3.0, 3.6, 5.8, 6.2, 5.6, 5.4, 6.1, 4.2, 6.7, 4.2, 6.4, 4.9, 6.8, 7.7, 5.6, 6.4, 7.2, 6.0, 5.9, 7.9, 6.8, 7.1, 5.9, 5.9, 6.2, 7.4, 7.0, 5.4, 8.6, 6.5, 6.4, 7.6, 5.5, 7.4, 8.7, 7.6, 7.5, 5.5, 7.6, 6.5, 6.9, 6.7, 6.6, 7.2, 6.4, 6.4, 6.0, 6.1, 6.0, 6.4, 6.4, 7.3, 5.2, 6.6, 6.3, 5.9, 6.4, 6.7, 5.4, 6.4, 6.7, 6.2, 6.1, 8.8, 7.1, 8.1, 5.7, 5.0, 5.1, 6.9, 4.8, 6.5, 5.1, 7.1, 7.5, 6.2, 6.3, 8.1, 6.6, 6.9, 6.1, 4.3, 6.6, 6.8, 3.8, 5.9, 7.9, 6.3, 5.5, 7.7, 6.3, 7.1, 8.5, 5.9, 5.8, 8.1, 7.9, 7.2, 6.3, 8.1, 7.0, 5.5, 6.7, 5.2, 7.0, 6.1, 6.6, 5.5, 5.9, 5.4, 6.4, 5.7, 6.7, 7.1, 6.8, 6.5, 7.6, 5.5, 6.5, 7.0, 5.8, 7.3, 6.6, 4.4, 7.7, 5.0, 7.7, 4.4, 6.1, 5.4, 6.8, 6.5, 7.0, 6.3, 6.3, 6.1, 6.1, 7.3, 5.3, 5.4, 6.2, 6.6, 5.9, 6.3, 7.2, 6.8, 6.1, 7.8, 5.0, 6.2, 6.7, 4.9, 7.4, 7.1, 6.2, 4.9, 6.1, 6.1, 6.4, 6.3, 6.8, 6.6, 5.7, 5.9, 6.0, 6.1, 6.7, 6.7, 7.9, 5.0, 4.3, 5.7, 6.7, 6.7, 8.1, 6.1, 5.6, 6.6, 6.9, 4.8, 6.2, 6.0, 4.9, 5.6, 6.1, 6.1, 4.8, 5.5, 3.8, 6.5, 6.0, 6.7, 8.1, 4.9, 7.3, 6.4, 6.6, 6.7, 3.6, 5.7, 6.0, 4.9, 4.7, 6.3, 5.9, 5.9, 7.0, 7.5, 5.6, 6.4, 6.3, 4.3, 5.9, 6.7, 5.5, 6.2, 8.8, 5.2, 7.0, 6.6, 7.3, 5.6, 6.6, 5.4, 6.3, 7.9, 6.3, 6.0, 7.2, 5.1, 7.3, 8.0, 6.2, 6.0, 6.7, 8.1, 6.4, 8.4, 8.0, 6.3, 6.4, 6.6, 6.4, 6.0, 6.6, 5.9, 6.4, 6.3, 7.3, 6.8, 7.2, 5.7, 6.0, 6.5, 5.8, 5.8, 6.7, 7.8, 5.6, 5.8, 7.4, 6.9, 5.5, 6.3, 4.7, 5.6, 6.4, 4.2, 6.4, 7.7, 7.7, 5.3, 6.7, 7.7, 5.7, 7.6, 6.4, 5.6, 6.8, 2.4, 6.2, 5.9, 7.1, 7.6, 5.5, 7.0, 7.1, 7.4, 7.6, 5.9, 5.9, 8.0, 7.4, 5.8, 6.3, 5.7, 5.1, 7.6, 6.4, 7.4, 8.2, 6.5, 5.5, 6.5, 5.6, 4.9, 4.6, 7.9, 7.1, 6.9, 7.3, 7.0, 7.7, 6.7, 6.3, 5.8, 7.1, 7.3, 6.4, 7.1, 7.6, 6.8, 6.6, 6.7, 6.1, 6.0, 7.6, 7.1, 5.0, 7.1, 6.2, 5.6, 5.4, 7.4, 5.0, 5.2, 7.6, 6.6, 7.0, 5.7, 8.2, 6.2, 7.9, 6.6, 4.7, 6.3, 6.1, 6.7, 6.1, 7.0, 7.4, 7.3, 5.8, 6.7, 5.8, 7.8, 6.6, 6.5, 6.7, 7.3, 5.8, 5.5, 6.3, 7.4, 5.9, 6.2, 5.9, 6.5, 4.4, 3.5, 6.6, 6.0, 6.4, 6.5, 7.8, 4.3, 4.2, 6.5, 6.1, 6.3, 6.2, 5.9, 5.9, 6.5, 6.4, 6.5, 5.7, 7.5, 8.0, 7.3, 6.7, 7.5, 5.4, 6.6, 7.7, 5.8, 6.4, 5.6, 6.0, 6.2, 5.9, 5.1, 6.8, 7.0, 6.0, 5.1, 5.8, 6.2, 6.4, 4.8, 4.9, 5.6, 5.5, 3.7, 5.9, 8.5, 6.3, 7.4, 7.6, 8.3, 6.6, 6.9, 6.7, 6.8, 4.6, 7.1, 6.4, 6.4, 7.4, 6.4, 6.0, 6.5, 7.8, 6.0, 7.0, 6.0, 7.8, 6.1, 6.8, 6.4, 7.7, 8.1, 4.5, 5.8, 6.3, 5.7, 7.2, 7.6, 4.7, 6.6, 6.8, 7.3, 2.7, 4.8, 6.3, 5.5, 6.2, 5.8, 5.7, 6.5, 6.7, 7.4, 6.9, 5.5, 8.1, 7.7, 7.3, 5.2, 7.1, 7.1, 7.2, 6.5, 4.6, 5.6, 7.7, 7.2, 6.8, 5.4, 6.3, 7.2, 5.6, 6.8, 4.3, 6.3, 6.5, 6.4, 6.3, 5.9, 6.5, 6.5, 6.1, 5.9, 6.6, 7.4, 7.3, 6.6, 5.6, 5.3, 6.0, 5.4, 6.8, 6.4, 7.1, 4.9, 5.8, 7.1, 7.2, 6.0, 6.0, 7.0, 5.4, 6.5, 6.4, 8.3, 4.9, 6.3, 1.7, 7.7, 7.8, 5.5, 7.5, 6.4, 5.6, 7.5, 6.8, 6.8, 6.0, 7.3, 6.0, 7.0, 5.1, 6.8, 6.5, 6.6, 7.2, 7.0, 7.0, 5.9, 5.4, 6.6, 7.0, 6.5, 6.3, 6.5, 6.5, 5.8, 6.6, 5.4, 6.1, 4.0, 7.6, 7.9, 5.3, 6.6, 6.3, 7.5, 7.2, 7.0, 4.9, 6.9, 5.2, 8.1, 6.6, 6.2, 7.2, 7.3, 6.7, 6.4, 7.8, 6.4, 4.1, 4.1, 7.4, 5.8, 7.6, 7.2, 7.8, 7.7, 6.4, 5.1, 5.5, 7.4, 6.0, 7.5, 7.0, 7.5, 7.3, 5.7, 7.3, 7.2, 5.9, 7.8, 7.7, 8.1, 6.6, 7.1, 5.9, 8.0, 4.6, 6.1, 7.2, 6.4, 6.0, 5.2, 7.6, 6.4, 6.4, 6.1, 6.1, 5.2, 7.7, 7.3, 6.9, 8.5, 6.3, 5.9, 7.8, 6.7, 6.4, 5.9, 6.6, 6.8, 6.5, 6.6, 5.8, 6.9, 7.1, 5.8, 7.2, 6.0, 4.7, 5.2, 5.5, 6.5, 7.0, 5.8, 6.2, 6.5, 7.2, 5.1, 4.7, 5.9, 5.8, 7.2, 6.2, 7.4, 5.7, 6.1, 6.0, 6.9, 6.5, 5.0, 5.7, 7.0, 5.1, 5.3, 4.4, 4.7, 6.7, 6.7, 5.7, 7.4, 6.1, 6.4, 6.2, 6.2, 5.9, 4.0, 6.2, 4.6, 6.4, 5.9, 5.1, 7.6, 4.2, 7.8, 5.8, 5.9, 8.4, 4.8, 6.2, 6.5, 6.3, 3.3, 5.9, 6.0, 5.8, 6.5, 4.7, 4.1, 6.8, 6.2, 4.5, 5.8, 7.3, 5.9, 4.4, 5.8, 5.1, 6.9, 6.2, 6.9, 7.3, 7.1, 6.0, 7.0, 6.8, 5.7, 7.6, 8.4, 7.1, 5.6, 6.7, 7.0, 8.0, 5.3, 4.9, 6.4, 7.4, 6.1, 6.5, 5.7, 5.1, 6.6, 6.5, 6.9, 7.8, 6.4, 7.6, 5.6, 6.2, 4.4, 5.6, 5.5, 6.7, 6.1, 6.2, 7.3, 6.6, 8.2, 6.4, 6.4, 5.2, 6.5, 7.1, 4.8, 7.3, 5.2, 7.7, 7.6, 5.7, 7.0, 6.0, 8.1, 8.0, 5.6, 6.1, 6.9, 5.2, 7.0, 6.3, 7.0, 5.3, 6.9, 6.2, 6.4, 6.4, 5.7, 6.1, 5.4, 6.7, 6.8, 6.0, 7.8, 5.3, 4.5, 5.4, 7.8, 7.2, 6.6, 7.6, 5.9, 6.7, 7.7, 5.8, 5.4, 6.9, 7.7, 6.8, 6.4, 5.7, 7.3, 6.8, 6.3, 5.9, 7.4, 8.3, 6.2, 6.3, 5.8, 7.5, 6.3, 6.4, 7.2, 6.3, 6.9, 6.6, 6.0, 7.5, 7.7, 6.2, 5.4, 6.6, 5.3, 5.6, 5.9, 7.8, 6.7, 7.4, 6.2, 5.4, 6.7, 5.3, 5.9, 7.0, 4.8, 7.3, 3.8, 8.5, 6.8, 6.8, 5.3, 7.3, 6.6, 6.2, 5.2, 6.2, 6.2, 6.6, 6.4, 6.2, 5.1, 6.6, 6.1, 6.1, 6.6, 5.9, 6.3, 7.1, 5.0, 5.6, 7.4, 4.5, 6.2, 5.0, 6.5, 5.1, 6.5, 6.2, 6.3, 3.8, 5.2, 6.0, 6.2, 5.7, 6.7, 6.8, 6.0, 7.3, 5.5, 6.7, 4.8, 5.7, 5.1, 6.0, 4.2, 7.4, 4.6, 6.9, 8.6, 6.9, 8.0, 6.4, 6.3, 8.4, 7.1, 6.8, 7.5, 4.5, 5.7, 7.2, 6.8, 5.4, 7.2, 7.3, 5.2, 5.5, 7.7, 7.1, 5.3, 5.6, 5.7, 7.1, 7.5, 7.6, 5.5, 5.1, 6.3, 4.9, 6.5, 5.6, 5.3, 6.5, 6.8, 6.5, 6.0, 8.4, 6.0, 7.6, 5.6, 6.9, 6.4, 5.1, 7.0, 5.7, 6.8, 6.7, 6.2, 7.2, 6.2, 5.6, 4.4, 7.5, 7.1, 6.4, 7.1, 5.9, 6.9, 7.5, 6.3, 6.4, 5.9, 6.8, 6.3, 3.6, 5.3, 5.9, 6.9, 6.9, 6.1, 5.7, 8.5, 6.3, 7.3, 6.3, 7.2, 7.3, 6.3, 8.1, 6.9, 6.3, 7.3, 5.5, 6.1, 6.9, 7.2, 6.4, 6.4, 8.3, 7.2, 6.8, 6.5, 7.8, 7.6, 7.2, 6.7, 6.8, 6.3, 6.2, 6.2, 8.6, 8.0, 7.0, 8.0, 8.1, 6.7, 7.9, 6.1, 4.2, 6.1, 6.6, 7.5, 7.4, 7.2, 6.9, 7.4, 5.4, 6.8, 6.3, 7.2, 8.7, 6.9, 6.0, 5.9, 5.4, 5.9, 6.1, 7.7, 5.8, 7.6, 6.1, 5.4, 5.1, 6.4, 6.3, 7.5, 7.1, 5.2, 7.8, 6.5, 6.6, 5.1, 7.4, 7.2, 7.6, 7.5, 6.6, 7.2, 7.6, 6.2, 5.6, 7.6, 6.6, 7.0, 2.7, 7.6, 6.6, 6.9, 6.8, 7.5, 3.7, 6.1, 5.9, 6.7, 8.5, 6.9, 5.5, 7.1, 7.1, 5.9, 7.3, 3.4, 6.8, 6.9, 7.0, 5.5, 5.1, 6.2, 5.9, 5.2, 6.2, 5.5, 7.4, 4.4, 6.3, 6.1, 5.3, 5.4, 6.7, 5.9, 7.3, 5.5, 5.8, 4.6, 6.7, 5.1, 5.6, 7.0, 6.4, 6.7, 4.1, 5.5, 2.7, 6.4, 4.8, 6.1, 4.8, 7.0, 6.8, 7.3, 8.2, 5.6, 6.1, 7.9, 8.4, 6.5, 7.1, 6.6, 4.0, 7.0, 5.6, 4.8, 7.5, 6.0, 7.2, 5.6, 6.8, 4.9, 7.1, 2.0, 5.7, 4.1, 6.7, 7.5, 6.5, 7.9, 7.6, 6.4, 5.8, 7.7, 7.1, 5.3, 5.3, 7.5, 6.9, 4.9, 7.1, 8.0, 7.9, 7.6, 5.9, 6.3, 7.1, 6.4, 8.2, 6.9, 7.8, 6.7, 7.5, 7.4, 5.2, 6.5, 7.6, 7.3, 6.6, 6.8, 6.9, 5.8, 6.6, 6.7, 6.7, 6.3, 7.7, 6.1, 4.9, 6.2, 7.8, 8.2, 6.9, 6.2, 6.9, 4.8, 8.0, 5.3, 6.7, 5.4, 5.4, 4.9, 6.1, 5.8, 7.0, 6.5, 6.6, 6.1, 5.7, 6.6, 7.0, 7.4, 5.3, 7.4, 7.4, 6.8, 7.9, 7.2, 6.0, 7.8, 6.6, 7.9, 6.2, 5.7, 7.1, 5.6, 7.8, 7.9, 6.9, 7.4, 7.7, 6.9, 8.7, 6.7, 6.0, 6.2, 5.9, 6.8, 3.6, 6.7, 6.3, 6.4, 6.4, 5.7, 6.2, 6.6, 5.2, 6.1, 7.1, 7.2, 6.5, 6.0, 7.0, 7.0, 7.5, 6.6, 8.8, 7.4, 6.5, 6.2, 7.8, 5.2, 6.5, 6.5, 5.2, 7.2, 7.1, 4.5, 5.7, 6.0, 6.4, 5.2, 4.3, 6.1, 6.3, 6.8, 4.0, 5.2, 6.5, 7.5, 7.1, 6.9, 8.0, 8.2, 6.4, 7.9, 6.7, 6.1, 8.9, 8.1, 6.2, 4.9, 5.4, 5.8, 4.7, 6.0, 7.0, 6.0, 7.9, 8.1, 6.2, 6.7, 7.3, 4.6, 6.1, 6.2, 7.8, 6.1, 7.6, 5.8, 6.5, 7.2, 7.8, 4.7, 6.8, 5.9, 7.2, 8.7, 5.0, 6.6, 8.3, 6.7, 7.8, 6.5, 6.1, 8.1, 5.2, 5.6, 5.8, 6.6, 6.6, 5.5, 5.5, 7.0, 6.5, 5.8, 5.6, 5.6, 5.8, 7.6, 6.4, 6.3, 4.6, 6.5, 7.5, 7.5, 5.3, 7.5, 3.3, 5.7, 3.5, 9.3, 4.8, 6.9, 6.0, 7.3, 6.0, 6.6, 7.5, 6.9, 6.8, 8.3, 6.3, 6.4, 5.6, 6.3, 7.3, 6.6, 4.6, 5.1, 5.6, 5.3, 7.5, 5.6, 5.9, 4.7, 4.8, 6.8, 5.4, 5.1, 7.0, 6.7, 4.0, 7.3, 6.8, 6.1, 7.2, 7.0, 7.1, 6.9, 7.3, 6.3, 8.2, 7.1, 7.7, 6.5, 4.9, 6.4, 5.9, 6.2, 5.8, 6.7, 5.9, 7.3, 4.8, 4.1, 4.9, 7.9, 5.6, 5.2, 4.1, 6.6, 2.9, 7.2, 6.5, 6.8, 7.2, 6.8, 7.8, 6.7, 6.1, 7.1, 5.7, 2.9, 5.2, 5.3, 6.2, 7.3, 6.5, 4.1, 7.7, 6.1, 7.3, 7.2, 5.3, 6.1, 5.8, 5.7, 6.7, 6.5, 7.2, 7.6, 4.6, 6.9, 6.6, 6.3, 6.2, 5.3, 7.3, 5.6, 6.2, 5.2, 5.3, 5.4, 4.9, 5.5, 6.7, 3.9, 7.2, 5.1, 6.5, 8.2, 7.7, 7.2, 6.1, 8.8, 6.8, 6.8, 6.7, 7.1, 7.1, 6.1, 8.0, 7.5, 6.6, 5.4, 6.1, 6.1, 5.6, 5.8, 2.8, 6.7, 5.1, 7.2, 6.0, 7.2, 6.7, 6.3, 6.2, 6.8, 6.2, 6.9, 6.8, 7.1, 7.1, 7.0, 7.1, 6.4, 7.0, 6.2, 7.5, 4.8, 8.1, 7.3, 5.8, 7.6, 5.6, 7.0, 6.6, 6.5, 7.4, 4.6, 6.4, 6.0, 6.4, 5.9, 6.4, 6.6, 6.9, 6.9, 5.8, 6.4, 5.3, 6.5, 5.7, 6.7, 3.9, 4.1, 6.2, 3.8, 5.1, 6.4, 7.8, 7.8, 6.1, 5.8, 6.3, 7.7, 5.4, 7.3, 6.8, 7.3, 6.5, 7.2, 6.7, 6.3, 5.9, 7.8, 7.4, 4.8, 6.3, 7.8, 7.5, 6.0, 6.8, 6.6, 4.6, 2.9, 7.1, 6.1, 6.7, 7.1, 5.8, 6.7, 5.8, 6.8, 8.5, 6.6, 7.7, 4.7, 6.4, 5.5, 8.6, 7.0, 7.1, 5.7, 3.7, 7.5, 4.6, 4.9, 6.9, 7.1, 5.8, 7.0, 5.4, 7.3, 7.1, 5.8, 8.1, 5.7, 4.4, 7.9, 7.6, 4.8, 7.8, 6.7, 2.7, 5.8, 7.5, 5.4, 4.1, 5.9, 6.3, 7.0, 6.8, 3.5, 2.3, 6.9, 8.1, 6.1, 5.0, 5.5, 6.2, 6.2, 5.9, 6.3, 6.7, 3.5, 7.5, 6.6, 7.5, 7.2, 4.8, 6.6, 3.5, 6.7, 7.6, 6.3, 5.5, 6.3, 6.5, 5.6, 6.9, 7.6, 3.9, 6.1, 7.3, 8.3, 5.8, 6.8, 7.0, 5.9, 6.5, 6.4, 5.8, 5.1, 6.8, 5.3, 5.3, 6.4, 4.9, 6.8, 7.1, 6.8, 6.1, 7.0, 8.5, 5.9, 6.3, 5.9, 5.4, 7.0, 6.9, 7.5, 8.2, 5.9, 5.0, 7.3, 6.4, 6.6, 7.8, 6.7, 4.0, 7.6, 7.7, 5.8, 5.2, 5.6, 5.3, 7.4, 6.6, 6.2, 1.9, 5.7, 6.6, 6.0, 6.1, 4.8, 6.2, 7.5, 6.3, 7.1, 6.6, 6.1, 6.7, 5.6, 7.2, 4.3, 6.4, 7.1, 6.3, 7.4, 6.1, 6.6, 6.0, 6.8, 7.4, 6.8, 7.2, 1.9, 5.5, 4.5, 6.3, 7.0, 6.7, 2.8, 5.0, 7.5, 4.3, 5.6, 6.2, 5.3, 7.4, 7.4, 6.5, 7.1, 7.2, 2.3, 6.4, 6.1, 7.0, 6.5, 7.0, 7.0, 4.9, 6.9, 7.5, 8.4, 6.9, 4.5, 7.4, 7.0, 2.8, 7.5, 7.1, 6.4, 6.7, 5.3, 6.9, 6.2, 6.3, 6.4, 6.5, 6.0, 5.1, 5.5, 7.2, 5.4, 5.7, 5.2, 6.2, 6.7, 5.8, 7.0, 4.8, 7.2, 5.6, 6.4, 7.5, 7.4, 8.0, 5.7, 6.8, 5.9, 7.2, 5.5, 8.4, 8.5, 5.6, 4.1, 5.0, 6.1, 5.4, 7.1, 6.6, 3.6, 6.5, 8.6, 6.2, 7.0, 7.6, 6.5, 6.4, 6.7, 6.3, 6.4, 5.7, 6.3, 7.8, 6.0, 7.7, 6.2, 5.7, 7.7, 6.4, 6.4, 6.9, 7.3, 7.3, 6.2, 6.6, 6.7, 5.7, 3.1, 6.3, 5.7, 7.1, 7.0, 6.1, 6.6, 7.8, 8.3, 3.9, 7.0, 6.7, 7.3, 7.5, 6.3, 7.8, 7.3, 7.6, 5.3, 7.9, 5.3, 6.8, 7.1, 7.2, 5.8, 5.8, 8.3, 5.6, 6.8, 5.0, 7.6, 6.7, 6.7, 5.7, 5.2, 7.5, 7.2, 5.3, 6.5, 5.0, 6.1, 7.4, 4.4, 7.5, 5.7, 5.5, 7.1, 5.9, 6.7, 7.0, 7.9, 6.9, 7.3, 7.3, 3.5, 7.8, 7.4, 6.7, 6.4, 7.1, 6.7, 7.8, 4.0, 5.9, 7.2, 7.2, 5.1, 7.7, 5.5, 6.2, 7.2, 5.2, 6.7, 6.3, 5.0, 6.2, 7.6, 4.1, 5.3, 6.2, 6.5, 8.1, 6.3, 4.4, 4.6, 6.0, 7.6, 8.4, 7.9, 5.6, 6.5, 7.5, 6.3, 7.9, 7.9, 5.1, 6.7, 6.7, 5.6, 5.6, 6.8, 6.2, 5.6, 6.4, 5.6, 7.4, 4.9, 6.0, 7.2, 4.9, 7.5, 4.8, 3.1, 5.8, 6.7, 6.8, 6.5, 5.9, 5.5, 3.6, 3.3, 7.4, 6.7, 3.0, 7.6, 6.4, 6.9, 6.6, 5.5, 6.6, 5.2, 4.1, 6.8, 6.5, 7.6, 7.4, 7.7, 7.1, 6.3, 7.6, 8.0, 7.3, 7.6, 7.8, 6.5, 6.4, 8.0, 4.8, 7.8, 5.9, 5.4, 3.3, 8.2, 6.6, 5.4, 6.4, 4.8, 5.9, 5.5, 7.9, 4.9, 7.2, 6.6, 6.7, 5.3, 7.2, 5.1, 5.6, 7.6, 3.1, 7.2, 5.7, 5.2, 7.7, 7.0, 3.6, 4.9, 6.0, 6.6, 6.8, 7.2, 7.2, 2.8, 6.6, 6.7, 7.0, 4.4, 7.1, 6.2, 7.3, 5.1, 8.1, 6.7, 6.6, 4.5, 8.1, 6.6, 6.5, 5.9, 6.6, 6.5, 7.3, 7.5, 5.9, 7.4, 6.9, 7.9, 8.4, 8.0, 6.0, 7.3, 6.8, 7.8, 5.7, 6.1, 8.1, 6.1, 7.5, 6.2, 6.2, 7.9, 7.4, 6.6, 7.3, 7.5, 5.6, 7.3, 6.4, 5.0, 5.4, 8.2, 7.1, 5.3, 6.5, 6.2, 6.4, 7.2, 6.9, 5.7, 7.7, 5.4, 5.6, 7.7, 5.1, 6.8, 8.4, 4.9, 7.1, 6.6, 6.1, 4.1, 5.8, 8.1, 7.6, 7.8, 4.6, 6.0, 7.0, 6.7, 6.4, 7.2, 7.4, 4.8, 4.0, 6.2, 7.7, 6.7, 7.9, 7.9, 5.5, 6.2, 5.1, 4.1, 6.7, 4.7, 6.4, 6.3, 5.5, 7.3, 6.3, 4.9, 7.6, 6.0, 6.2, 6.8, 4.5, 5.7, 8.4, 4.6, 6.2, 7.0, 6.9, 6.1, 6.7, 5.6, 6.6, 6.4, 2.8, 5.4, 5.0, 5.1, 8.0, 5.9, 7.5, 8.2, 7.0, 6.6, 6.7, 5.5, 4.9, 6.9, 7.4, 5.6, 8.0, 5.3, 6.2, 5.3, 6.6, 7.2, 4.6, 7.5, 6.5, 7.6, 6.2, 8.0, 5.5, 6.3, 7.2, 7.9, 6.7, 5.3, 6.3, 6.5, 5.6, 7.0, 8.3, 7.2, 6.8, 6.4, 6.9, 8.0, 6.2, 6.4, 5.6, 6.1, 6.0, 5.1, 4.5, 5.9, 6.0, 5.8, 6.1, 4.9, 5.7, 7.1, 6.6, 8.1, 5.7, 6.8, 7.5, 6.2, 8.3, 7.4, 8.0, 6.9, 6.9, 9.5, 5.5, 5.7, 7.2, 6.9, 5.5, 5.9, 7.7, 5.2, 7.1, 6.6, 5.5, 7.7, 5.4, 6.7, 5.0, 6.4, 6.6, 5.9, 5.7, 4.5, 3.7, 5.0, 4.6, 6.5, 4.9, 6.0, 6.9, 5.7, 6.7, 6.9, 5.5, 4.4, 5.4, 7.0, 5.4, 5.4, 8.0, 7.6, 5.9, 6.6, 6.7, 3.9, 5.7, 6.7, 6.5, 6.8, 6.3, 7.3, 6.9, 7.0, 6.5, 3.6, 7.7, 7.7, 5.9, 6.8, 7.4, 5.1, 9.1, 7.4, 7.2, 6.0, 7.4, 8.3, 8.1, 6.3, 7.3, 3.6, 1.6, 8.0, 6.2, 9.0, 6.1, 5.7, 6.8, 5.5, 6.8, 7.3, 6.1, 7.2, 5.9, 6.1, 6.8, 7.7, 4.9, 6.1, 2.5, 6.1, 5.9, 5.7, 5.6, 7.2, 7.7, 7.8, 6.1, 5.8, 6.5, 7.9, 6.3, 3.8, 8.3, 6.4, 6.7, 6.1, 8.1, 6.0, 5.8, 5.6, 6.1, 5.9, 7.3, 6.8, 5.7, 7.3, 6.3, 5.9, 7.1, 7.1, 8.0, 5.1, 7.1, 6.5, 4.5, 6.6, 4.3, 6.7, 6.8, 5.4, 6.6, 7.4, 7.3, 6.9, 8.0, 6.4, 7.8, 6.1, 6.1, 5.1, 7.8, 7.4, 7.8, 8.0, 6.7, 6.6, 6.4, 6.7, 6.2, 7.3, 8.1, 7.0, 8.0, 8.0, 7.0, 7.9, 5.9, 6.6, 6.3, 7.7, 6.9, 7.1, 7.4, 6.5, 6.5, 6.8, 7.5, 6.6, 7.1, 6.6, 7.0, 3.3, 6.7, 8.0, 6.8, 6.0, 5.4, 4.3, 6.2, 7.7, 8.0, 7.4, 5.9, 7.8, 7.4, 6.5, 5.4, 7.0, 8.6, 7.6, 6.9, 7.0, 5.3, 6.4, 4.5, 7.8, 6.7, 5.3, 6.3, 7.0, 5.3, 6.6, 5.8, 6.7, 6.6, 7.0, 8.4, 6.0, 5.4, 7.8, 7.6, 6.6, 6.4, 7.0, 5.7, 5.9, 6.3, 6.3, 6.2, 2.1, 5.0, 5.3, 7.1, 7.0, 7.0, 5.7, 7.1, 7.0, 7.7, 7.1, 6.8, 7.5, 6.3, 7.3, 6.8, 7.2, 6.4, 6.0, 6.4, 5.1, 7.5, 7.1, 4.6, 5.7, 6.8, 7.7, 6.7, 3.2, 6.1, 5.6, 6.9, 7.5, 5.8, 8.3, 2.8, 6.6, 7.5, 6.0, 6.2, 7.2, 8.7, 6.0, 8.0, 7.2, 4.5, 7.9, 7.1, 7.5, 6.8, 4.3, 7.2, 5.8, 7.1, 7.4, 7.6, 6.9, 6.0, 6.9, 7.3, 4.6, 6.0, 6.4, 5.5, 7.5, 8.1, 6.3, 5.1, 6.8, 5.3, 7.3, 7.3, 7.1, 7.6, 5.3, 7.8, 7.7, 7.7, 5.4, 6.2, 7.4, 6.2, 5.1, 6.9, 6.3, 6.8, 7.4, 5.7, 5.8, 6.2, 4.3, 6.4, 6.0, 6.9, 5.5, 5.4, 8.3, 7.9, 6.5, 6.3, 6.4, 7.9, 5.3, 5.8, 6.6, 7.4, 8.3, 5.3, 6.2, 6.9, 5.9, 6.1, 5.8, 7.3, 5.9, 5.5, 5.0, 7.0, 7.8, 6.4, 5.9, 7.0, 6.1, 6.9, 7.5, 7.3, 6.5, 6.2, 6.7, 6.0, 6.3, 5.8, 6.1, 6.9, 8.3, 5.4, 6.7, 7.4, 5.6, 6.5, 6.5, 5.8, 5.0, 5.5, 6.5, 7.2, 7.3, 7.2, 5.2, 5.7, 4.7, 5.9, 6.8, 5.9, 5.3, 6.0, 7.7, 4.4, 6.6, 6.7, 5.5, 6.5, 6.2, 7.1, 6.1, 7.1, 6.0, 7.4, 5.9, 4.1, 5.8, 5.9, 7.0, 6.8, 7.4, 7.1, 7.0, 5.8, 7.8, 6.5, 7.0, 6.3, 5.3, 6.8, 5.5, 7.4, 4.3, 6.0, 5.2, 6.7, 6.3, 7.9, 8.6, 6.1, 5.8, 7.7, 8.0, 5.6, 6.7, 6.6, 4.2, 6.6, 4.1, 7.3, 7.1, 6.5, 7.0, 5.5, 6.6, 7.1, 7.9, 7.1, 5.6, 7.3, 3.3, 6.5, 4.8, 5.2, 6.3, 7.2, 6.8, 5.7, 7.2, 6.9, 9.1, 6.3, 6.2, 6.7, 6.5, 7.2, 5.3, 6.7, 6.2, 3.6, 5.7, 7.3, 5.0, 6.6, 6.6, 6.8, 6.2, 7.3, 6.2, 6.9, 6.6, 6.3, 7.0, 3.3, 6.7, 6.2, 6.5, 3.5, 5.5, 5.9, 4.7, 4.2, 5.2, 5.2, 3.9, 6.1, 5.8, 6.7, 5.7, 4.5, 6.9, 4.8, 6.3, 6.9, 5.4, 3.8, 7.0, 5.2, 7.3, 4.6, 6.5, 6.8, 6.7, 6.1, 5.2, 6.9, 6.0, 7.9, 4.5, 5.1, 7.6, 7.6, 6.7, 6.1, 7.5, 5.3, 6.0, 7.1, 7.5, 6.9, 8.5, 7.5, 6.6, 8.0, 7.0, 5.8, 7.3, 6.8, 6.7, 6.5, 8.0, 6.5, 4.9, 7.1, 7.0, 7.0, 7.5, 4.5, 5.5, 7.7, 7.2, 4.8, 6.7, 7.0, 6.5, 7.4, 3.5, 5.7, 6.2, 5.7, 6.4, 7.0, 7.7, 5.4, 6.6, 6.1, 6.1, 7.6, 6.2, 6.6, 6.1, 7.3, 4.2, 7.1, 6.0, 6.5, 6.5, 5.7, 6.1, 7.1, 7.3, 6.5, 7.9, 5.7, 7.2, 7.3, 6.9, 5.0, 5.9, 6.7, 7.3, 7.6, 6.5, 2.1, 5.3, 7.2, 7.0, 8.0, 6.5, 6.9, 7.1, 7.3, 7.5, 6.9, 7.2, 7.2, 6.7, 6.0, 8.9, 7.7, 7.9, 5.6, 8.0, 6.2, 7.9, 8.1, 7.6, 3.5, 7.6, 6.5, 5.6, 7.7, 5.2, 6.9, 6.1, 5.0, 7.8, 7.4, 6.8, 7.1, 6.4, 5.7, 7.5, 6.7, 5.6, 7.0, 7.6, 6.5, 7.0, 6.3, 6.4, 7.1, 7.1, 6.5, 6.9, 5.4, 4.9, 5.1, 5.3, 7.5, 8.3, 7.3, 7.3, 7.1, 6.0, 6.6, 7.2, 7.2, 6.9, 6.8, 4.0, 7.7, 7.4, 6.5, 6.4, 7.2, 5.6, 6.3, 6.8, 5.5, 6.9, 6.0, 7.7, 6.4, 6.6, 5.3, 8.1, 5.9, 7.7, 4.6, 5.1, 6.9, 8.0, 6.8, 5.4, 6.5, 4.2, 7.4, 6.9, 6.7, 7.3, 7.6, 5.4, 7.3, 6.4, 6.0, 7.2, 6.0, 3.1, 6.9, 6.2, 5.5, 6.9, 6.3, 4.8, 7.9, 6.7, 5.6, 5.4, 8.0, 5.7, 7.6, 7.0, 7.2, 6.2, 3.5, 7.5, 5.1, 6.7, 9.2, 6.1, 7.7, 7.6, 6.1, 4.9, 6.8, 7.0, 7.2, 5.7, 7.3, 7.5, 7.4, 7.2, 6.5, 9.0, 6.8, 6.8, 5.2, 7.2, 7.5, 4.0, 6.8, 6.9, 8.2, 7.3, 6.1, 7.8, 6.0, 4.1, 7.0, 7.1, 6.2, 6.9, 7.6, 7.6, 6.4, 6.2, 7.5, 2.0, 6.2, 7.7, 6.5, 7.4, 7.9, 6.8, 6.3, 6.3, 6.6, 6.4, 7.5, 5.8, 6.5, 4.8, 7.2, 6.3, 7.0, 6.3, 5.3, 2.3, 7.1, 6.2, 6.2, 6.7, 6.5, 5.9, 6.7, 6.0, 6.9, 7.9, 5.3, 4.8, 5.3, 6.0, 7.3, 7.4, 7.7, 4.8, 7.2, 5.8, 7.3, 7.0, 6.4, 5.6, 8.2, 6.5, 6.4, 8.1, 5.4, 6.3, 7.8, 6.8, 7.2, 7.1, 6.2, 7.3, 5.9, 7.2, 3.6, 7.7, 7.3, 7.4, 6.6, 6.9, 6.8, 7.3, 7.2, 6.5, 7.7, 8.1, 7.7, 7.6, 7.3, 8.7, 7.2, 7.2, 8.1, 7.5, 8.1, 7.8, 7.8, 5.8, 7.6, 7.4, 6.3, 6.9, 8.6, 5.1, 6.4, 7.9, 6.9, 7.5, 7.2, 5.8, 2.9, 6.2, 7.3, 6.2, 8.2, 6.8, 6.1, 7.7, 5.2, 6.8, 6.5, 7.0, 5.9, 7.1, 5.5, 7.4, 7.3, 4.6, 7.2, 7.0, 5.1, 6.7, 5.3, 8.4, 7.8, 6.7, 5.4, 7.2, 5.8, 6.4, 8.0, 7.0, 7.0, 6.7, 3.8, 5.7, 6.6, 6.7, 6.1, 6.2, 6.2, 7.4, 4.7, 8.3, 7.2, 5.8, 5.9, 6.3, 7.2, 5.4, 8.2, 7.3, 7.3, 5.8, 6.1, 7.1, 6.5, 7.9, 5.4, 7.1, 6.4, 8.4, 6.7, 6.9, 2.1, 4.3, 6.6, 3.4, 8.3, 7.2, 5.6, 7.7, 6.6, 7.6, 7.4, 7.1, 3.4, 7.9, 6.7, 6.6, 7.9, 4.9, 7.2, 7.4, 6.1, 8.4, 6.2, 5.3, 5.0, 7.7, 7.6, 6.3, 7.6, 5.6, 7.3, 6.2, 6.6, 6.6, 7.3, 6.6, 6.9, 5.8, 4.4, 6.6, 7.1, 7.6, 4.6, 6.8, 7.1, 4.9, 7.3, 7.2, 5.0, 8.2, 8.0, 5.2, 8.5, 6.5, 7.4, 7.7, 7.4, 5.1, 7.3, 5.0, 7.2, 6.7, 6.4, 7.1, 5.6, 6.2, 6.1, 5.2, 7.3, 7.5, 6.6, 6.4, 4.5, 6.6, 5.3, 4.9, 7.7, 8.0, 3.8, 7.6, 5.9, 6.2, 7.2, 6.3, 5.2, 6.9, 6.8, 6.2, 6.2, 3.5, 6.1, 6.6, 4.5, 5.9, 6.9, 7.7, 6.6, 5.3, 6.3, 7.0, 7.0, 6.6, 8.6, 6.4, 7.9, 5.4, 6.9, 7.7, 7.2, 6.8, 6.2, 7.4, 4.6, 6.4, 7.0, 7.7, 6.8, 7.0, 7.0, 6.3, 7.1, 5.6, 4.4, 7.1, 6.1, 7.4, 7.5, 7.2, 7.6, 7.3, 6.2, 6.2, 4.6, 6.2, 6.2, 3.3, 7.5, 4.2, 7.2, 6.2, 6.1, 4.2, 4.5, 8.4, 7.5, 6.7, 5.1, 5.5, 4.4, 4.4, 6.8, 6.7, 8.6, 4.8, 3.4, 7.4, 7.3, 8.0, 6.5, 5.9, 6.8, 7.4, 6.7, 6.8, 5.4, 5.5, 7.4, 5.7, 5.4, 3.2, 7.1, 7.8, 5.3, 7.2, 6.2, 5.9, 7.3, 6.7, 5.7, 7.1, 7.2, 7.4, 7.7, 7.7, 7.4, 8.4, 7.1, 7.2, 7.5, 5.4, 8.1, 6.0, 7.8, 6.8, 6.5, 7.7, 6.4, 6.5, 7.3, 6.6, 7.9, 5.9, 4.7, 8.7, 5.9, 6.7, 8.5, 8.4, 5.8, 6.1, 7.3, 6.7, 7.6, 7.2, 6.2, 5.8, 5.2, 8.1, 7.1, 6.5, 7.3, 6.2, 5.0, 8.0, 7.8, 8.1, 6.7, 6.1, 7.1, 5.6, 7.6, 4.3, 7.3, 7.3, 4.6, 6.8, 7.5, 7.1, 7.3, 8.3, 5.4, 4.0, 8.0, 6.7, 5.7, 4.6, 4.0, 7.0, 7.4, 5.9, 4.6, 4.8, 7.5, 4.7, 6.7, 6.3, 6.0, 6.7, 7.1, 2.7, 7.3, 7.6, 5.8, 6.5, 6.6, 6.2, 6.9, 8.5, 4.8, 6.6, 5.7, 7.0, 5.4, 7.1, 6.9, 6.6, 5.9, 6.3, 6.3, 7.7, 7.0, 6.3, 5.9, 6.2, 5.0, 7.7, 6.5, 6.1, 5.8, 6.1, 6.0, 6.3, 6.3, 7.5, 7.6, 5.2, 7.8, 6.6, 4.7, 6.7, 4.2, 6.3, 4.7, 6.0, 7.9, 8.1, 8.2, 6.0, 6.8, 7.3, 7.0, 7.3, 7.5, 6.8, 7.1, 6.9, 6.9, 6.9, 8.4, 7.9, 7.2, 7.8, 3.5, 7.3, 7.5, 7.8, 6.0, 7.3, 8.0, 7.6, 7.0, 7.5, 6.8, 3.9, 6.1, 7.5, 8.2, 7.2, 4.8, 7.8, 5.2, 3.3, 6.8, 7.0, 6.5, 5.7, 6.4, 5.3, 4.7, 6.1, 5.5, 7.3, 4.8, 8.4, 7.0, 3.3, 5.4, 4.8, 3.1, 6.7, 7.6, 7.1, 6.1, 6.5, 8.5, 8.7, 7.1, 6.6, 6.7, 8.3, 8.1, 7.4, 6.6, 4.5, 6.4, 7.5, 8.0, 8.1, 7.2, 7.5, 7.2, 6.4, 7.6, 7.8, 5.7, 8.6, 8.2, 6.6, 5.7, 7.4, 8.0, 7.3, 5.4, 7.4, 5.7, 6.8, 5.4, 8.1, 6.1, 5.1, 5.6, 5.9, 8.2, 5.3, 6.8, 8.3, 4.3, 6.7, 7.2, 6.9, 6.6, 5.9, 7.9, 8.3, 5.2, 7.8, 7.8, 3.0, 7.9, 3.2, 6.5, 6.9, 7.0, 7.4, 7.8, 6.9, 4.4, 6.0, 6.6, 7.8, 5.3, 5.3, 8.0, 7.1, 5.4, 6.9, 7.4, 7.3, 7.8, 6.6, 5.4, 8.4, 6.3, 6.1, 5.0, 6.9, 7.2, 7.3, 5.7, 5.0, 5.3, 7.9, 5.0, 5.3, 6.0, 7.6, 7.4, 5.9, 4.1, 6.7, 5.8, 6.2, 5.3, 3.3, 6.5, 6.2, 5.9, 5.5, 5.5, 2.6, 5.8, 7.4, 5.1, 5.2, 4.8, 3.9, 6.2, 7.0, 6.2, 5.9, 8.0, 7.3, 4.9, 6.5, 4.3, 6.4, 7.6, 6.8, 6.1, 4.0, 7.4, 8.3, 5.3, 8.1, 8.0, 5.7, 8.2, 7.1, 7.4, 6.6, 5.7, 6.9, 7.0, 7.0, 7.8, 5.9, 7.4, 7.8, 6.0, 5.3, 7.9, 7.2, 7.4, 5.3, 8.3, 7.6, 5.1, 5.1, 4.9, 6.9, 4.6, 6.3, 7.9, 6.7, 7.1, 7.6, 8.1, 6.6, 7.0, 7.6, 6.7, 7.1, 7.6, 7.1, 7.1, 7.7, 7.6, 6.6, 6.7, 5.7, 7.1, 6.2, 6.1, 5.9, 6.8, 5.8, 5.0, 6.3, 6.8, 5.1, 6.6, 5.0, 7.7, 3.1, 6.5, 3.9, 6.8, 7.0, 5.9, 5.8, 7.3, 7.8, 7.8, 6.9, 5.7, 4.7, 5.9, 5.9, 4.3, 7.5, 4.8, 5.8, 5.3, 6.0, 8.1, 7.0, 7.6, 7.2, 7.5, 6.3, 6.7, 4.8, 5.5, 7.5, 5.1, 7.4, 7.3, 6.9, 6.8, 8.4, 7.6, 7.6, 7.7, 7.6, 5.3, 8.5, 7.0, 8.0, 7.1, 7.8, 7.2, 7.5, 8.0, 8.1, 6.8, 7.4, 7.2, 8.1, 7.0, 7.4, 8.3, 6.1, 7.5, 7.0, 5.3, 4.7, 5.7, 8.1, 7.8, 6.5, 8.0, 3.3, 8.3, 6.9, 7.3, 8.1, 6.5, 6.8, 7.3, 6.4, 4.6, 6.5, 7.0, 5.4, 6.7, 2.8, 7.4, 5.8, 7.1, 4.5, 7.9, 5.3, 5.4, 4.8, 5.9, 6.2, 5.9, 6.6, 6.6, 5.1, 6.0, 6.8, 5.4, 5.2, 7.8, 6.4, 6.1, 5.7, 5.5, 7.4, 7.1, 3.9, 4.6, 7.3, 7.7, 4.9, 6.3, 6.1, 6.6, 5.7, 5.6, 6.0, 5.7, 7.0, 5.3, 4.4, 3.4, 4.5, 3.4, 7.1, 6.4, 5.2, 7.0, 7.3, 8.1, 5.8, 5.9, 6.4, 7.5, 7.8, 6.3, 7.2, 5.6, 7.2, 8.0, 8.5, 6.8, 7.3, 5.5, 7.3, 6.3, 5.1, 6.6, 6.1, 7.5, 7.0, 7.2, 5.3, 8.7, 3.4, 5.4, 7.8, 6.7, 4.7, 6.3, 7.4, 6.1, 7.5, 6.3, 6.3, 6.8, 7.8, 6.9, 8.0, 7.8, 7.4, 6.1, 4.3, 3.5, 7.2, 4.7, 7.3, 7.9, 5.1, 7.2, 5.4, 3.7, 7.4, 7.1, 6.8, 8.2, 7.0, 7.4, 6.7, 5.7, 9.1, 7.6, 7.2, 7.5, 6.8, 6.9, 7.9, 7.6, 6.7, 5.8, 6.5, 7.2, 6.9, 5.5, 6.5, 6.2, 6.7, 5.7, 8.6, 6.5, 6.3, 4.3, 6.1, 6.0, 5.8, 6.7, 6.7, 7.6, 5.1, 6.8, 6.8, 6.8, 6.3, 7.1, 2.8, 8.2, 3.1, 7.0, 3.3, 3.6, 7.7, 6.7, 5.5, 6.6, 4.8, 5.5, 6.3, 6.9, 6.5, 8.2, 7.1, 7.3, 8.1, 7.2, 7.4, 6.5, 5.7, 6.1, 7.7, 8.7, 4.3, 6.2, 3.3, 2.7, 5.2, 8.2, 6.1, 8.0, 5.5, 5.7, 3.7, 7.1, 7.8, 7.3, 4.1, 7.2, 7.7, 7.1, 7.6, 7.0, 5.5, 7.4, 7.7, 7.2, 7.8, 6.6, 6.0, 8.4, 6.5, 8.9, 7.9, 6.0, 6.1, 7.4, 6.2, 5.6, 7.2, 6.1, 3.8, 7.1, 4.5, 3.8, 6.2, 6.6, 4.6, 4.2, 6.8, 7.7, 7.1, 5.9, 4.7, 7.0, 6.9, 6.1, 7.6, 3.0, 2.6, 8.6, 6.1, 7.5, 6.7, 8.1, 4.9, 6.8, 6.8, 5.7, 8.3, 6.6, 7.3, 5.0, 7.0, 3.4, 5.9, 6.0, 7.4, 7.4, 4.2, 6.2, 6.2, 7.5, 7.2, 7.2, 5.4, 7.0, 7.2, 7.9, 6.8, 6.7, 7.5, 6.8, 6.9, 6.8, 7.2, 7.4, 5.6, 6.8, 7.2, 7.7, 7.0, 7.2, 6.4, 7.2, 7.2, 6.2, 6.9, 6.2, 6.9, 7.0, 6.7, 3.6, 6.3, 7.4, 7.4, 7.3, 6.1, 6.7, 8.2, 7.7, 7.3, 7.4, 5.7, 7.6, 6.8, 5.6, 4.8, 6.4, 6.8, 6.1, 5.2, 6.9, 6.0, 6.3, 6.1, 5.5, 6.9, 5.6, 1.9, 4.1, 5.4, 6.8, 7.0, 6.7, 5.8, 6.2, 2.8, 7.3, 5.8, 6.5, 6.1, 5.1, 2.2, 7.2, 5.7, 3.4, 3.8, 4.7, 5.6, 3.9, 5.4, 5.2, 3.5, 5.3, 7.0, 7.1, 5.5, 5.9, 6.0, 4.8, 7.1, 8.2, 5.7, 7.9, 7.3, 7.1, 6.4, 5.9, 7.5, 6.4, 7.4, 7.3, 6.5, 7.2, 6.7, 7.1, 6.0, 6.7, 5.6, 7.0, 4.9, 3.2, 8.4, 6.9, 7.5, 7.2, 7.2, 8.0, 7.4, 7.2, 6.5, 7.2, 4.2, 5.1, 6.4, 6.8, 6.2, 7.5, 7.7, 6.9, 7.0, 7.5, 6.3, 5.5, 4.8, 8.1, 6.6, 5.2, 5.6, 3.1, 8.1, 8.3, 7.1, 8.1, 7.2, 6.3, 4.0, 7.2, 5.3, 7.2, 6.5, 6.5, 4.9, 5.2, 7.4, 7.4, 5.4, 3.9, 5.3, 7.8, 6.4, 8.1, 6.5, 5.6, 5.6, 6.6, 6.3, 7.7, 7.0, 8.0, 7.2, 4.5, 7.7, 7.2, 6.1, 6.4, 6.5, 7.0, 6.1, 5.7, 5.4, 5.9, 7.5, 7.7, 7.1, 7.4, 7.6, 6.4, 7.4, 6.8, 6.5, 6.0, 7.3, 7.3, 6.5, 6.0, 5.3, 6.6, 6.1, 7.1, 8.7, 8.4, 5.8, 6.2, 5.8, 6.7, 5.7, 6.1, 6.4, 5.0, 6.5, 4.6, 7.7, 7.3, 6.6, 6.4, 5.8, 7.2, 7.2, 3.5, 7.5, 2.2, 3.3, 6.6, 6.9, 4.0, 7.4, 8.3, 5.7, 6.8, 5.2, 6.4, 6.2, 5.9, 7.7, 4.3, 7.1, 6.2, 6.8, 7.7, 8.2, 7.5, 7.6, 4.1, 6.9, 7.1, 6.3, 7.7, 8.3, 7.1, 4.7, 7.7, 7.2, 5.1, 5.4, 6.9, 8.2, 6.1, 6.1, 6.9, 5.8, 6.0, 8.2, 8.0, 7.0, 6.3, 7.6, 6.1, 7.2, 7.8, 4.7, 7.5, 6.7, 3.4, 7.9, 8.9, 6.9, 8.2, 7.3, 8.0, 6.7, 6.6, 6.9, 7.1, 5.6, 6.7, 7.1, 5.2, 7.7, 7.5, 7.6, 8.1, 5.5, 6.6, 3.2, 7.4, 6.6, 6.2, 4.8, 4.5, 7.2, 4.3, 4.5, 6.4, 6.4, 7.3, 6.9, 4.3, 7.2, 6.5, 6.6, 6.7, 4.3, 7.3, 6.4, 7.0, 5.5, 6.7, 4.3, 6.1, 6.8, 3.9, 8.5, 6.9, 7.3, 6.9, 6.3, 2.5, 5.7, 7.0, 6.2, 6.9, 4.5, 7.8, 4.4, 7.4, 6.6, 8.0, 8.3, 6.5, 7.1, 7.1, 4.0, 7.5, 7.0, 4.0, 6.7, 7.2, 7.0, 7.4, 8.0, 6.5, 7.2, 6.4, 6.5, 6.8, 6.9, 7.5, 7.1, 5.1, 6.2, 3.9, 6.0, 6.8, 7.4, 8.1, 6.5, 8.0, 7.7, 7.2, 5.4, 6.7, 6.3, 8.1, 8.5, 7.7, 6.5, 8.7, 6.5, 7.0, 5.8, 5.5, 7.0, 6.3, 7.9, 7.3, 7.4, 5.4, 7.1, 7.5, 8.4, 7.0, 5.3, 7.1, 7.5, 6.1, 7.2, 6.7, 8.2, 6.6, 6.7, 5.1, 7.0, 7.0, 8.0, 7.4, 5.4, 5.7, 6.7, 4.2, 7.4, 4.8, 7.0, 7.3, 5.8, 7.0, 3.2, 6.8, 7.7, 5.6, 7.1, 3.6, 6.8, 7.6, 6.6, 8.3, 7.5, 5.4, 5.3, 4.5, 7.3, 5.6, 5.6, 4.1, 6.8, 6.3, 5.8, 6.6, 6.7, 6.4, 6.3, 3.4, 4.7, 6.0, 7.3, 7.9, 6.1, 7.4, 6.6, 5.5, 7.5, 7.6, 5.0, 3.2, 8.2, 3.7, 6.3, 4.1, 6.9, 5.4, 6.5, 7.8, 6.7, 6.4, 7.3, 5.7, 7.0, 6.3, 7.1, 4.8, 3.3, 6.9, 4.6, 3.0, 6.6, 7.4, 6.2, 4.0, 6.1, 6.9, 7.5, 6.7, 7.4, 6.1, 5.4, 6.4, 7.0, 6.3, 6.9, 7.8, 6.4, 7.7, 7.5, 6.3, 6.3, 6.6]\n"
     ]
    }
   ],
   "source": [
    "print(score)"
   ]
  },
  {
   "cell_type": "code",
   "execution_count": 101,
   "metadata": {},
   "outputs": [
    {
     "name": "stdout",
     "output_type": "stream",
     "text": [
      "<class 'pandas.core.frame.DataFrame'>\n"
     ]
    }
   ],
   "source": [
    "print(type(df))"
   ]
  },
  {
   "cell_type": "code",
   "execution_count": 102,
   "metadata": {},
   "outputs": [],
   "source": [
    "data = df.values"
   ]
  },
  {
   "cell_type": "code",
   "execution_count": 103,
   "metadata": {},
   "outputs": [
    {
     "name": "stdout",
     "output_type": "stream",
     "text": [
      "<class 'numpy.ndarray'>\n"
     ]
    }
   ],
   "source": [
    "print(type(data))"
   ]
  },
  {
   "cell_type": "code",
   "execution_count": 104,
   "metadata": {},
   "outputs": [
    {
     "name": "stdout",
     "output_type": "stream",
     "text": [
      "(5043, 28)\n"
     ]
    }
   ],
   "source": [
    "print(data.shape)"
   ]
  },
  {
   "cell_type": "code",
   "execution_count": 105,
   "metadata": {},
   "outputs": [],
   "source": [
    "# Try to gain some insight - Plot X-len(MovieName), Y-Freq"
   ]
  },
  {
   "cell_type": "code",
   "execution_count": 109,
   "metadata": {},
   "outputs": [
    {
     "name": "stdout",
     "output_type": "stream",
     "text": [
      "0                                                 Avatar \n",
      "1               Pirates of the Caribbean: At World's End \n",
      "2                                                Spectre \n",
      "3                                  The Dark Knight Rises \n",
      "4       Star Wars: Episode VII - The Force Awakens    ...\n",
      "                              ...                        \n",
      "5038                             Signed Sealed Delivered \n",
      "5039                           The Following             \n",
      "5040                                A Plague So Pleasant \n",
      "5041                                    Shanghai Calling \n",
      "5042                                   My Date with Drew \n",
      "Name: movie_title, Length: 5043, dtype: object\n"
     ]
    }
   ],
   "source": [
    "titles = df.get('movie_title')\n",
    "print(titles)"
   ]
  },
  {
   "cell_type": "code",
   "execution_count": 112,
   "metadata": {},
   "outputs": [
    {
     "name": "stdout",
     "output_type": "stream",
     "text": [
      "{7: 138, 41: 17, 8: 226, 22: 138, 55: 3, 12: 330, 13: 306, 24: 85, 39: 13, 35: 30, 17: 239, 18: 219, 43: 8, 16: 264, 44: 9, 15: 284, 42: 14, 23: 109, 11: 328, 36: 21, 19: 213, 10: 294, 27: 69, 20: 176, 32: 43, 26: 74, 25: 82, 14: 274, 21: 138, 31: 47, 51: 5, 6: 139, 5: 91, 63: 1, 3: 8, 9: 267, 38: 24, 28: 51, 29: 65, 34: 31, 57: 1, 47: 4, 4: 35, 37: 18, 48: 4, 46: 7, 40: 14, 45: 4, 49: 4, 50: 3, 30: 36, 33: 21, 2: 5, 59: 2, 60: 1, 56: 1, 84: 1, 54: 2, 87: 1, 53: 2, 72: 1, 69: 1, 80: 1, 67: 1}\n"
     ]
    }
   ],
   "source": [
    "freq_title = {}\n",
    "for t in titles:\n",
    "    length = len(t)\n",
    "    try:\n",
    "        freq_title[length] +=1\n",
    "    except:\n",
    "        freq_title[length] = 1  \n",
    "print(freq_title)"
   ]
  },
  {
   "cell_type": "code",
   "execution_count": 115,
   "metadata": {},
   "outputs": [
    {
     "name": "stdout",
     "output_type": "stream",
     "text": [
      "<class 'dict_keys'>\n",
      "<class 'dict_values'>\n"
     ]
    }
   ],
   "source": [
    "X = freq_title.keys()\n",
    "Y = freq_title.values()\n",
    "print(type(X))\n",
    "print(type(Y))"
   ]
  },
  {
   "cell_type": "code",
   "execution_count": 117,
   "metadata": {},
   "outputs": [
    {
     "data": {
      "image/png": "[encoded data removed]",
      "text/plain": [
       "<Figure size 432x288 with 1 Axes>"
      ]
     },
     "metadata": {},
     "output_type": "display_data"
    }
   ],
   "source": [
    "plt.scatter(X,Y)\n",
    "plt.xlabel('Length Title')\n",
    "plt.ylabel('No of movies')\n",
    "plt.show()"
   ]
  }
 ],
 "metadata": {
  "kernelspec": {
   "display_name": "Python 3",
   "language": "python",
   "name": "python3"
  },
  "language_info": {
   "codemirror_mode": {
    "name": "ipython",
    "version": 3
   },
   "file_extension": ".py",
   "mimetype": "text/x-python",
   "name": "python",
   "nbconvert_exporter": "python",
   "pygments_lexer": "ipython3",
   "version": "3.6.9"
  }
 },
 "nbformat": 4,
 "nbformat_minor": 2
}
