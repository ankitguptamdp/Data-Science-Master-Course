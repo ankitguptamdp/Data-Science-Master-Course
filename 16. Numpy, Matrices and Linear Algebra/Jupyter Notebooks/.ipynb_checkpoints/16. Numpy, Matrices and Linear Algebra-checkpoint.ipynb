{
 "cells": [
  {
   "cell_type": "markdown",
   "metadata": {},
   "source": [
    "# 01. NumPy Basics"
   ]
  },
  {
   "cell_type": "markdown",
   "metadata": {},
   "source": [
    "### Working with NumPy - for Mathematical Operations"
   ]
  },
  {
   "cell_type": "code",
   "execution_count": 1,
   "metadata": {},
   "outputs": [],
   "source": [
    "import numpy as np"
   ]
  },
  {
   "cell_type": "code",
   "execution_count": 4,
   "metadata": {},
   "outputs": [
    {
     "name": "stdout",
     "output_type": "stream",
     "text": [
      "[1 2 3 4 5]\n",
      "<class 'numpy.ndarray'>\n",
      "(5,)\n"
     ]
    }
   ],
   "source": [
    "a = np.array([1,2,3,4,5])\n",
    "print(a)\n",
    "print(type(a))\n",
    "print(a.shape)"
   ]
  },
  {
   "cell_type": "code",
   "execution_count": 5,
   "metadata": {},
   "outputs": [
    {
     "name": "stdout",
     "output_type": "stream",
     "text": [
      "[[1]\n",
      " [2]\n",
      " [3]\n",
      " [4]\n",
      " [5]]\n",
      "(5, 1)\n"
     ]
    }
   ],
   "source": [
    "b = np.array([[1],[2],[3],[4],[5]])\n",
    "print(b)\n",
    "print(b.shape)"
   ]
  },
  {
   "cell_type": "code",
   "execution_count": 6,
   "metadata": {},
   "outputs": [
    {
     "name": "stdout",
     "output_type": "stream",
     "text": [
      "[[0. 0. 0. 0. 0.]\n",
      " [0. 0. 0. 0. 0.]\n",
      " [0. 0. 0. 0. 0.]]\n",
      "[[1. 1. 1.]\n",
      " [1. 1. 1.]]\n",
      "[[6 6 6 6]\n",
      " [6 6 6 6]\n",
      " [6 6 6 6]]\n",
      "[[1. 0. 0. 0.]\n",
      " [0. 1. 0. 0.]\n",
      " [0. 0. 1. 0.]\n",
      " [0. 0. 0. 1.]]\n",
      "[[0.33909203 0.85253526 0.922366  ]\n",
      " [0.09517402 0.38197967 0.54006109]]\n"
     ]
    }
   ],
   "source": [
    "# Create Zeros, Ones, Custom array\n",
    "a = np.zeros((3,5))\n",
    "print(a)\n",
    "\n",
    "b = np.ones((2,3))\n",
    "print(b)\n",
    "\n",
    "# Array of some constants\n",
    "c = np.full((3,4),6)\n",
    "print(c)\n",
    "\n",
    "# Identity Matrix - Size/Square Matrix\n",
    "d = np.eye(4)\n",
    "print(d)\n",
    "\n",
    "# Random Matrix\n",
    "randomMatrix = np.random.random((2,3))\n",
    "print(randomMatrix)"
   ]
  },
  {
   "cell_type": "code",
   "execution_count": 7,
   "metadata": {},
   "outputs": [
    {
     "name": "stdout",
     "output_type": "stream",
     "text": [
      "[0.85253526 0.38197967]\n"
     ]
    }
   ],
   "source": [
    "print(randomMatrix[:,1])"
   ]
  },
  {
   "cell_type": "code",
   "execution_count": 10,
   "metadata": {},
   "outputs": [
    {
     "name": "stdout",
     "output_type": "stream",
     "text": [
      "[[0.33909203 0.85253526 0.922366  ]\n",
      " [0.09517402 1.         1.        ]]\n"
     ]
    }
   ],
   "source": [
    "randomMatrix[1,1:] = 1 # Slicing\n",
    "print(randomMatrix)"
   ]
  },
  {
   "cell_type": "code",
   "execution_count": 15,
   "metadata": {},
   "outputs": [
    {
     "name": "stdout",
     "output_type": "stream",
     "text": [
      "[[0. 0. 0.]\n",
      " [0. 0. 0.]\n",
      " [0. 0. 0.]]\n",
      "[[0. 0. 7.]\n",
      " [5. 5. 7.]\n",
      " [0. 0. 7.]]\n",
      "float64\n"
     ]
    }
   ],
   "source": [
    "# Set some rows and columns with any values\n",
    "z = np.zeros((3,3))\n",
    "print(z)\n",
    "z[1,:] = 5\n",
    "z[:,-1] = 7\n",
    "print(z)\n",
    "print(z.dtype)"
   ]
  },
  {
   "cell_type": "code",
   "execution_count": 16,
   "metadata": {},
   "outputs": [
    {
     "name": "stdout",
     "output_type": "stream",
     "text": [
      "[[0 0 0]\n",
      " [0 0 0]\n",
      " [0 0 0]]\n",
      "[[0 0 7]\n",
      " [5 5 7]\n",
      " [0 0 7]]\n",
      "int64\n"
     ]
    }
   ],
   "source": [
    "# Datatypes\n",
    "z = np.zeros((3,3),dtype=np.int64)\n",
    "print(z)\n",
    "z[1,:] = 5\n",
    "z[:,-1] = 7\n",
    "print(z)\n",
    "print(z.dtype)"
   ]
  },
  {
   "cell_type": "code",
   "execution_count": 20,
   "metadata": {},
   "outputs": [
    {
     "name": "stdout",
     "output_type": "stream",
     "text": [
      "[[ 6  8]\n",
      " [10 12]]\n",
      "[[ 6  8]\n",
      " [10 12]]\n",
      "[[-4 -4]\n",
      " [-4 -4]]\n",
      "[[-4 -4]\n",
      " [-4 -4]]\n",
      "[[ 5 12]\n",
      " [21 32]]\n",
      "[[ 5 12]\n",
      " [21 32]]\n",
      "[[0.2        0.33333333]\n",
      " [0.42857143 0.5       ]]\n",
      "[[0.2        0.33333333]\n",
      " [0.42857143 0.5       ]]\n",
      "[[1.         1.41421356]\n",
      " [1.73205081 2.        ]]\n"
     ]
    }
   ],
   "source": [
    "# Mathematical Operations\n",
    "x = np.array([[1,2],[3,4]])\n",
    "y = np.array([[5,6],[7,8]])\n",
    "\n",
    "# Element-wise Addition\n",
    "print(x+y)\n",
    "print(np.add(x,y))\n",
    "print(x-y)\n",
    "print(np.subtract(x,y))\n",
    "print(x*y)\n",
    "print(np.multiply(x,y))\n",
    "print(x/y)\n",
    "print(np.divide(x,y))\n",
    "print(np.sqrt(x))"
   ]
  },
  {
   "cell_type": "code",
   "execution_count": 23,
   "metadata": {},
   "outputs": [
    {
     "name": "stdout",
     "output_type": "stream",
     "text": [
      "[[1 2]\n",
      " [3 4]]\n",
      "[[5 6]\n",
      " [7 8]]\n",
      "[[19 22]\n",
      " [43 50]]\n",
      "[[19 22]\n",
      " [43 50]]\n"
     ]
    }
   ],
   "source": [
    "# Matrix Multiplication / Dot Products\n",
    "print(x)\n",
    "print(y)\n",
    "print(x.dot(y))\n",
    "print(np.dot(x,y))"
   ]
  },
  {
   "cell_type": "code",
   "execution_count": 24,
   "metadata": {},
   "outputs": [
    {
     "name": "stdout",
     "output_type": "stream",
     "text": [
      "30\n"
     ]
    }
   ],
   "source": [
    "# Multiplication(Dot Product) of Vectors - Scalar\n",
    "a = np.array([1,2,3,4])\n",
    "b = np.array([1,2,3,4])\n",
    "print(a.dot(b))"
   ]
  },
  {
   "cell_type": "code",
   "execution_count": 25,
   "metadata": {},
   "outputs": [
    {
     "name": "stdout",
     "output_type": "stream",
     "text": [
      "[1 2 3 4]\n"
     ]
    }
   ],
   "source": [
    "print(a)"
   ]
  },
  {
   "cell_type": "code",
   "execution_count": 26,
   "metadata": {},
   "outputs": [
    {
     "name": "stdout",
     "output_type": "stream",
     "text": [
      "10\n"
     ]
    }
   ],
   "source": [
    "print(sum(a))"
   ]
  },
  {
   "cell_type": "code",
   "execution_count": 29,
   "metadata": {},
   "outputs": [
    {
     "name": "stdout",
     "output_type": "stream",
     "text": [
      "[[1 2]\n",
      " [3 4]]\n",
      "10\n"
     ]
    }
   ],
   "source": [
    "print(x)\n",
    "print(np.sum(x))"
   ]
  },
  {
   "cell_type": "code",
   "execution_count": 30,
   "metadata": {},
   "outputs": [
    {
     "name": "stdout",
     "output_type": "stream",
     "text": [
      "[4 6]\n"
     ]
    }
   ],
   "source": [
    "print(np.sum(x,axis=0))"
   ]
  },
  {
   "cell_type": "code",
   "execution_count": 31,
   "metadata": {},
   "outputs": [
    {
     "name": "stdout",
     "output_type": "stream",
     "text": [
      "[3 7]\n"
     ]
    }
   ],
   "source": [
    "print(np.sum(x,axis=1))"
   ]
  },
  {
   "cell_type": "code",
   "execution_count": 49,
   "metadata": {},
   "outputs": [],
   "source": [
    "a = np.array([1,2,3,4])\n",
    "b = np.array([1,2,3,4])"
   ]
  },
  {
   "cell_type": "code",
   "execution_count": 50,
   "metadata": {},
   "outputs": [
    {
     "name": "stdout",
     "output_type": "stream",
     "text": [
      "[1 2 3 4]\n",
      "[5 6 7 8]\n"
     ]
    }
   ],
   "source": [
    "# Stacking of arrays\n",
    "print(a)\n",
    "b = b + 4\n",
    "print(b)"
   ]
  },
  {
   "cell_type": "code",
   "execution_count": 51,
   "metadata": {},
   "outputs": [
    {
     "data": {
      "text/plain": [
       "array([[1, 5],\n",
       "       [2, 6],\n",
       "       [3, 7],\n",
       "       [4, 8]])"
      ]
     },
     "execution_count": 51,
     "metadata": {},
     "output_type": "execute_result"
    }
   ],
   "source": [
    "np.stack((a,b),axis=1)"
   ]
  },
  {
   "cell_type": "code",
   "execution_count": 52,
   "metadata": {},
   "outputs": [
    {
     "name": "stdout",
     "output_type": "stream",
     "text": [
      "[[1 2 3 4]\n",
      " [5 6 7 8]]\n"
     ]
    }
   ],
   "source": [
    "a = np.stack((a,b),axis=0)\n",
    "print(a)"
   ]
  },
  {
   "cell_type": "code",
   "execution_count": 53,
   "metadata": {},
   "outputs": [
    {
     "name": "stdout",
     "output_type": "stream",
     "text": [
      "[[1 2 3 4]\n",
      " [5 6 7 8]]\n",
      "[[1 2]\n",
      " [3 4]\n",
      " [5 6]\n",
      " [7 8]]\n"
     ]
    }
   ],
   "source": [
    "# Reshape a NumPy Array\n",
    "print(a)\n",
    "a = a.reshape((4,2))\n",
    "print(a)"
   ]
  },
  {
   "cell_type": "code",
   "execution_count": 54,
   "metadata": {},
   "outputs": [
    {
     "name": "stdout",
     "output_type": "stream",
     "text": [
      "[[1]\n",
      " [2]\n",
      " [3]\n",
      " [4]\n",
      " [5]\n",
      " [6]\n",
      " [7]\n",
      " [8]]\n"
     ]
    }
   ],
   "source": [
    "a = a.reshape((8,1))\n",
    "print(a)"
   ]
  },
  {
   "cell_type": "code",
   "execution_count": 55,
   "metadata": {},
   "outputs": [
    {
     "name": "stdout",
     "output_type": "stream",
     "text": [
      "[1 2 3 4 5 6 7 8]\n"
     ]
    }
   ],
   "source": [
    "a = a.reshape((8,))\n",
    "print(a)"
   ]
  },
  {
   "cell_type": "code",
   "execution_count": 56,
   "metadata": {},
   "outputs": [
    {
     "name": "stdout",
     "output_type": "stream",
     "text": [
      "[[1 2]\n",
      " [3 4]\n",
      " [5 6]\n",
      " [7 8]]\n"
     ]
    }
   ],
   "source": [
    "a = a.reshape((4,-1))\n",
    "print(a)"
   ]
  },
  {
   "cell_type": "code",
   "execution_count": 58,
   "metadata": {},
   "outputs": [
    {
     "name": "stdout",
     "output_type": "stream",
     "text": [
      "[[1 2 3 4]\n",
      " [5 6 7 8]]\n"
     ]
    }
   ],
   "source": [
    "a = a.reshape((-1,4))\n",
    "print(a)"
   ]
  },
  {
   "cell_type": "markdown",
   "metadata": {},
   "source": [
    "# 02. Random Generators NumPy"
   ]
  },
  {
   "cell_type": "markdown",
   "metadata": {},
   "source": [
    "### NumPy Random Module\n",
    "- rand : Random values in a given shape\n",
    "- randn : Return a sample (samples) from the standard normal distribution\n",
    "- randint : Return random integers from low(inclusive) to high(exclusive)\n",
    "- random : Return random floats in the half open interval [ 0.0,1.0)\n",
    "- choice : Generates a random sample from a given 1-D arrray\n",
    "- shuffle : Shuffles the contents of the sequence"
   ]
  },
  {
   "cell_type": "code",
   "execution_count": 59,
   "metadata": {},
   "outputs": [
    {
     "name": "stdout",
     "output_type": "stream",
     "text": [
      "range(0, 10)\n"
     ]
    }
   ],
   "source": [
    "a=range(10)\n",
    "print(a)"
   ]
  },
  {
   "cell_type": "code",
   "execution_count": 60,
   "metadata": {},
   "outputs": [
    {
     "name": "stdout",
     "output_type": "stream",
     "text": [
      "[0 1 2 3 4 5 6 7 8 9]\n"
     ]
    }
   ],
   "source": [
    "a=np.arange(10)\n",
    "print(a)"
   ]
  },
  {
   "cell_type": "code",
   "execution_count": 61,
   "metadata": {},
   "outputs": [
    {
     "name": "stdout",
     "output_type": "stream",
     "text": [
      "[ 5  6  7  8  9 10 11 12 13 14]\n"
     ]
    }
   ],
   "source": [
    "a=np.arange(10)+5\n",
    "print(a)"
   ]
  },
  {
   "cell_type": "code",
   "execution_count": 62,
   "metadata": {},
   "outputs": [
    {
     "name": "stdout",
     "output_type": "stream",
     "text": [
      "[12  8 14  7 11  5 10  9 13  6]\n"
     ]
    }
   ],
   "source": [
    "np.random.shuffle(a)\n",
    "print(a)"
   ]
  },
  {
   "cell_type": "code",
   "execution_count": 63,
   "metadata": {},
   "outputs": [
    {
     "name": "stdout",
     "output_type": "stream",
     "text": [
      "[[0.5978298  0.28999042 0.70717811]\n",
      " [0.59390694 0.16343519 0.16239225]]\n"
     ]
    }
   ],
   "source": [
    "print(np.random.rand(2,3))"
   ]
  },
  {
   "cell_type": "code",
   "execution_count": 64,
   "metadata": {},
   "outputs": [
    {
     "name": "stdout",
     "output_type": "stream",
     "text": [
      "[[-1.31023265  0.21381717  0.07847555]\n",
      " [ 0.74547838  1.47832086  0.64896523]]\n",
      "[6 8 6]\n",
      "4\n"
     ]
    }
   ],
   "source": [
    "# Returns values from standard normal distributions\n",
    "print(np.random.randn(2,3))\n",
    "\n",
    "print(np.random.randint(5,10,3))\n",
    "\n",
    "# Randomly pick one element from an array\n",
    "print(np.random.choice([1,2,3,4,5,6]))"
   ]
  },
  {
   "cell_type": "code",
   "execution_count": 65,
   "metadata": {},
   "outputs": [
    {
     "name": "stdout",
     "output_type": "stream",
     "text": [
      "[8 4 7 2 1 9 3 0 6 5]\n"
     ]
    }
   ],
   "source": [
    "# It will shuffle elements in such a way that first shuffle result will always be same until seed is same\n",
    "a=np.arange(10)\n",
    "np.random.seed(9)\n",
    "np.random.shuffle(a)\n",
    "print(a)"
   ]
  },
  {
   "cell_type": "markdown",
   "metadata": {},
   "source": [
    "# 03. Statistical Computation Using NumPy"
   ]
  },
  {
   "cell_type": "markdown",
   "metadata": {},
   "source": [
    "### Some More NumPy Functions - Statistics\n",
    "- min, max\n",
    "- mean\n",
    "- median\n",
    "- average\n",
    "- variance\n",
    "- standard deviation"
   ]
  },
  {
   "cell_type": "code",
   "execution_count": 66,
   "metadata": {},
   "outputs": [
    {
     "name": "stdout",
     "output_type": "stream",
     "text": [
      "0\n"
     ]
    }
   ],
   "source": [
    "a=np.array([[1,2,3,4],[5,6,7,0]])\n",
    "print(np.min(a))"
   ]
  },
  {
   "cell_type": "code",
   "execution_count": 67,
   "metadata": {},
   "outputs": [
    {
     "ename": "ValueError",
     "evalue": "The truth value of an array with more than one element is ambiguous. Use a.any() or a.all()",
     "output_type": "error",
     "traceback": [
      "\u001b[0;31m---------------------------------------------------------------------------\u001b[0m",
      "\u001b[0;31mValueError\u001b[0m                                Traceback (most recent call last)",
      "\u001b[0;32m<ipython-input-67-8846d986efdb>\u001b[0m in \u001b[0;36m<module>\u001b[0;34m\u001b[0m\n\u001b[1;32m      1\u001b[0m \u001b[0ma\u001b[0m\u001b[0;34m=\u001b[0m\u001b[0mnp\u001b[0m\u001b[0;34m.\u001b[0m\u001b[0marray\u001b[0m\u001b[0;34m(\u001b[0m\u001b[0;34m[\u001b[0m\u001b[0;34m[\u001b[0m\u001b[0;36m1\u001b[0m\u001b[0;34m,\u001b[0m\u001b[0;36m2\u001b[0m\u001b[0;34m,\u001b[0m\u001b[0;36m3\u001b[0m\u001b[0;34m,\u001b[0m\u001b[0;36m4\u001b[0m\u001b[0;34m]\u001b[0m\u001b[0;34m,\u001b[0m\u001b[0;34m[\u001b[0m\u001b[0;36m5\u001b[0m\u001b[0;34m,\u001b[0m\u001b[0;36m6\u001b[0m\u001b[0;34m,\u001b[0m\u001b[0;36m7\u001b[0m\u001b[0;34m,\u001b[0m\u001b[0;36m0\u001b[0m\u001b[0;34m]\u001b[0m\u001b[0;34m]\u001b[0m\u001b[0;34m)\u001b[0m\u001b[0;34m\u001b[0m\u001b[0;34m\u001b[0m\u001b[0m\n\u001b[0;32m----> 2\u001b[0;31m \u001b[0mprint\u001b[0m\u001b[0;34m(\u001b[0m\u001b[0mmin\u001b[0m\u001b[0;34m(\u001b[0m\u001b[0ma\u001b[0m\u001b[0;34m)\u001b[0m\u001b[0;34m)\u001b[0m\u001b[0;34m\u001b[0m\u001b[0;34m\u001b[0m\u001b[0m\n\u001b[0m",
      "\u001b[0;31mValueError\u001b[0m: The truth value of an array with more than one element is ambiguous. Use a.any() or a.all()"
     ]
    }
   ],
   "source": [
    "a=np.array([[1,2,3,4],[5,6,7,0]])\n",
    "print(min(a))"
   ]
  },
  {
   "cell_type": "code",
   "execution_count": 68,
   "metadata": {},
   "outputs": [
    {
     "name": "stdout",
     "output_type": "stream",
     "text": [
      "1\n"
     ]
    }
   ],
   "source": [
    "a=np.array([1,2,3,4])\n",
    "print(np.min(a))"
   ]
  },
  {
   "cell_type": "code",
   "execution_count": 69,
   "metadata": {},
   "outputs": [
    {
     "name": "stdout",
     "output_type": "stream",
     "text": [
      "1\n"
     ]
    }
   ],
   "source": [
    "a=np.array([1,2,3,4])\n",
    "print(min(a))"
   ]
  },
  {
   "cell_type": "code",
   "execution_count": 70,
   "metadata": {},
   "outputs": [
    {
     "name": "stdout",
     "output_type": "stream",
     "text": [
      "[[1 2 3 4]\n",
      " [5 6 7 0]]\n",
      "[5 6 7 4]\n",
      "[4 7]\n"
     ]
    }
   ],
   "source": [
    "# Specify axis for the direction in the case of multidimensional array\n",
    "a=np.array([[1,2,3,4],[5,6,7,0]])\n",
    "print(a)\n",
    "print(np.max(a,axis=0))\n",
    "print(np.max(a,axis=1))"
   ]
  },
  {
   "cell_type": "code",
   "execution_count": 71,
   "metadata": {},
   "outputs": [
    {
     "name": "stdout",
     "output_type": "stream",
     "text": [
      "[1 2 3 4 5]\n",
      "\n",
      "3.0\n",
      "3.0\n",
      "\n",
      "[[1 2 3 4]\n",
      " [5 6 7 0]]\n",
      "\n",
      "[3. 4. 5. 2.]\n",
      "[2.5 4.5]\n"
     ]
    }
   ],
   "source": [
    "b=np.array([1,2,3,4,5])\n",
    "print(b,end='\\n\\n')\n",
    "print(sum(b)/len(b))\n",
    "print(np.mean(b))\n",
    "print()\n",
    "print(a,end='\\n\\n')\n",
    "print(np.mean(a,axis=0))\n",
    "print(np.mean(a,axis=1))"
   ]
  },
  {
   "cell_type": "code",
   "execution_count": 72,
   "metadata": {},
   "outputs": [
    {
     "name": "stdout",
     "output_type": "stream",
     "text": [
      "3.0\n"
     ]
    }
   ],
   "source": [
    "c=np.array([1,4,2,5,2,6,2,7])\n",
    "print(np.median(c))"
   ]
  },
  {
   "cell_type": "code",
   "execution_count": 73,
   "metadata": {},
   "outputs": [
    {
     "name": "stdout",
     "output_type": "stream",
     "text": [
      "3.625\n",
      "4.194444444444445\n"
     ]
    }
   ],
   "source": [
    "# Mean vs Average\n",
    "\n",
    "# Mean\n",
    "print(np.mean(c))\n",
    "\n",
    "# Average is weighted\n",
    "wt=np.array([1,2,3,4,5,6,7,8])\n",
    "print(np.average(c,weights=wt))"
   ]
  },
  {
   "cell_type": "code",
   "execution_count": 74,
   "metadata": {},
   "outputs": [
    {
     "name": "stdout",
     "output_type": "stream",
     "text": [
      "3.625\n"
     ]
    }
   ],
   "source": [
    "wt=np.array([1,1,1,1,1,1,1,1])\n",
    "print(np.average(c,weights=wt))"
   ]
  },
  {
   "cell_type": "code",
   "execution_count": 75,
   "metadata": {},
   "outputs": [
    {
     "name": "stdout",
     "output_type": "stream",
     "text": [
      "2.057759704144291\n",
      "2.057759704144291\n"
     ]
    }
   ],
   "source": [
    "#Standard Deviation\n",
    "u=np.mean(c)\n",
    "sd=np.sqrt(np.mean(abs(c-u)**2))\n",
    "print(sd)\n",
    "\n",
    "#Inbuilt function\n",
    "print(np.std(c))"
   ]
  },
  {
   "cell_type": "code",
   "execution_count": 76,
   "metadata": {},
   "outputs": [
    {
     "name": "stdout",
     "output_type": "stream",
     "text": [
      "4.234375000000001\n",
      "4.234375\n"
     ]
    }
   ],
   "source": [
    "#Variance\n",
    "print(sd**2)\n",
    "\n",
    "#Inbuilt function\n",
    "print(np.var(c))"
   ]
  },
  {
   "cell_type": "markdown",
   "metadata": {},
   "source": [
    "<img src='../Images/03. Statistical Computation Using NumPy/Image001.png'/>"
   ]
  },
  {
   "cell_type": "markdown",
   "metadata": {},
   "source": [
    "# 04. A Visual Introduction - Blog"
   ]
  },
  {
   "cell_type": "markdown",
   "metadata": {},
   "source": [
    "# 05. Linear Algebra - Matrices and Tensors"
   ]
  },
  {
   "cell_type": "markdown",
   "metadata": {},
   "source": [
    "<img src='../Images/05. Linear Algebra - Matrices and Tensors/Image001.png'/>"
   ]
  },
  {
   "cell_type": "code",
   "execution_count": 1,
   "metadata": {},
   "outputs": [],
   "source": [
    "import numpy as np"
   ]
  },
  {
   "cell_type": "code",
   "execution_count": 4,
   "metadata": {},
   "outputs": [
    {
     "name": "stdout",
     "output_type": "stream",
     "text": [
      "[4 5 6]\n",
      "(3,)\n",
      "4\n"
     ]
    }
   ],
   "source": [
    "x1 = np.array([4,5,6])\n",
    "print(x1)\n",
    "print(x1.shape)\n",
    "print(x1[0])"
   ]
  },
  {
   "cell_type": "code",
   "execution_count": 8,
   "metadata": {},
   "outputs": [
    {
     "name": "stdout",
     "output_type": "stream",
     "text": [
      "[[4]\n",
      " [5]\n",
      " [8]\n",
      " [9]]\n",
      "(4, 1)\n",
      "[4]\n",
      "4\n",
      "[4 5 8 9]\n",
      "[[4 5]\n",
      " [8 9]]\n"
     ]
    }
   ],
   "source": [
    "# We will represent a vector as a column vector, that is having multiple rows\n",
    "x = np.array([[4],[5],[8],[9]])\n",
    "print(x)\n",
    "print(x.shape)\n",
    "print(x[0])\n",
    "print(x[0][0])\n",
    "\n",
    "x = x.reshape((-1))\n",
    "print(x)\n",
    "\n",
    "x = x.reshape((-1,2))\n",
    "print(x)"
   ]
  },
  {
   "cell_type": "markdown",
   "metadata": {},
   "source": [
    "<img src='../Images/05. Linear Algebra - Matrices and Tensors/Image002.png'/>"
   ]
  },
  {
   "cell_type": "code",
   "execution_count": 9,
   "metadata": {},
   "outputs": [
    {
     "name": "stdout",
     "output_type": "stream",
     "text": [
      "(3, 3)\n",
      "[[ 4  5  7]\n",
      " [ 5 10 11]\n",
      " [56  8  7]]\n",
      "10\n",
      "[[4 5 7]\n",
      " [2 2 2]\n",
      " [2 2 2]]\n"
     ]
    }
   ],
   "source": [
    "# Here X is a Matrix\n",
    "X = np.array([[4,5,7],[5,10,11],[56,8,7]])\n",
    "print(X.shape)\n",
    "print(X)\n",
    "print(X[1][1])\n",
    "X[1:,:] = 2\n",
    "print(X)"
   ]
  },
  {
   "cell_type": "code",
   "execution_count": 11,
   "metadata": {},
   "outputs": [
    {
     "name": "stdout",
     "output_type": "stream",
     "text": [
      "(2, 2, 3)\n",
      "[[[ 4  5  7]\n",
      "  [10 11 13]]\n",
      "\n",
      " [[56 80 90]\n",
      "  [ 9  8 10]]]\n"
     ]
    }
   ],
   "source": [
    "# Here T is a Tensor\n",
    "T = np.array([[[4,5,7],[10,11,13]],[[56,80,90],[9,8,10]]])\n",
    "print(T.shape)\n",
    "print(T)"
   ]
  },
  {
   "cell_type": "markdown",
   "metadata": {},
   "source": [
    "<img src='../Images/05. Linear Algebra - Matrices and Tensors/Image003.png'/>"
   ]
  },
  {
   "cell_type": "code",
   "execution_count": 12,
   "metadata": {},
   "outputs": [
    {
     "name": "stdout",
     "output_type": "stream",
     "text": [
      "[[4 5]\n",
      " [8 9]]\n",
      "[[4 8]\n",
      " [5 9]]\n"
     ]
    }
   ],
   "source": [
    "print(x)\n",
    "xt = np.transpose(x)\n",
    "print(xt)"
   ]
  },
  {
   "cell_type": "code",
   "execution_count": 15,
   "metadata": {},
   "outputs": [
    {
     "name": "stdout",
     "output_type": "stream",
     "text": [
      "[[4]\n",
      " [5]\n",
      " [8]\n",
      " [9]]\n",
      "(4, 1)\n",
      "[[4 5 8 9]]\n",
      "(1, 4)\n"
     ]
    }
   ],
   "source": [
    "y = x.reshape((-1,1))\n",
    "print(y)\n",
    "print(y.shape)\n",
    "yt = np.transpose(y)\n",
    "print(yt)\n",
    "print(yt.shape)"
   ]
  },
  {
   "cell_type": "markdown",
   "metadata": {},
   "source": [
    "# 06. Linear Algebra - Matrix and Hadamard Product"
   ]
  },
  {
   "cell_type": "code",
   "execution_count": 17,
   "metadata": {},
   "outputs": [],
   "source": [
    "X = np.array([[4,5,6],[10,11,13],[56,80,90]])\n",
    "Y = np.array([[40,50,70],[100,110,130],[560,800,900]])"
   ]
  },
  {
   "cell_type": "code",
   "execution_count": 19,
   "metadata": {},
   "outputs": [
    {
     "name": "stdout",
     "output_type": "stream",
     "text": [
      "(3, 3)\n",
      "(3, 3)\n",
      "[[ 4  5  6]\n",
      " [10 11 13]\n",
      " [56 80 90]]\n",
      "[[ 40  50  70]\n",
      " [100 110 130]\n",
      " [560 800 900]]\n"
     ]
    }
   ],
   "source": [
    "print(X.shape)\n",
    "print(Y.shape)\n",
    "print(X)\n",
    "print(Y)"
   ]
  },
  {
   "cell_type": "code",
   "execution_count": 20,
   "metadata": {},
   "outputs": [
    {
     "name": "stdout",
     "output_type": "stream",
     "text": [
      "[[ 4020  5550  6330]\n",
      " [ 8780 12110 13830]\n",
      " [60640 83600 95320]]\n"
     ]
    }
   ],
   "source": [
    "prod = np.dot(X,Y)\n",
    "print(prod)"
   ]
  },
  {
   "cell_type": "markdown",
   "metadata": {},
   "source": [
    "<img src='../Images/06. Linear Algebra - Matrix and Hadamard Product/Image001.png'/>"
   ]
  },
  {
   "cell_type": "markdown",
   "metadata": {},
   "source": [
    "<img src='../Images/06. Linear Algebra - Matrix and Hadamard Product/Image002.png'/>"
   ]
  },
  {
   "cell_type": "code",
   "execution_count": 21,
   "metadata": {},
   "outputs": [
    {
     "name": "stdout",
     "output_type": "stream",
     "text": [
      "[[ 4  5  6]\n",
      " [10 11 13]\n",
      " [56 80 90]]\n",
      "[[1. 0. 0.]\n",
      " [0. 1. 0.]\n",
      " [0. 0. 1.]]\n"
     ]
    }
   ],
   "source": [
    "# Different from element wise multiplication\n",
    "X = np.array([[4,5,6],[10,11,13],[56,80,90]])\n",
    "Y = np.eye(3)\n",
    "print(X)\n",
    "print(Y)"
   ]
  },
  {
   "cell_type": "code",
   "execution_count": 22,
   "metadata": {},
   "outputs": [
    {
     "name": "stdout",
     "output_type": "stream",
     "text": [
      "[[ 4.  0.  0.]\n",
      " [ 0. 11.  0.]\n",
      " [ 0.  0. 90.]]\n"
     ]
    }
   ],
   "source": [
    "print(X*Y)"
   ]
  },
  {
   "cell_type": "code",
   "execution_count": 25,
   "metadata": {},
   "outputs": [
    {
     "name": "stdout",
     "output_type": "stream",
     "text": [
      "[[ 4  5  6]\n",
      " [10 11 13]\n",
      " [56 80 90]]\n",
      "[[7. 3. 3.]\n",
      " [3. 7. 3.]\n",
      " [3. 3. 7.]]\n"
     ]
    }
   ],
   "source": [
    "Y = Y*2\n",
    "Y = Y+1\n",
    "print(X)\n",
    "print(Y)"
   ]
  },
  {
   "cell_type": "code",
   "execution_count": 24,
   "metadata": {},
   "outputs": [
    {
     "name": "stdout",
     "output_type": "stream",
     "text": [
      "[[ 12.   5.   6.]\n",
      " [ 10.  33.  13.]\n",
      " [ 56.  80. 270.]]\n"
     ]
    }
   ],
   "source": [
    "print(X*Y)"
   ]
  },
  {
   "cell_type": "markdown",
   "metadata": {},
   "source": [
    "# 07. Linear Algebra - Norm of a Vector"
   ]
  },
  {
   "cell_type": "markdown",
   "metadata": {},
   "source": [
    "<img src='../Images/07. Linear Algebra - Norm of a Vector/Image001.png'/>\n",
    "<img src='../Images/07. Linear Algebra - Norm of a Vector/Image002.png'/>"
   ]
  },
  {
   "cell_type": "code",
   "execution_count": 28,
   "metadata": {},
   "outputs": [
    {
     "name": "stdout",
     "output_type": "stream",
     "text": [
      "11.575836902790225\n"
     ]
    }
   ],
   "source": [
    "x=np.array([-5,3,10])\n",
    "lp2=np.linalg.norm(x)\n",
    "print(lp2)"
   ]
  },
  {
   "cell_type": "code",
   "execution_count": 29,
   "metadata": {},
   "outputs": [
    {
     "name": "stdout",
     "output_type": "stream",
     "text": [
      "18.0\n"
     ]
    }
   ],
   "source": [
    "lp1=np.linalg.norm(x,ord=1)\n",
    "print(lp1)"
   ]
  },
  {
   "cell_type": "code",
   "execution_count": 30,
   "metadata": {},
   "outputs": [
    {
     "name": "stdout",
     "output_type": "stream",
     "text": [
      "10.0\n"
     ]
    }
   ],
   "source": [
    "lpinf=np.linalg.norm(x,ord=np.inf)\n",
    "print(lpinf)"
   ]
  },
  {
   "cell_type": "markdown",
   "metadata": {},
   "source": [
    "# 08. Linear Algebra - Broadcasting"
   ]
  },
  {
   "cell_type": "markdown",
   "metadata": {},
   "source": [
    "<img src='../Images/08. Linear Algebra - Broadcasting/Image001.png'/>"
   ]
  },
  {
   "cell_type": "code",
   "execution_count": 33,
   "metadata": {},
   "outputs": [
    {
     "ename": "TypeError",
     "evalue": "can only concatenate list (not \"int\") to list",
     "output_type": "error",
     "traceback": [
      "\u001b[0;31m---------------------------------------------------------------------------\u001b[0m",
      "\u001b[0;31mTypeError\u001b[0m                                 Traceback (most recent call last)",
      "\u001b[0;32m<ipython-input-33-80bec5b3dd69>\u001b[0m in \u001b[0;36m<module>\u001b[0;34m\u001b[0m\n\u001b[1;32m      1\u001b[0m \u001b[0ml\u001b[0m\u001b[0;34m=\u001b[0m\u001b[0;34m[\u001b[0m\u001b[0;36m1\u001b[0m\u001b[0;34m,\u001b[0m\u001b[0;36m2\u001b[0m\u001b[0;34m,\u001b[0m\u001b[0;36m3\u001b[0m\u001b[0;34m,\u001b[0m\u001b[0;36m4\u001b[0m\u001b[0;34m]\u001b[0m\u001b[0;34m\u001b[0m\u001b[0;34m\u001b[0m\u001b[0m\n\u001b[0;32m----> 2\u001b[0;31m \u001b[0ml\u001b[0m\u001b[0;34m=\u001b[0m\u001b[0ml\u001b[0m\u001b[0;34m+\u001b[0m\u001b[0;36m1\u001b[0m\u001b[0;34m\u001b[0m\u001b[0;34m\u001b[0m\u001b[0m\n\u001b[0m\u001b[1;32m      3\u001b[0m \u001b[0mprint\u001b[0m\u001b[0;34m(\u001b[0m\u001b[0ml\u001b[0m\u001b[0;34m)\u001b[0m\u001b[0;34m\u001b[0m\u001b[0;34m\u001b[0m\u001b[0m\n\u001b[1;32m      4\u001b[0m \u001b[0ml\u001b[0m\u001b[0;34m=\u001b[0m\u001b[0ml\u001b[0m\u001b[0;34m**\u001b[0m\u001b[0;36m2\u001b[0m\u001b[0;34m\u001b[0m\u001b[0;34m\u001b[0m\u001b[0m\n\u001b[1;32m      5\u001b[0m \u001b[0mprint\u001b[0m\u001b[0;34m(\u001b[0m\u001b[0ml\u001b[0m\u001b[0;34m)\u001b[0m\u001b[0;34m\u001b[0m\u001b[0;34m\u001b[0m\u001b[0m\n",
      "\u001b[0;31mTypeError\u001b[0m: can only concatenate list (not \"int\") to list"
     ]
    }
   ],
   "source": [
    "l=[1,2,3,4]\n",
    "l=l+1\n",
    "print(l)\n",
    "l=l**2\n",
    "print(l)"
   ]
  },
  {
   "cell_type": "code",
   "execution_count": 31,
   "metadata": {},
   "outputs": [
    {
     "name": "stdout",
     "output_type": "stream",
     "text": [
      "[2 3 4 5]\n",
      "[ 4  9 16 25]\n"
     ]
    }
   ],
   "source": [
    "l=[1,2,3,4]\n",
    "l=np.array(l)\n",
    "l=l+1\n",
    "print(l)\n",
    "l=l**2\n",
    "print(l)"
   ]
  },
  {
   "cell_type": "code",
   "execution_count": 32,
   "metadata": {},
   "outputs": [
    {
     "name": "stdout",
     "output_type": "stream",
     "text": [
      "[[ 2  3  4  5]\n",
      " [ 7  8  9 10]]\n",
      "[[ 1  4  9 16]\n",
      " [36 49 64 81]]\n",
      "[[1.         1.41421356 1.73205081 2.        ]\n",
      " [2.44948974 2.64575131 2.82842712 3.        ]]\n"
     ]
    }
   ],
   "source": [
    "l=[[1,2,3,4],[6,7,8,9]]\n",
    "l=np.array(l)\n",
    "print(l+1)\n",
    "print(l**2)\n",
    "print(np.sqrt(l))"
   ]
  },
  {
   "cell_type": "markdown",
   "metadata": {},
   "source": [
    "# 09. Quiz on Basics of Linear Algebra"
   ]
  },
  {
   "cell_type": "markdown",
   "metadata": {},
   "source": [
    "<img src='../Images/09. Quiz on Basics of Linear Algebra/Image001.png'/>\n",
    "<img src='../Images/09. Quiz on Basics of Linear Algebra/Image002.png'/>\n",
    "<img src='../Images/09. Quiz on Basics of Linear Algebra/Image003.png'/>\n",
    "<img src='../Images/09. Quiz on Basics of Linear Algebra/Image004.png'/>\n",
    "<img src='../Images/09. Quiz on Basics of Linear Algebra/Image005.png'/>\n",
    "<img src='../Images/09. Quiz on Basics of Linear Algebra/Image006.png'/>"
   ]
  }
 ],
 "metadata": {
  "kernelspec": {
   "display_name": "Python 3",
   "language": "python",
   "name": "python3"
  },
  "language_info": {
   "codemirror_mode": {
    "name": "ipython",
    "version": 3
   },
   "file_extension": ".py",
   "mimetype": "text/x-python",
   "name": "python",
   "nbconvert_exporter": "python",
   "pygments_lexer": "ipython3",
   "version": "3.6.9"
  }
 },
 "nbformat": 4,
 "nbformat_minor": 2
}
