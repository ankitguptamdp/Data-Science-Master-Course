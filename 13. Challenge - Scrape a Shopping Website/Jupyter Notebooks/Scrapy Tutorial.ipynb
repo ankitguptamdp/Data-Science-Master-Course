{
 "cells": [
  {
   "cell_type": "markdown",
   "metadata": {},
   "source": [
    "# 01. Web Scraping, Spiders and Crawling"
   ]
  },
  {
   "cell_type": "markdown",
   "metadata": {},
   "source": [
    "<img src='../Images/01. Web Scraping, Spiders and Crawling/Image1.png'/>\n",
    "<img src='../Images/01. Web Scraping, Spiders and Crawling/Image2.png'/>\n",
    "<img src='../Images/01. Web Scraping, Spiders and Crawling/Image3.png'/>"
   ]
  },
  {
   "cell_type": "markdown",
   "metadata": {},
   "source": [
    "# 02. How does Web Scraping work"
   ]
  },
  {
   "cell_type": "markdown",
   "metadata": {},
   "source": [
    "<img src='../Images/02. How does Web Scraping work/Image1.png'/>\n",
    "<img src='../Images/02. How does Web Scraping work/Image2.png'/>\n",
    "<img src='../Images/02. How does Web Scraping work/Image3.png'/>\n",
    "<img src='../Images/02. How does Web Scraping work/Image4.png'/>"
   ]
  },
  {
   "cell_type": "markdown",
   "metadata": {},
   "source": [
    "# 03. Robots.txt and Web Scraping Rules"
   ]
  },
  {
   "cell_type": "markdown",
   "metadata": {},
   "source": [
    "<img src='../Images/03. Robots.txt and Web Scraping Rules/Image1.png'/>"
   ]
  },
  {
   "cell_type": "markdown",
   "metadata": {},
   "source": [
    "# 04. Installation with Pycharm"
   ]
  },
  {
   "cell_type": "markdown",
   "metadata": {},
   "source": [
    "<img src='../Images/04. Installation with Pycharm/Image1.png'/>\n",
    "<img src='../Images/04. Installation with Pycharm/Image2.png'/>\n",
    "<img src='../Images/04. Installation with Pycharm/Image3.png'/>\n",
    "<img src='../Images/04. Installation with Pycharm/Image4.png'/>"
   ]
  },
  {
   "cell_type": "markdown",
   "metadata": {},
   "source": [
    "# 05. Installation with Terminal - Sublime"
   ]
  },
  {
   "cell_type": "markdown",
   "metadata": {},
   "source": [
    "<img src='../Images/05. Installation with Terminal - Sublime/Image1.png'/>\n",
    "<img src='../Images/05. Installation with Terminal - Sublime/Image2.png'/>\n",
    "<img src='../Images/05. Installation with Terminal - Sublime/Image3.png'/>\n",
    "<img src='../Images/05. Installation with Terminal - Sublime/Image4.png'/>\n",
    "<img src='../Images/05. Installation with Terminal - Sublime/Image5.png'/>\n",
    "<img src='../Images/05. Installation with Terminal - Sublime/Image6.png'/>"
   ]
  },
  {
   "cell_type": "markdown",
   "metadata": {},
   "source": [
    "# 06. Project Structure in Scrapy"
   ]
  },
  {
   "cell_type": "markdown",
   "metadata": {},
   "source": [
    "<img src='../Images/06. Project Structure in Scrapy/Image1.png'/>\n",
    "<img src='../Images/06. Project Structure in Scrapy/Image2.png'/>\n",
    "<img src='../Images/06. Project Structure in Scrapy/Image3.png'/>\n",
    "<img src='../Images/06. Project Structure in Scrapy/Image4.png'/>\n",
    "<img src='../Images/06. Project Structure in Scrapy/Image5.png'/>\n",
    "<img src='../Images/06. Project Structure in Scrapy/Image6.png'/>\n",
    "<img src='../Images/06. Project Structure in Scrapy/Image7.png'/>"
   ]
  },
  {
   "cell_type": "markdown",
   "metadata": {},
   "source": [
    "# 07. Creating our first spider ( web crawler )"
   ]
  },
  {
   "cell_type": "markdown",
   "metadata": {},
   "source": [
    "<img src='../Images/07. Creating our first spider ( web crawler )/Image1.png'/>\n",
    "<img src='../Images/07. Creating our first spider ( web crawler )/Image1.png'/>\n",
    "<img src='../Images/07. Creating our first spider ( web crawler )/Image1.png'/>"
   ]
  },
  {
   "cell_type": "markdown",
   "metadata": {},
   "source": [
    "# 08. Running our first spider ( web crawler )"
   ]
  },
  {
   "cell_type": "markdown",
   "metadata": {},
   "source": [
    "<img src='../Images/08. Running our first spider ( web crawler )/Image1.png'/>\n",
    "<img src='../Images/08. Running our first spider ( web crawler )/Image2.png'/>\n",
    "<img src='../Images/08. Running our first spider ( web crawler )/Image3.png'/>\n",
    "<img src='../Images/08. Running our first spider ( web crawler )/Image4.png'/>\n",
    "<img src='../Images/08. Running our first spider ( web crawler )/Image5.png'/>\n",
    "<img src='../Images/08. Running our first spider ( web crawler )/Image6.png'/>"
   ]
  },
  {
   "cell_type": "markdown",
   "metadata": {},
   "source": [
    "# 09. Extracting data w- CSS Selectors"
   ]
  },
  {
   "cell_type": "markdown",
   "metadata": {},
   "source": [
    "<img src='../Images/09. Extracting data w- CSS Selectors/Image1.png'/>\n",
    "<img src='../Images/09. Extracting data w- CSS Selectors/Image2.png'/>\n",
    "<img src='../Images/09. Extracting data w- CSS Selectors/Image3.png'/>\n",
    "<img src='../Images/09. Extracting data w- CSS Selectors/Image4.png'/>\n",
    "<img src='../Images/09. Extracting data w- CSS Selectors/Image5.png'/>\n",
    "<img src='../Images/09. Extracting data w- CSS Selectors/Image6.png'/>\n",
    "<img src='../Images/09. Extracting data w- CSS Selectors/Image7.png'/>\n",
    "<img src='../Images/09. Extracting data w- CSS Selectors/Image8.png'/>"
   ]
  },
  {
   "cell_type": "markdown",
   "metadata": {},
   "source": [
    "# 10. Extracting data w- XPATH"
   ]
  },
  {
   "cell_type": "markdown",
   "metadata": {},
   "source": [
    "<img src='../Images/10. Extracting data w- XPATH/Image1.png'/>\n",
    "<img src='../Images/10. Extracting data w- XPATH/Image2.png'/>\n",
    "<img src='../Images/10. Extracting data w- XPATH/Image3.png'/>\n",
    "<img src='../Images/10. Extracting data w- XPATH/Image4.png'/>\n",
    "<img src='../Images/10. Extracting data w- XPATH/Image5.png'/>\n",
    "<img src='../Images/10. Extracting data w- XPATH/Image6.png'/>"
   ]
  },
  {
   "cell_type": "markdown",
   "metadata": {},
   "source": [
    "# 11.  Web Scraping Quotes and Authors"
   ]
  },
  {
   "cell_type": "markdown",
   "metadata": {},
   "source": [
    "<img src='../Images/11.  Web Scraping Quotes and Authors/Image1.png'/>\n",
    "<img src='../Images/11.  Web Scraping Quotes and Authors/Image2.png'/>\n",
    "<img src='../Images/11.  Web Scraping Quotes and Authors/Image3.png'/>\n",
    "<img src='../Images/11.  Web Scraping Quotes and Authors/Image4.png'/>\n",
    "<img src='../Images/11.  Web Scraping Quotes and Authors/Image5.png'/>\n",
    "<img src='../Images/11.  Web Scraping Quotes and Authors/Image6.png'/>\n",
    "<img src='../Images/11.  Web Scraping Quotes and Authors/Image7.png'/>"
   ]
  },
  {
   "cell_type": "markdown",
   "metadata": {},
   "source": [
    "# 12. Item containers ( Storing scraped data )"
   ]
  },
  {
   "cell_type": "markdown",
   "metadata": {},
   "source": [
    "<img src='../Images/12. Item containers ( Storing scraped data )/Image1.png'/>\n",
    "<img src='../Images/12. Item containers ( Storing scraped data )/Image2.png'/>\n",
    "<img src='../Images/12. Item containers ( Storing scraped data )/Image3.png'/>"
   ]
  },
  {
   "cell_type": "markdown",
   "metadata": {},
   "source": [
    "# 13. Storing in JSON, XML and CSV"
   ]
  },
  {
   "cell_type": "markdown",
   "metadata": {},
   "source": [
    "<img src='../Images/13. Storing in JSON, XML and CSV/Image1.png'/>\n",
    "<img src='../Images/13. Storing in JSON, XML and CSV/Image2.png'/>\n",
    "<img src='../Images/13. Storing in JSON, XML and CSV/Image3.png'/>\n",
    "<img src='../Images/13. Storing in JSON, XML and CSV/Image4.png'/>\n",
    "<img src='../Images/13. Storing in JSON, XML and CSV/Image5.png'/>\n",
    "<img src='../Images/13. Storing in JSON, XML and CSV/Image6.png'/>"
   ]
  },
  {
   "cell_type": "markdown",
   "metadata": {},
   "source": [
    "# 14. Pipelines in Web Scraping"
   ]
  },
  {
   "cell_type": "markdown",
   "metadata": {},
   "source": [
    "<img src='../Images/14. Pipelines in Web Scraping/Image1.png'/>\n",
    "<img src='../Images/14. Pipelines in Web Scraping/Image2.png'/>\n",
    "<img src='../Images/14. Pipelines in Web Scraping/Image3.png'/>\n",
    "<img src='../Images/14. Pipelines in Web Scraping/Image4.png'/>\n",
    "<img src='../Images/14. Pipelines in Web Scraping/Image5.png'/>\n",
    "<img src='../Images/14. Pipelines in Web Scraping/Image6.png'/>\n",
    "<img src='../Images/14. Pipelines in Web Scraping/Image7.png'/>"
   ]
  },
  {
   "cell_type": "markdown",
   "metadata": {},
   "source": [
    "# 15. Basics of SQLite3 database"
   ]
  },
  {
   "cell_type": "markdown",
   "metadata": {},
   "source": [
    "<img src='../Images/15. Basics of SQLite3 database/Image1.png'/>\n",
    "<img src='../Images/15. Basics of SQLite3 database/Image2.png'/>\n",
    "<img src='../Images/15. Basics of SQLite3 database/Image3.png'/>\n",
    "<img src='../Images/15. Basics of SQLite3 database/Image4.png'/>\n",
    "<img src='../Images/15. Basics of SQLite3 database/Image5.png'/>\n",
    "<img src='../Images/15. Basics of SQLite3 database/Image6.png'/>"
   ]
  },
  {
   "cell_type": "markdown",
   "metadata": {},
   "source": [
    "# 16. Storing data in Sqlite3 Database"
   ]
  },
  {
   "cell_type": "markdown",
   "metadata": {},
   "source": [
    "<img src='../Images/16. Storing data in Sqlite3 Database/Image1.png'/>\n",
    "<img src='../Images/16. Storing data in Sqlite3 Database/Image2.png'/>\n",
    "<img src='../Images/16. Storing data in Sqlite3 Database/Image3.png'/>"
   ]
  },
  {
   "cell_type": "markdown",
   "metadata": {},
   "source": [
    "# 17. Storing data in MySQL Database"
   ]
  },
  {
   "cell_type": "markdown",
   "metadata": {},
   "source": [
    "<img src='../Images/17. Storing data in MySQL Database/Image1.png'/>\n",
    "<img src='../Images/17. Storing data in MySQL Database/Image2.png'/>\n",
    "<img src='../Images/17. Storing data in MySQL Database/Image3.png'/>\n",
    "<img src='../Images/17. Storing data in MySQL Database/Image4.png'/>"
   ]
  },
  {
   "cell_type": "markdown",
   "metadata": {},
   "source": [
    "# 18. Storing data in MongoDB"
   ]
  },
  {
   "cell_type": "markdown",
   "metadata": {},
   "source": [
    "<img src='../Images/18. Storing data in MongoDB/Image1.png'/>\n",
    "<img src='../Images/18. Storing data in MongoDB/Image2.png'/>\n",
    "<img src='../Images/18. Storing data in MongoDB/Image3.png'/>"
   ]
  },
  {
   "cell_type": "markdown",
   "metadata": {},
   "source": [
    "# 19. Web Crawling & Following links"
   ]
  },
  {
   "cell_type": "markdown",
   "metadata": {},
   "source": [
    "<img src='../Images/19. Web Crawling & Following links/Image1.png'/>"
   ]
  },
  {
   "cell_type": "markdown",
   "metadata": {},
   "source": [
    "# 20. Scraping Websites with Pagination"
   ]
  },
  {
   "cell_type": "markdown",
   "metadata": {},
   "source": [
    "<img src='../Images/20. Scraping Websites with Pagination/Image1.png'/>\n",
    "<img src='../Images/20. Scraping Websites with Pagination/Image2.png'/>"
   ]
  },
  {
   "cell_type": "markdown",
   "metadata": {},
   "source": [
    "# 21. Logging in with Scrapy FormRequest"
   ]
  },
  {
   "cell_type": "markdown",
   "metadata": {},
   "source": [
    "<img src='../Images/21. Logging in with Scrapy FormRequest/Image1.png'/>\n",
    "<img src='../Images/21. Logging in with Scrapy FormRequest/Image1.png'/>"
   ]
  },
  {
   "cell_type": "markdown",
   "metadata": {},
   "source": [
    "# 22. Web Scraping Amazon"
   ]
  },
  {
   "cell_type": "markdown",
   "metadata": {},
   "source": [
    "<img src='../Images/22. Web Scraping Amazon/Image1.png'/>\n",
    "<img src='../Images/22. Web Scraping Amazon/Image2.png'/>\n",
    "<img src='../Images/22. Web Scraping Amazon/Image3.png'/>\n",
    "<img src='../Images/22. Web Scraping Amazon/Image4.png'/>\n",
    "<img src='../Images/22. Web Scraping Amazon/Image5.png'/>\n",
    "<img src='../Images/22. Web Scraping Amazon/Image6.png'/>"
   ]
  },
  {
   "cell_type": "markdown",
   "metadata": {},
   "source": [
    "# 23. Bypass Restrictions using User-Agent"
   ]
  },
  {
   "cell_type": "markdown",
   "metadata": {},
   "source": [
    "<img src='../Images/23. Bypass Restrictions using User-Agent/Image1.png'/>\n",
    "<img src='../Images/23. Bypass Restrictions using User-Agent/Image2.png'/>\n",
    "<img src='../Images/23. Bypass Restrictions using User-Agent/Image3.png'/>\n",
    "<img src='../Images/23. Bypass Restrictions using User-Agent/Image4.png'/>\n",
    "<img src='../Images/23. Bypass Restrictions using User-Agent/Image5.png'/>\n",
    "<img src='../Images/23. Bypass Restrictions using User-Agent/Image6.png'/>\n",
    "<img src='../Images/23. Bypass Restrictions using User-Agent/Image7.png'/>"
   ]
  },
  {
   "cell_type": "markdown",
   "metadata": {},
   "source": [
    "# 24. Bypass Restrictions using Proxies"
   ]
  },
  {
   "cell_type": "markdown",
   "metadata": {},
   "source": [
    "<img src='../Images/24. Bypass Restrictions using Proxies/Image1.png'/>\n",
    "<img src='../Images/24. Bypass Restrictions using Proxies/Image2.png'/>\n",
    "<img src='../Images/24. Bypass Restrictions using Proxies/Image3.png'/>\n",
    "<img src='../Images/24. Bypass Restrictions using Proxies/Image4.png'/>\n",
    "<img src='../Images/24. Bypass Restrictions using Proxies/Image5.png'/>\n",
    "<img src='../Images/24. Bypass Restrictions using Proxies/Image6.png'/>\n",
    "<img src='../Images/24. Bypass Restrictions using Proxies/Image7.png'/>"
   ]
  },
  {
   "cell_type": "markdown",
   "metadata": {},
   "source": [
    "# 25. Scraping multiple pages of Amazon"
   ]
  },
  {
   "cell_type": "markdown",
   "metadata": {},
   "source": [
    "<img src='../Images/25. Scraping multiple pages of Amazon/Image1.png'/>\n",
    "<img src='../Images/25. Scraping multiple pages of Amazon/Image2.png'/>\n",
    "<img src='../Images/25. Scraping multiple pages of Amazon/Image3.png'/>\n",
    "<img src='../Images/25. Scraping multiple pages of Amazon/Image4.png'/>"
   ]
  }
 ],
 "metadata": {
  "kernelspec": {
   "display_name": "Python 3",
   "language": "python",
   "name": "python3"
  },
  "language_info": {
   "codemirror_mode": {
    "name": "ipython",
    "version": 3
   },
   "file_extension": ".py",
   "mimetype": "text/x-python",
   "name": "python",
   "nbconvert_exporter": "python",
   "pygments_lexer": "ipython3",
   "version": "3.6.8"
  }
 },
 "nbformat": 4,
 "nbformat_minor": 2
}
