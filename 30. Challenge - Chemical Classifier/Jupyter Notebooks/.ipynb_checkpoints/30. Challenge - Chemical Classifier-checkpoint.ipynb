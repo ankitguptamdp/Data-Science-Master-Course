{
 "cells": [
  {
   "cell_type": "markdown",
   "metadata": {},
   "source": [
    "# 01. Challenge - Chemicals Segregation"
   ]
  },
  {
   "cell_type": "code",
   "execution_count": 1,
   "metadata": {},
   "outputs": [],
   "source": [
    "import pandas as pd\n",
    "import numpy as np\n",
    "import matplotlib.pyplot as plt"
   ]
  },
  {
   "cell_type": "code",
   "execution_count": 2,
   "metadata": {},
   "outputs": [],
   "source": [
    "X_train = pd.read_csv('../Csv Files/Logistic_X_Train.csv').values\n",
    "Y_train = pd.read_csv('../Csv Files/Logistic_Y_Train.csv').values"
   ]
  },
  {
   "cell_type": "code",
   "execution_count": 3,
   "metadata": {},
   "outputs": [],
   "source": [
    "def hypothesis(x,w,b):\n",
    "    return sigmoid(np.dot(x,w) + b)\n",
    "\n",
    "def sigmoid(z):\n",
    "    return 1.0/(1.0 + np.exp(-1.0*z))\n",
    "\n",
    "def error(y_true,x,w,b):\n",
    "    m = x.shape[0]\n",
    "    err = 0.0\n",
    "    for i in range(m):\n",
    "        hx = hypothesis(x[i],w,b)\n",
    "        err += y_true[i]*np.log2(hx) + (1-y_true[i])*np.log2(1-hx)        \n",
    "    return -err/m\n",
    "\n",
    "def get_grads(y_true,x,w,b):\n",
    "    grad_w = np.zeros(w.shape)\n",
    "    grad_b = 0.0    \n",
    "    m = x.shape[0]\n",
    "    for i in range(m):\n",
    "        hx = hypothesis(x[i],w,b)\n",
    "        grad_w += (y_true[i] - hx)*x[i]\n",
    "        grad_b += (y_true[i]-hx)\n",
    "    grad_w /= m\n",
    "    grad_b /= m\n",
    "    return [grad_w,grad_b]\n",
    "\n",
    "# One iteration of Gradient Descent\n",
    "def grad_descent(x,y_true,w,b,learning_rate=0.1):\n",
    "    err = error(y_true,x,w,b)\n",
    "    [grad_w,grad_b] = get_grads(y_true,x,w,b)\n",
    "    w = w + learning_rate*grad_w\n",
    "    b = b + learning_rate*grad_b    \n",
    "    return err,w,b\n",
    "\n",
    "def predict(x,w,b):\n",
    "    confidence = hypothesis(x,w,b)\n",
    "    for i in range(len(confidence)):\n",
    "        if confidence[i]>0.5:\n",
    "            confidence[i] = 1\n",
    "        else :\n",
    "            confidence[i] = 0\n",
    "    return confidence.astype(int)"
   ]
  },
  {
   "cell_type": "code",
   "execution_count": 4,
   "metadata": {},
   "outputs": [],
   "source": [
    "loss = []\n",
    "w = np.random.random((X_train.shape[1],))\n",
    "b = np.random.random()\n",
    "for i in range(100):\n",
    "    l,w,b = grad_descent(X_train,Y_train,w,b,learning_rate=0.5)\n",
    "    loss.append(l)"
   ]
  },
  {
   "cell_type": "code",
   "execution_count": 5,
   "metadata": {
    "scrolled": true
   },
   "outputs": [
    {
     "data": {
      "text/plain": [
       "[<matplotlib.lines.Line2D at 0x7ff3a99e9cf8>]"
      ]
     },
     "execution_count": 5,
     "metadata": {},
     "output_type": "execute_result"
    },
    {
     "data": {
      "image/png": "[encoded data removed]",
      "text/plain": [
       "<Figure size 432x288 with 1 Axes>"
      ]
     },
     "metadata": {},
     "output_type": "display_data"
    }
   ],
   "source": [
    "plt.plot(loss)"
   ]
  },
  {
   "cell_type": "code",
   "execution_count": 6,
   "metadata": {},
   "outputs": [],
   "source": [
    "X_test = pd.read_csv('../Csv Files/Logistic_X_Test.csv').values\n",
    "Y_test = predict(X_test,w,b)"
   ]
  },
  {
   "cell_type": "code",
   "execution_count": 7,
   "metadata": {},
   "outputs": [],
   "source": [
    "df = pd.DataFrame(data=Y_test,columns=['label'])"
   ]
  },
  {
   "cell_type": "code",
   "execution_count": 8,
   "metadata": {},
   "outputs": [],
   "source": [
    "df.to_csv('../Csv Files/Y_prediction.csv',index=False)"
   ]
  },
  {
   "cell_type": "markdown",
   "metadata": {},
   "source": [
    "<img src='../Images/01. Challenge - Chemicals Segregation/Image001.png'/>\n",
    "<img src='../Images/01. Challenge - Chemicals Segregation/Image002.png'/>"
   ]
  },
  {
   "cell_type": "markdown",
   "metadata": {},
   "source": [
    "# 02. Quiz - Logistic Regression"
   ]
  },
  {
   "cell_type": "markdown",
   "metadata": {},
   "source": [
    "<img src='../Images/02. Quiz - Logistic Regression/Image001.png'/>\n",
    "<img src='../Images/02. Quiz - Logistic Regression/Image002.png'/>\n",
    "<img src='../Images/02. Quiz - Logistic Regression/Image003.png'/>\n",
    "<img src='../Images/02. Quiz - Logistic Regression/Image004.png'/>\n",
    "<img src='../Images/02. Quiz - Logistic Regression/Image005.png'/>\n",
    "<img src='../Images/02. Quiz - Logistic Regression/Image006.png'/>\n",
    "<img src='../Images/02. Quiz - Logistic Regression/Image007.png'/>\n",
    "<img src='../Images/02. Quiz - Logistic Regression/Image008.png'/>\n",
    "<img src='../Images/02. Quiz - Logistic Regression/Image009.png'/>\n",
    "<img src='../Images/02. Quiz - Logistic Regression/Image010.png'/>"
   ]
  }
 ],
 "metadata": {
  "kernelspec": {
   "display_name": "Python 3",
   "language": "python",
   "name": "python3"
  },
  "language_info": {
   "codemirror_mode": {
    "name": "ipython",
    "version": 3
   },
   "file_extension": ".py",
   "mimetype": "text/x-python",
   "name": "python",
   "nbconvert_exporter": "python",
   "pygments_lexer": "ipython3",
   "version": "3.6.9"
  }
 },
 "nbformat": 4,
 "nbformat_minor": 2
}
