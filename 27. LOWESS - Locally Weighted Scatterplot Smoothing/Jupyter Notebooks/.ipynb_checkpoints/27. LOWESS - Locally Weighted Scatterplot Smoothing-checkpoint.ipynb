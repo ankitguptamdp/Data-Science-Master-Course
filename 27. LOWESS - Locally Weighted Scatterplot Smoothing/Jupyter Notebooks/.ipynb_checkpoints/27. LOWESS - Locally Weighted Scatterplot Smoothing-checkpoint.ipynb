{
 "cells": [
  {
   "cell_type": "markdown",
   "metadata": {},
   "source": [
    "# 01. Closed Form Solution of Linear Regression"
   ]
  },
  {
   "cell_type": "markdown",
   "metadata": {},
   "source": [
    "<img src = '../Images/01. Closed Form Solution of Linear Regression/Image001.png'/>\n",
    "<img src = '../Images/01. Closed Form Solution of Linear Regression/Image002.png'/>\n",
    "<img src = '../Images/01. Closed Form Solution of Linear Regression/Image003.png'/>\n",
    "<img src = '../Images/01. Closed Form Solution of Linear Regression/Image004.png'/>\n",
    "<img src = '../Images/01. Closed Form Solution of Linear Regression/Image005.png'/>\n",
    "<img src = '../Images/01. Closed Form Solution of Linear Regression/Image006.png'/>\n",
    "<img src = '../Images/01. Closed Form Solution of Linear Regression/Image007.png'/>\n",
    "<img src = '../Images/01. Closed Form Solution of Linear Regression/Image008.png'/>\n",
    "<img src = '../Images/01. Closed Form Solution of Linear Regression/Image009.png'/>\n",
    "<img src = '../Images/01. Closed Form Solution of Linear Regression/Image010.png'/>\n",
    "<img src = '../Images/01. Closed Form Solution of Linear Regression/Image011.png'/>\n",
    "<img src = '../Images/01. Closed Form Solution of Linear Regression/Image012.png'/>\n",
    "<img src = '../Images/01. Closed Form Solution of Linear Regression/Image013.png'/>\n",
    "<img src = '../Images/01. Closed Form Solution of Linear Regression/Image014.png'/>\n",
    "<img src = '../Images/01. Closed Form Solution of Linear Regression/Image015.png'/>\n",
    "<img src = '../Images/01. Closed Form Solution of Linear Regression/Image016.png'/>\n",
    "<img src = '../Images/01. Closed Form Solution of Linear Regression/Image017.png'/>"
   ]
  },
  {
   "cell_type": "markdown",
   "metadata": {},
   "source": [
    "# 02. Closed Form Solution - Code Tutorial"
   ]
  },
  {
   "cell_type": "code",
   "execution_count": 1,
   "metadata": {},
   "outputs": [],
   "source": [
    "import numpy as np\n",
    "import matplotlib.pyplot as plt\n",
    "import pandas as pd\n",
    "from sklearn.datasets import make_regression"
   ]
  },
  {
   "cell_type": "code",
   "execution_count": 2,
   "metadata": {},
   "outputs": [
    {
     "name": "stdout",
     "output_type": "stream",
     "text": [
      "(400, 1)\n",
      "(400,)\n"
     ]
    }
   ],
   "source": [
    "# Generate Dataset\n",
    "X,Y = make_regression(n_samples=400,n_features=1,n_informative=1,noise=1.8,random_state=11)\n",
    "\n",
    "print(X.shape)\n",
    "print(Y.shape)"
   ]
  },
  {
   "cell_type": "code",
   "execution_count": 3,
   "metadata": {},
   "outputs": [
    {
     "name": "stdout",
     "output_type": "stream",
     "text": [
      "(400, 1)\n",
      "(400, 1)\n"
     ]
    }
   ],
   "source": [
    "Y = Y.reshape((-1,1))\n",
    "print(X.shape)\n",
    "print(Y.shape)"
   ]
  },
  {
   "cell_type": "code",
   "execution_count": 4,
   "metadata": {},
   "outputs": [],
   "source": [
    "# Normalize\n",
    "X = (X-X.mean())/X.std()"
   ]
  },
  {
   "cell_type": "code",
   "execution_count": 5,
   "metadata": {},
   "outputs": [
    {
     "data": {
      "image/png": "[encoded data removed]",
      "text/plain": [
       "<Figure size 432x288 with 1 Axes>"
      ]
     },
     "metadata": {},
     "output_type": "display_data"
    }
   ],
   "source": [
    "# Visualize\n",
    "plt.figure()\n",
    "plt.scatter(X,Y)\n",
    "plt.title(\"Normalized Data\")\n",
    "plt.show()"
   ]
  },
  {
   "cell_type": "code",
   "execution_count": 6,
   "metadata": {},
   "outputs": [
    {
     "name": "stdout",
     "output_type": "stream",
     "text": [
      "(400, 2)\n",
      "[[-0.86881353  1.        ]\n",
      " [ 1.04796658  1.        ]\n",
      " [-0.2019676   1.        ]\n",
      " [-0.34017061  1.        ]\n",
      " [ 0.13317349  1.        ]]\n"
     ]
    }
   ],
   "source": [
    "ones = np.ones((X.shape[0],1))\n",
    "X_ = np.hstack((X,ones))\n",
    "print(X_.shape)\n",
    "print(X_[:5,:])"
   ]
  },
  {
   "cell_type": "code",
   "execution_count": 7,
   "metadata": {},
   "outputs": [],
   "source": [
    "def predict(X,theta):\n",
    "    return np.dot(X,theta)\n",
    "\n",
    "def getThetaClosedForm(X,Y):\n",
    "    firstPart = np.dot(X.T,X)\n",
    "    secondPart = np.dot(X.T,Y)\n",
    "    theta = np.linalg.pinv(firstPart)*secondPart # Pseudo Inverse\n",
    "    return theta"
   ]
  },
  {
   "cell_type": "code",
   "execution_count": 8,
   "metadata": {},
   "outputs": [
    {
     "name": "stdout",
     "output_type": "stream",
     "text": [
      "[[ 1.94587708e+01  5.61692960e-16]\n",
      " [ 8.42531822e-18 -2.91878923e-01]]\n"
     ]
    }
   ],
   "source": [
    "theta = getThetaClosedForm(X_,Y)\n",
    "print(theta)"
   ]
  },
  {
   "cell_type": "code",
   "execution_count": 11,
   "metadata": {},
   "outputs": [],
   "source": [
    "def predict(X,theta):\n",
    "    return np.dot(X,theta)\n",
    "\n",
    "def getThetaClosedForm(X,Y):\n",
    "    Y = np.mat(Y) # Converting Y into matrix\n",
    "    firstPart = np.dot(X.T,X)\n",
    "    secondPart = np.dot(X.T,Y)\n",
    "    theta = np.linalg.pinv(firstPart)*secondPart # Pseudo Inverse\n",
    "    return theta"
   ]
  },
  {
   "cell_type": "code",
   "execution_count": 12,
   "metadata": {},
   "outputs": [
    {
     "name": "stdout",
     "output_type": "stream",
     "text": [
      "[[19.45877082]\n",
      " [-0.29187892]]\n"
     ]
    }
   ],
   "source": [
    "theta = getThetaClosedForm(X_,Y)\n",
    "print(theta)"
   ]
  },
  {
   "cell_type": "code",
   "execution_count": 14,
   "metadata": {},
   "outputs": [
    {
     "data": {
      "image/png": "[encoded data removed]",
      "text/plain": [
       "<Figure size 432x288 with 1 Axes>"
      ]
     },
     "metadata": {},
     "output_type": "display_data"
    }
   ],
   "source": [
    "# Visualize\n",
    "plt.figure()\n",
    "plt.scatter(X,Y)\n",
    "plt.plot(X,predict(X_,theta),color='red',label='Prediction')\n",
    "plt.title(\"Normalized Data\")\n",
    "plt.legend()\n",
    "plt.show()"
   ]
  },
  {
   "cell_type": "markdown",
   "metadata": {},
   "source": [
    "<img src = '../Images/02. Closed Form Solution - Code Tutorial/Image001.png'/>\n",
    "<img src = '../Images/02. Closed Form Solution - Code Tutorial/Image002.png'/>\n",
    "<img src = '../Images/02. Closed Form Solution - Code Tutorial/Image003.png'/>\n",
    "<img src = '../Images/02. Closed Form Solution - Code Tutorial/Image004.png'/>\n",
    "<img src = '../Images/02. Closed Form Solution - Code Tutorial/Image005.png'/>\n",
    "<img src = '../Images/02. Closed Form Solution - Code Tutorial/Image006.png'/>\n",
    "<img src = '../Images/02. Closed Form Solution - Code Tutorial/Image007.png'/>\n",
    "<img src = '../Images/02. Closed Form Solution - Code Tutorial/Image008.png'/>"
   ]
  },
  {
   "cell_type": "markdown",
   "metadata": {},
   "source": [
    "# 03. Closed Form Solution - Derivation Notes"
   ]
  },
  {
   "cell_type": "markdown",
   "metadata": {},
   "source": [
    "# 04. LOWESS - Locally Weighted Scatterplot Smoothing"
   ]
  },
  {
   "cell_type": "markdown",
   "metadata": {},
   "source": [
    "<img src='../Images/04. LOWESS - Locally Weighted Scatterplot Smoothing/Image001.png'/>\n",
    "<img src='../Images/04. LOWESS - Locally Weighted Scatterplot Smoothing/Image002.png'/>\n",
    "<img src='../Images/04. LOWESS - Locally Weighted Scatterplot Smoothing/Image003.png'/>\n",
    "<img src='../Images/04. LOWESS - Locally Weighted Scatterplot Smoothing/Image004.png'/>\n",
    "<img src='../Images/04. LOWESS - Locally Weighted Scatterplot Smoothing/Image005.png'/>\n",
    "<img src='../Images/04. LOWESS - Locally Weighted Scatterplot Smoothing/Image006.png'/>\n",
    "<img src='../Images/04. LOWESS - Locally Weighted Scatterplot Smoothing/Image007.png'/>\n",
    "<img src='../Images/04. LOWESS - Locally Weighted Scatterplot Smoothing/Image008.png'/>"
   ]
  },
  {
   "cell_type": "markdown",
   "metadata": {},
   "source": [
    "# 05. Deriving Closed Form Solution"
   ]
  },
  {
   "cell_type": "markdown",
   "metadata": {},
   "source": [
    "<img src = '../Images/05. Deriving Closed Form Solution/Image001.png'/>\n",
    "<img src = '../Images/05. Deriving Closed Form Solution/Image002.png'/>\n",
    "<img src = '../Images/05. Deriving Closed Form Solution/Image003.png'/>\n",
    "<img src = '../Images/05. Deriving Closed Form Solution/Image004.png'/>\n",
    "<img src = '../Images/05. Deriving Closed Form Solution/Image005.png'/>\n",
    "<img src = '../Images/05. Deriving Closed Form Solution/Image006.png'/>\n",
    "<img src = '../Images/05. Deriving Closed Form Solution/Image007.png'/>\n",
    "<img src = '../Images/05. Deriving Closed Form Solution/Image008.png'/>\n",
    "<img src = '../Images/05. Deriving Closed Form Solution/Image009.png'/>\n",
    "<img src = '../Images/05. Deriving Closed Form Solution/Image010.png'/>\n",
    "<img src = '../Images/05. Deriving Closed Form Solution/Image011.png'/>\n",
    "<img src = '../Images/05. Deriving Closed Form Solution/Image012.png'/>\n",
    "<img src = '../Images/05. Deriving Closed Form Solution/Image013.png'/>"
   ]
  },
  {
   "cell_type": "markdown",
   "metadata": {},
   "source": [
    "# 06. Data Preparation"
   ]
  },
  {
   "cell_type": "markdown",
   "metadata": {},
   "source": [
    "### Locally Weighted Regression\n",
    "1) Read and Normalise the Dataset\n",
    "\n",
    "2) Generate W for every query point !\n",
    "\n",
    "3) No training is involved, directly make predictions using closed form solution we derived! \n",
    "    - (X'WX)inv * (X'WY) where X' is X_Transpose\n",
    "    \n",
    "4) Find the best value of Tau(Bandwidth Parameter) [Cross Validation]"
   ]
  },
  {
   "cell_type": "markdown",
   "metadata": {},
   "source": [
    "### Loading Data"
   ]
  },
  {
   "cell_type": "code",
   "execution_count": 70,
   "metadata": {},
   "outputs": [],
   "source": [
    "import numpy as np\n",
    "import matplotlib.pyplot as plt\n",
    "import pandas as pd\n",
    "%matplotlib inline"
   ]
  },
  {
   "cell_type": "code",
   "execution_count": 71,
   "metadata": {},
   "outputs": [],
   "source": [
    "dfx = pd.read_csv('../Csv Files/weightedX.csv')\n",
    "dfy = pd.read_csv('../Csv Files/weightedY.csv')"
   ]
  },
  {
   "cell_type": "code",
   "execution_count": 72,
   "metadata": {},
   "outputs": [
    {
     "name": "stdout",
     "output_type": "stream",
     "text": [
      "(99, 1)\n",
      "(99, 1)\n"
     ]
    }
   ],
   "source": [
    "X = dfx.values\n",
    "Y = dfy.values\n",
    "print(X.shape)\n",
    "print(Y.shape)"
   ]
  },
  {
   "cell_type": "code",
   "execution_count": 73,
   "metadata": {
    "scrolled": true
   },
   "outputs": [
    {
     "name": "stdout",
     "output_type": "stream",
     "text": [
      "[[ 2.3348e+00]\n",
      " [ 1.3264e-01]\n",
      " [ 2.3470e+00]\n",
      " [ 6.7389e+00]\n",
      " [ 3.7089e+00]\n",
      " [ 1.1853e+01]\n",
      " [-1.8708e+00]\n",
      " [ 4.5025e+00]\n",
      " [ 3.2798e+00]\n",
      " [ 1.7573e+00]\n",
      " [ 3.3784e+00]\n",
      " [ 1.1470e+01]\n",
      " [ 9.0595e+00]\n",
      " [-2.8174e+00]\n",
      " [ 9.3184e+00]\n",
      " [ 8.4211e+00]\n",
      " [ 8.6215e-01]\n",
      " [ 7.5544e+00]\n",
      " [-3.9883e+00]\n",
      " [ 4.4970e+00]\n",
      " [ 8.3062e+00]\n",
      " [-2.6070e+00]\n",
      " [ 4.4801e+00]\n",
      " [-1.5074e+00]\n",
      " [ 9.6284e+00]\n",
      " [-6.2500e-01]\n",
      " [-2.8016e-01]\n",
      " [-1.0117e-01]\n",
      " [ 7.4912e+00]\n",
      " [ 3.4492e+00]\n",
      " [-4.0706e+00]\n",
      " [-1.7481e+00]\n",
      " [ 7.3176e+00]\n",
      " [ 1.1552e+01]\n",
      " [ 6.9763e+00]\n",
      " [ 8.6259e+00]\n",
      " [-1.4938e+00]\n",
      " [ 8.1353e+00]\n",
      " [ 9.8359e+00]\n",
      " [ 8.7256e+00]\n",
      " [ 7.8627e+00]\n",
      " [ 1.0378e+01]\n",
      " [ 2.1570e+00]\n",
      " [ 6.1928e+00]\n",
      " [-4.9780e+00]\n",
      " [ 1.1694e+01]\n",
      " [ 2.0093e+00]\n",
      " [ 9.0916e-01]\n",
      " [ 6.3589e+00]\n",
      " [ 2.5425e+00]\n",
      " [ 9.2778e+00]\n",
      " [ 4.0018e+00]\n",
      " [-6.2860e-01]\n",
      " [-2.3429e+00]\n",
      " [ 4.4829e+00]\n",
      " [ 1.1342e+01]\n",
      " [ 1.1172e+01]\n",
      " [ 7.4927e+00]\n",
      " [-1.2166e+00]\n",
      " [ 3.4427e+00]\n",
      " [-4.8806e+00]\n",
      " [ 3.7526e-01]\n",
      " [ 7.5531e+00]\n",
      " [ 8.4357e+00]\n",
      " [ 1.8048e+00]\n",
      " [ 1.7981e+00]\n",
      " [-7.2124e-01]\n",
      " [-3.4375e+00]\n",
      " [ 5.2375e+00]\n",
      " [ 9.1516e+00]\n",
      " [-1.0777e-02]\n",
      " [ 2.9141e+00]\n",
      " [-4.2260e+00]\n",
      " [-3.5427e+00]\n",
      " [ 3.7235e+00]\n",
      " [ 7.1623e+00]\n",
      " [-4.3976e+00]\n",
      " [ 1.1653e+01]\n",
      " [ 3.4566e+00]\n",
      " [ 6.9126e+00]\n",
      " [ 8.6532e+00]\n",
      " [ 3.7835e+00]\n",
      " [ 3.5459e+00]\n",
      " [ 7.8306e+00]\n",
      " [-9.5218e-01]\n",
      " [ 1.1032e+01]\n",
      " [-3.4934e+00]\n",
      " [ 4.2312e+00]\n",
      " [ 1.0359e+01]\n",
      " [ 9.6425e+00]\n",
      " [ 5.7352e+00]\n",
      " [-5.3982e-01]\n",
      " [ 1.4433e+00]\n",
      " [ 7.3450e-01]\n",
      " [ 3.4811e-01]\n",
      " [ 1.1101e+01]\n",
      " [ 4.0979e+00]\n",
      " [ 6.9332e+00]\n",
      " [ 9.8756e+00]]\n"
     ]
    }
   ],
   "source": [
    "print(X)"
   ]
  },
  {
   "cell_type": "code",
   "execution_count": 74,
   "metadata": {},
   "outputs": [],
   "source": [
    "# Normalize the data\n",
    "u = X.mean()\n",
    "std = Y.std()\n",
    "X = (X-u)/std"
   ]
  },
  {
   "cell_type": "code",
   "execution_count": 75,
   "metadata": {
    "scrolled": true
   },
   "outputs": [
    {
     "name": "stdout",
     "output_type": "stream",
     "text": [
      "[[-1.45392081]\n",
      " [-3.32998045]\n",
      " [-1.44352741]\n",
      " [ 2.29801105]\n",
      " [-0.28330035]\n",
      " [ 6.65480466]\n",
      " [-5.03674696]\n",
      " [ 0.39278174]\n",
      " [-0.64885834]\n",
      " [-1.94590343]\n",
      " [-0.56485923]\n",
      " [ 6.32852009]\n",
      " [ 4.27497186]\n",
      " [-5.8431725 ]\n",
      " [ 4.49553341]\n",
      " [ 3.73110743]\n",
      " [-2.70849779]\n",
      " [ 2.99275014]\n",
      " [-6.84068323]\n",
      " [ 0.38809619]\n",
      " [ 3.63322206]\n",
      " [-5.66392896]\n",
      " [ 0.37369878]\n",
      " [-4.72715998]\n",
      " [ 4.75962798]\n",
      " [-3.97542757]\n",
      " [-3.68165219]\n",
      " [-3.52916739]\n",
      " [ 2.93890893]\n",
      " [-0.50454344]\n",
      " [-6.91079608]\n",
      " [-4.93221663]\n",
      " [ 2.79101597]\n",
      " [ 6.39837736]\n",
      " [ 2.50025637]\n",
      " [ 3.90558023]\n",
      " [-4.71557389]\n",
      " [ 3.48762928]\n",
      " [ 4.93640096]\n",
      " [ 3.99051645]\n",
      " [ 3.25539645]\n",
      " [ 5.39822568]\n",
      " [-1.60539182]\n",
      " [ 1.83277866]\n",
      " [-7.68382643]\n",
      " [ 6.51934971]\n",
      " [-1.73122011]\n",
      " [-2.66844912]\n",
      " [ 1.97428223]\n",
      " [-1.27697745]\n",
      " [ 4.46094555]\n",
      " [-0.03377358]\n",
      " [-3.97849448]\n",
      " [-5.43893743]\n",
      " [ 0.37608415]\n",
      " [ 6.21947459]\n",
      " [ 6.07464853]\n",
      " [ 2.94018681]\n",
      " [-4.47942223]\n",
      " [-0.51008091]\n",
      " [-7.60084962]\n",
      " [-3.12328812]\n",
      " [ 2.99164265]\n",
      " [ 3.74354544]\n",
      " [-1.90543733]\n",
      " [-1.91114518]\n",
      " [-4.05741616]\n",
      " [-6.37144682]\n",
      " [ 1.01894143]\n",
      " [ 4.3534335 ]\n",
      " [-3.45215997]\n",
      " [-0.96040474]\n",
      " [-7.04318413]\n",
      " [-6.46106859]\n",
      " [-0.27086235]\n",
      " [ 2.65871311]\n",
      " [-7.18937325]\n",
      " [ 6.48442107]\n",
      " [-0.49823925]\n",
      " [ 2.4459892 ]\n",
      " [ 3.92883759]\n",
      " [-0.21974727]\n",
      " [-0.42216298]\n",
      " [ 3.22804988]\n",
      " [-4.25415809]\n",
      " [ 5.95538002]\n",
      " [-6.41906903]\n",
      " [ 0.1616564 ]\n",
      " [ 5.38203924]\n",
      " [ 4.77164002]\n",
      " [ 1.442941  ]\n",
      " [-3.9028612 ]\n",
      " [-2.21340567]\n",
      " [-2.81724511]\n",
      " [-3.14641769]\n",
      " [ 6.01416236]\n",
      " [ 0.04809573]\n",
      " [ 2.46353871]\n",
      " [ 4.9702221 ]]\n"
     ]
    }
   ],
   "source": [
    "print(X)"
   ]
  },
  {
   "cell_type": "code",
   "execution_count": 76,
   "metadata": {},
   "outputs": [
    {
     "data": {
      "image/png": "[encoded data removed]",
      "text/plain": [
       "<Figure size 576x396 with 1 Axes>"
      ]
     },
     "metadata": {},
     "output_type": "display_data"
    }
   ],
   "source": [
    "plt.style.use('seaborn')\n",
    "plt.title('Normalised Data')\n",
    "plt.scatter(X,Y)\n",
    "plt.show()"
   ]
  },
  {
   "cell_type": "markdown",
   "metadata": {},
   "source": [
    " <img src='../Images/06. Data Preparation/Image001.png'/>\n",
    " <img src='../Images/06. Data Preparation/Image002.png'/>"
   ]
  },
  {
   "cell_type": "markdown",
   "metadata": {},
   "source": [
    "# 07. Computing W"
   ]
  },
  {
   "cell_type": "markdown",
   "metadata": {},
   "source": [
    "### Find out W(m x m) diagonal matrix"
   ]
  },
  {
   "cell_type": "code",
   "execution_count": 28,
   "metadata": {},
   "outputs": [
    {
     "data": {
      "text/plain": [
       "array([[1., 0., 0., 0., 0.],\n",
       "       [0., 1., 0., 0., 0.],\n",
       "       [0., 0., 1., 0., 0.],\n",
       "       [0., 0., 0., 1., 0.],\n",
       "       [0., 0., 0., 0., 1.]])"
      ]
     },
     "execution_count": 28,
     "metadata": {},
     "output_type": "execute_result"
    }
   ],
   "source": [
    "np.eye(5)"
   ]
  },
  {
   "cell_type": "code",
   "execution_count": 29,
   "metadata": {},
   "outputs": [
    {
     "name": "stdout",
     "output_type": "stream",
     "text": [
      "<class 'numpy.ndarray'>\n"
     ]
    }
   ],
   "source": [
    "print(type(np.eye(5)))"
   ]
  },
  {
   "cell_type": "code",
   "execution_count": 30,
   "metadata": {},
   "outputs": [
    {
     "name": "stdout",
     "output_type": "stream",
     "text": [
      "<class 'numpy.matrix'>\n"
     ]
    }
   ],
   "source": [
    "print(type(np.mat(np.eye(5))))"
   ]
  },
  {
   "cell_type": "code",
   "execution_count": 31,
   "metadata": {},
   "outputs": [],
   "source": [
    "# a*b ==> a,b --> matrices --> Matrix Multiplication\n",
    "# a*b ==> a,b --> arrays --> Element wise"
   ]
  },
  {
   "cell_type": "code",
   "execution_count": 32,
   "metadata": {},
   "outputs": [],
   "source": [
    "def getWeightMatrix(query_point,X,tau):\n",
    "    M = X.shape[0]\n",
    "    W = np.mat(np.eye(M))\n",
    "    \n",
    "    for i in range(M):\n",
    "        xi = X[i]\n",
    "        x = query_point\n",
    "        W[i,i] = np.exp(np.dot((xi-x),(xi-x).T)/(-2*tau*tau))\n",
    "    return W"
   ]
  },
  {
   "cell_type": "code",
   "execution_count": 33,
   "metadata": {},
   "outputs": [
    {
     "name": "stdout",
     "output_type": "stream",
     "text": [
      "(99, 99)\n",
      "[[9.02107080e-01 0.00000000e+00 0.00000000e+00 ... 0.00000000e+00\n",
      "  0.00000000e+00 0.00000000e+00]\n",
      " [0.00000000e+00 6.62443926e-02 0.00000000e+00 ... 0.00000000e+00\n",
      "  0.00000000e+00 0.00000000e+00]\n",
      " [0.00000000e+00 0.00000000e+00 9.06324125e-01 ... 0.00000000e+00\n",
      "  0.00000000e+00 0.00000000e+00]\n",
      " ...\n",
      " [0.00000000e+00 0.00000000e+00 0.00000000e+00 ... 5.77381338e-01\n",
      "  0.00000000e+00 0.00000000e+00]\n",
      " [0.00000000e+00 0.00000000e+00 0.00000000e+00 ... 0.00000000e+00\n",
      "  2.48358997e-03 0.00000000e+00]\n",
      " [0.00000000e+00 0.00000000e+00 0.00000000e+00 ... 0.00000000e+00\n",
      "  0.00000000e+00 1.82012429e-08]]\n"
     ]
    }
   ],
   "source": [
    "X = np.mat(X)\n",
    "Y = np.mat(Y)\n",
    "M = X.shape[0]\n",
    "W = getWeightMatrix(-1,X,1)\n",
    "print(W.shape)\n",
    "print(W)"
   ]
  },
  {
   "cell_type": "code",
   "execution_count": 34,
   "metadata": {},
   "outputs": [
    {
     "name": "stdout",
     "output_type": "stream",
     "text": [
      "(99, 99)\n",
      "[[0.9999897  0.         0.         ... 0.         0.         0.        ]\n",
      " [0.         0.9997286  0.         ... 0.         0.         0.        ]\n",
      " [0.         0.         0.99999016 ... 0.         0.         0.        ]\n",
      " ...\n",
      " [0.         0.         0.         ... 0.99994508 0.         0.        ]\n",
      " [0.         0.         0.         ... 0.         0.99940037 0.        ]\n",
      " [0.         0.         0.         ... 0.         0.         0.99821941]]\n"
     ]
    }
   ],
   "source": [
    "W = getWeightMatrix(-1,X,100)\n",
    "print(W.shape)\n",
    "print(W)"
   ]
  },
  {
   "cell_type": "code",
   "execution_count": 35,
   "metadata": {},
   "outputs": [
    {
     "name": "stdout",
     "output_type": "stream",
     "text": [
      "(99, 99)\n",
      "[[6.62265857e-01 0.00000000e+00 0.00000000e+00 ... 0.00000000e+00\n",
      "  0.00000000e+00 0.00000000e+00]\n",
      " [0.00000000e+00 1.92573485e-05 0.00000000e+00 ... 0.00000000e+00\n",
      "  0.00000000e+00 0.00000000e+00]\n",
      " [0.00000000e+00 0.00000000e+00 6.74736435e-01 ... 0.00000000e+00\n",
      "  0.00000000e+00 0.00000000e+00]\n",
      " ...\n",
      " [0.00000000e+00 0.00000000e+00 0.00000000e+00 ... 1.11135030e-01\n",
      "  0.00000000e+00 0.00000000e+00]\n",
      " [0.00000000e+00 0.00000000e+00 0.00000000e+00 ... 0.00000000e+00\n",
      "  3.80469274e-11 0.00000000e+00]\n",
      " [0.00000000e+00 0.00000000e+00 0.00000000e+00 ... 0.00000000e+00\n",
      "  0.00000000e+00 1.09749912e-31]]\n"
     ]
    }
   ],
   "source": [
    "W = getWeightMatrix(-1,X,0.5)\n",
    "print(W.shape)\n",
    "print(W)"
   ]
  },
  {
   "cell_type": "markdown",
   "metadata": {},
   "source": [
    "<img src='../Images/07. Computing W/Image001.png'/>\n",
    "<img src='../Images/07. Computing W/Image002.png'/>\n",
    "<img src='../Images/07. Computing W/Image003.png'/>\n",
    "<img src='../Images/07. Computing W/Image004.png'/>"
   ]
  },
  {
   "cell_type": "markdown",
   "metadata": {},
   "source": [
    "# 08. Making Predictions"
   ]
  },
  {
   "cell_type": "code",
   "execution_count": 38,
   "metadata": {},
   "outputs": [],
   "source": [
    "def predict(X,Y,query_x,tau):\n",
    "    ones = np.ones((X.shape[0],1))\n",
    "    X_ = np.hstack((X,ones))\n",
    "    print(X_.shape)\n",
    "    print(X_[:5,:])"
   ]
  },
  {
   "cell_type": "code",
   "execution_count": 39,
   "metadata": {},
   "outputs": [
    {
     "name": "stdout",
     "output_type": "stream",
     "text": [
      "(99, 2)\n",
      "[[-1.45392081  1.        ]\n",
      " [-3.32998045  1.        ]\n",
      " [-1.44352741  1.        ]\n",
      " [ 2.29801105  1.        ]\n",
      " [-0.28330035  1.        ]]\n"
     ]
    }
   ],
   "source": [
    "predict(X,Y,1.0,1.0)"
   ]
  },
  {
   "cell_type": "code",
   "execution_count": 40,
   "metadata": {},
   "outputs": [],
   "source": [
    "def predict(X,Y,query_x,tau):\n",
    "    ones = np.ones((X.shape[0],1))\n",
    "    X_ = np.hstack((X,ones))\n",
    "    qx = np.mat([query_x,1])\n",
    "    W = getWeightMatrix(qx,X_,tau)\n",
    "    print(W.shape)"
   ]
  },
  {
   "cell_type": "code",
   "execution_count": 41,
   "metadata": {},
   "outputs": [
    {
     "name": "stdout",
     "output_type": "stream",
     "text": [
      "(99, 99)\n"
     ]
    }
   ],
   "source": [
    "predict(X,Y,1.0,1.0)"
   ]
  },
  {
   "cell_type": "code",
   "execution_count": 49,
   "metadata": {},
   "outputs": [],
   "source": [
    "def predict(X,Y,query_x,tau):\n",
    "    ones = np.ones((X.shape[0],1))\n",
    "    X_ = np.hstack((X,ones))\n",
    "    qx = np.mat([query_x,1])\n",
    "    W = getWeightMatrix(qx,X_,tau)\n",
    "\n",
    "    #theta = (X'WX)inv * (X'WY)\n",
    "    theta = np.linalg.pinv(X_.T*(W*X_))*(X_.T*(W*Y))\n",
    "    pred = np.dot(qx,theta)\n",
    "    return theta,pred"
   ]
  },
  {
   "cell_type": "code",
   "execution_count": 50,
   "metadata": {},
   "outputs": [
    {
     "name": "stdout",
     "output_type": "stream",
     "text": [
      "[[-0.20636214]\n",
      " [ 2.1384972 ]]\n",
      "(2, 1)\n"
     ]
    }
   ],
   "source": [
    "theta,pred = predict(X,Y,1.0,1.0)\n",
    "print(theta)\n",
    "print(theta.shape)"
   ]
  },
  {
   "cell_type": "code",
   "execution_count": 51,
   "metadata": {},
   "outputs": [
    {
     "data": {
      "text/plain": [
       "matrix([[1.93213506]])"
      ]
     },
     "execution_count": 51,
     "metadata": {},
     "output_type": "execute_result"
    }
   ],
   "source": [
    "pred"
   ]
  },
  {
   "cell_type": "markdown",
   "metadata": {},
   "source": [
    "<img src ='../Images/08. Making Predictions/Image001.png'/>\n",
    "<img src ='../Images/08. Making Predictions/Image002.png'/>\n",
    "<img src ='../Images/08. Making Predictions/Image003.png'/>\n",
    "<img src ='../Images/08. Making Predictions/Image004.png'/>"
   ]
  },
  {
   "cell_type": "markdown",
   "metadata": {},
   "source": [
    "# 09. Effect of Bandwidth Parameter"
   ]
  },
  {
   "cell_type": "code",
   "execution_count": 92,
   "metadata": {},
   "outputs": [],
   "source": [
    "def plotPrediction(tau):\n",
    "    X_test = np.linspace(-8,8,20)\n",
    "    Y_test = []\n",
    "    for xq in X_test:\n",
    "        theta,pred = predict(X,Y,xq,tau)\n",
    "        Y_test.append(pred[0][0])\n",
    "    Y_test = np.array(Y_test)\n",
    "    \n",
    "    XO = np.array(X)\n",
    "    YO = np.array(Y)\n",
    "    \n",
    "    plt.title('Tau/Bandwidth Parameter : %.2f'%tau)\n",
    "    plt.scatter(XO,YO)\n",
    "    plt.scatter(X_test,Y_test,color = 'red')\n",
    "    plt.show()"
   ]
  },
  {
   "cell_type": "code",
   "execution_count": 93,
   "metadata": {},
   "outputs": [
    {
     "data": {
      "image/png": "[encoded data removed]",
      "text/plain": [
       "<Figure size 576x396 with 1 Axes>"
      ]
     },
     "metadata": {},
     "output_type": "display_data"
    }
   ],
   "source": [
    "plotPrediction(1)"
   ]
  },
  {
   "cell_type": "code",
   "execution_count": 94,
   "metadata": {
    "scrolled": false
   },
   "outputs": [
    {
     "data": {
      "image/png": "[encoded data removed]",
      "text/plain": [
       "<Figure size 576x396 with 1 Axes>"
      ]
     },
     "metadata": {},
     "output_type": "display_data"
    },
    {
     "data": {
      "image/png": "[encoded data removed]",
      "text/plain": [
       "<Figure size 576x396 with 1 Axes>"
      ]
     },
     "metadata": {},
     "output_type": "display_data"
    },
    {
     "data": {
      "image/png": "[encoded data removed]",
      "text/plain": [
       "<Figure size 576x396 with 1 Axes>"
      ]
     },
     "metadata": {},
     "output_type": "display_data"
    },
    {
     "data": {
      "image/png": "[encoded data removed]",
      "text/plain": [
       "<Figure size 576x396 with 1 Axes>"
      ]
     },
     "metadata": {},
     "output_type": "display_data"
    },
    {
     "data": {
      "image/png": "[encoded data removed]",
      "text/plain": [
       "<Figure size 576x396 with 1 Axes>"
      ]
     },
     "metadata": {},
     "output_type": "display_data"
    },
    {
     "data": {
      "image/png": "[encoded data removed]",
      "text/plain": [
       "<Figure size 576x396 with 1 Axes>"
      ]
     },
     "metadata": {},
     "output_type": "display_data"
    }
   ],
   "source": [
    "taus = [0.1,1,2,5,10,100]\n",
    "for i in taus:\n",
    "    plotPrediction(i)"
   ]
  }
 ],
 "metadata": {
  "kernelspec": {
   "display_name": "Python 3",
   "language": "python",
   "name": "python3"
  },
  "language_info": {
   "codemirror_mode": {
    "name": "ipython",
    "version": 3
   },
   "file_extension": ".py",
   "mimetype": "text/x-python",
   "name": "python",
   "nbconvert_exporter": "python",
   "pygments_lexer": "ipython3",
   "version": "3.6.9"
  }
 },
 "nbformat": 4,
 "nbformat_minor": 2
}
